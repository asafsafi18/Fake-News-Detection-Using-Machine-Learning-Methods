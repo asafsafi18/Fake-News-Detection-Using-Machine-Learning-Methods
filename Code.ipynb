{
 "cells": [
  {
   "cell_type": "markdown",
   "metadata": {},
   "source": [
    "# Achraf Safsafi\n",
    "# DSC 680\n",
    "# Fake News Detection Using Machine Learning Methods"
   ]
  },
  {
   "cell_type": "markdown",
   "metadata": {},
   "source": [
    "## Import all libraries needed for the project"
   ]
  },
  {
   "cell_type": "code",
   "execution_count": 1,
   "metadata": {
    "pycharm": {
     "name": "#%%\n"
    }
   },
   "outputs": [],
   "source": [
    "import pandas as pd\n",
    "from pycaret.nlp import *\n",
    "import matplotlib.pyplot as plt"
   ]
  },
  {
   "cell_type": "markdown",
   "metadata": {},
   "source": [
    "# Data Understanding"
   ]
  },
  {
   "cell_type": "code",
   "execution_count": 2,
   "metadata": {
    "pycharm": {
     "name": "#%%\n"
    }
   },
   "outputs": [
    {
     "data": {
      "text/html": [
       "<div>\n",
       "<style scoped>\n",
       "    .dataframe tbody tr th:only-of-type {\n",
       "        vertical-align: middle;\n",
       "    }\n",
       "\n",
       "    .dataframe tbody tr th {\n",
       "        vertical-align: top;\n",
       "    }\n",
       "\n",
       "    .dataframe thead th {\n",
       "        text-align: right;\n",
       "    }\n",
       "</style>\n",
       "<table border=\"1\" class=\"dataframe\">\n",
       "  <thead>\n",
       "    <tr style=\"text-align: right;\">\n",
       "      <th></th>\n",
       "      <th>id</th>\n",
       "      <th>title</th>\n",
       "      <th>text</th>\n",
       "      <th>label</th>\n",
       "    </tr>\n",
       "  </thead>\n",
       "  <tbody>\n",
       "    <tr>\n",
       "      <th>0</th>\n",
       "      <td>8476</td>\n",
       "      <td>You Can Smell Hillary’s Fear</td>\n",
       "      <td>Daniel Greenfield, a Shillman Journalism Fello...</td>\n",
       "      <td>FAKE</td>\n",
       "    </tr>\n",
       "    <tr>\n",
       "      <th>1</th>\n",
       "      <td>10294</td>\n",
       "      <td>Watch The Exact Moment Paul Ryan Committed Pol...</td>\n",
       "      <td>Google Pinterest Digg Linkedin Reddit Stumbleu...</td>\n",
       "      <td>FAKE</td>\n",
       "    </tr>\n",
       "    <tr>\n",
       "      <th>2</th>\n",
       "      <td>3608</td>\n",
       "      <td>Kerry to go to Paris in gesture of sympathy</td>\n",
       "      <td>U.S. Secretary of State John F. Kerry said Mon...</td>\n",
       "      <td>REAL</td>\n",
       "    </tr>\n",
       "    <tr>\n",
       "      <th>3</th>\n",
       "      <td>10142</td>\n",
       "      <td>Bernie supporters on Twitter erupt in anger ag...</td>\n",
       "      <td>— Kaydee King (@KaydeeKing) November 9, 2016 T...</td>\n",
       "      <td>FAKE</td>\n",
       "    </tr>\n",
       "    <tr>\n",
       "      <th>4</th>\n",
       "      <td>875</td>\n",
       "      <td>The Battle of New York: Why This Primary Matters</td>\n",
       "      <td>It's primary day in New York and front-runners...</td>\n",
       "      <td>REAL</td>\n",
       "    </tr>\n",
       "  </tbody>\n",
       "</table>\n",
       "</div>"
      ],
      "text/plain": [
       "      id                                              title  \\\n",
       "0   8476                       You Can Smell Hillary’s Fear   \n",
       "1  10294  Watch The Exact Moment Paul Ryan Committed Pol...   \n",
       "2   3608        Kerry to go to Paris in gesture of sympathy   \n",
       "3  10142  Bernie supporters on Twitter erupt in anger ag...   \n",
       "4    875   The Battle of New York: Why This Primary Matters   \n",
       "\n",
       "                                                text label  \n",
       "0  Daniel Greenfield, a Shillman Journalism Fello...  FAKE  \n",
       "1  Google Pinterest Digg Linkedin Reddit Stumbleu...  FAKE  \n",
       "2  U.S. Secretary of State John F. Kerry said Mon...  REAL  \n",
       "3  — Kaydee King (@KaydeeKing) November 9, 2016 T...  FAKE  \n",
       "4  It's primary day in New York and front-runners...  REAL  "
      ]
     },
     "execution_count": 2,
     "metadata": {},
     "output_type": "execute_result"
    }
   ],
   "source": [
    "# import and read data\n",
    "data = 'news.csv'\n",
    "df = pd.read_csv(data)\n",
    "df.head()"
   ]
  },
  {
   "cell_type": "code",
   "execution_count": 3,
   "metadata": {
    "pycharm": {
     "name": "#%%\n"
    }
   },
   "outputs": [
    {
     "data": {
      "text/plain": [
       "(6335, 4)"
      ]
     },
     "execution_count": 3,
     "metadata": {},
     "output_type": "execute_result"
    }
   ],
   "source": [
    "# data frame shape\n",
    "df.shape"
   ]
  },
  {
   "cell_type": "code",
   "execution_count": 4,
   "metadata": {
    "pycharm": {
     "name": "#%%\n"
    }
   },
   "outputs": [
    {
     "name": "stdout",
     "output_type": "stream",
     "text": [
      "<class 'pandas.core.frame.DataFrame'>\n",
      "RangeIndex: 6335 entries, 0 to 6334\n",
      "Data columns (total 4 columns):\n",
      " #   Column  Non-Null Count  Dtype \n",
      "---  ------  --------------  ----- \n",
      " 0   id      6335 non-null   int64 \n",
      " 1   title   6335 non-null   object\n",
      " 2   text    6335 non-null   object\n",
      " 3   label   6335 non-null   object\n",
      "dtypes: int64(1), object(3)\n",
      "memory usage: 198.1+ KB\n"
     ]
    }
   ],
   "source": [
    "df.info()"
   ]
  },
  {
   "cell_type": "code",
   "execution_count": 5,
   "metadata": {
    "pycharm": {
     "name": "#%%\n"
    }
   },
   "outputs": [
    {
     "data": {
      "text/html": [
       "<div>\n",
       "<style scoped>\n",
       "    .dataframe tbody tr th:only-of-type {\n",
       "        vertical-align: middle;\n",
       "    }\n",
       "\n",
       "    .dataframe tbody tr th {\n",
       "        vertical-align: top;\n",
       "    }\n",
       "\n",
       "    .dataframe thead th {\n",
       "        text-align: right;\n",
       "    }\n",
       "</style>\n",
       "<table border=\"1\" class=\"dataframe\">\n",
       "  <thead>\n",
       "    <tr style=\"text-align: right;\">\n",
       "      <th></th>\n",
       "      <th>text</th>\n",
       "      <th>label</th>\n",
       "    </tr>\n",
       "  </thead>\n",
       "  <tbody>\n",
       "    <tr>\n",
       "      <th>0</th>\n",
       "      <td>Daniel Greenfield, a Shillman Journalism Fello...</td>\n",
       "      <td>FAKE</td>\n",
       "    </tr>\n",
       "    <tr>\n",
       "      <th>1</th>\n",
       "      <td>Google Pinterest Digg Linkedin Reddit Stumbleu...</td>\n",
       "      <td>FAKE</td>\n",
       "    </tr>\n",
       "    <tr>\n",
       "      <th>2</th>\n",
       "      <td>U.S. Secretary of State John F. Kerry said Mon...</td>\n",
       "      <td>REAL</td>\n",
       "    </tr>\n",
       "    <tr>\n",
       "      <th>3</th>\n",
       "      <td>— Kaydee King (@KaydeeKing) November 9, 2016 T...</td>\n",
       "      <td>FAKE</td>\n",
       "    </tr>\n",
       "    <tr>\n",
       "      <th>4</th>\n",
       "      <td>It's primary day in New York and front-runners...</td>\n",
       "      <td>REAL</td>\n",
       "    </tr>\n",
       "  </tbody>\n",
       "</table>\n",
       "</div>"
      ],
      "text/plain": [
       "                                                text label\n",
       "0  Daniel Greenfield, a Shillman Journalism Fello...  FAKE\n",
       "1  Google Pinterest Digg Linkedin Reddit Stumbleu...  FAKE\n",
       "2  U.S. Secretary of State John F. Kerry said Mon...  REAL\n",
       "3  — Kaydee King (@KaydeeKing) November 9, 2016 T...  FAKE\n",
       "4  It's primary day in New York and front-runners...  REAL"
      ]
     },
     "execution_count": 5,
     "metadata": {},
     "output_type": "execute_result"
    }
   ],
   "source": [
    "#columns needed\n",
    "df = df[['text','label']]\n",
    "df.head()"
   ]
  },
  {
   "cell_type": "code",
   "execution_count": 6,
   "metadata": {
    "pycharm": {
     "name": "#%%\n"
    }
   },
   "outputs": [
    {
     "data": {
      "text/plain": [
       "<seaborn.axisgrid.FacetGrid at 0x217c2d6e6d0>"
      ]
     },
     "execution_count": 6,
     "metadata": {},
     "output_type": "execute_result"
    },
    {
     "data": {
      "image/png": "[encoded data removed]",
      "text/plain": [
       "<Figure size 360x360 with 1 Axes>"
      ]
     },
     "metadata": {},
     "output_type": "display_data"
    }
   ],
   "source": [
    "#class distribution\n",
    "import seaborn as sns\n",
    "import matplotlib.pyplot as plt\n",
    "sns.set_theme(style=\"darkgrid\")\n",
    "sns.catplot(x=\"label\", kind=\"count\", palette=\"ch:s=.25\", data=df)"
   ]
  },
  {
   "cell_type": "code",
   "execution_count": 7,
   "metadata": {
    "pycharm": {
     "name": "#%%\n"
    }
   },
   "outputs": [
    {
     "name": "stdout",
     "output_type": "stream",
     "text": [
      "There are 29826765 words in the combination of all articles.\n"
     ]
    },
    {
     "data": {
      "text/plain": [
       "str"
      ]
     },
     "execution_count": 7,
     "metadata": {},
     "output_type": "execute_result"
    }
   ],
   "source": [
    "corups = \" \".join(t for t in df.text)\n",
    "print (\"There are {} words in the combination of all articles.\".format(len(corups)))\n"
   ]
  },
  {
   "cell_type": "code",
   "execution_count": 8,
   "metadata": {
    "pycharm": {
     "name": "#%%\n"
    }
   },
   "outputs": [
    {
     "data": {
      "image/png": "[encoded data removed]",
      "text/plain": [
       "<Figure size 1080x576 with 1 Axes>"
      ]
     },
     "metadata": {},
     "output_type": "display_data"
    }
   ],
   "source": [
    "#Word cloud before preprocessing\n",
    "# combine all articles into one big text and create a big fat cloud\n",
    "from wordcloud import WordCloud, STOPWORDS, ImageColorGenerator\n",
    "\n",
    "wordcloud = WordCloud(width = 800, height = 800,\n",
    "                background_color ='white', max_words=100,\n",
    "                      collocations= False,stopwords =[]).generate(corups)\n",
    "\n",
    "# Display the generated image:\n",
    "sns.set(rc = {'figure.figsize':(15,8)})\n",
    "plt.imshow(wordcloud, interpolation='bilinear')\n",
    "plt.axis(\"off\")\n",
    "plt.show()"
   ]
  },
  {
   "cell_type": "code",
   "execution_count": 9,
   "metadata": {
    "pycharm": {
     "name": "#%%\n"
    }
   },
   "outputs": [
    {
     "data": {
      "text/plain": [
       "Text(0, 0.5, 'Words')"
      ]
     },
     "execution_count": 9,
     "metadata": {},
     "output_type": "execute_result"
    },
    {
     "data": {
      "image/png": "[encoded data removed]",
      "text/plain": [
       "<Figure size 1080x576 with 1 Axes>"
      ]
     },
     "metadata": {},
     "output_type": "display_data"
    }
   ],
   "source": [
    "import collections\n",
    "import warnings\n",
    "warnings.filterwarnings(\"ignore\")\n",
    "\n",
    "corups1 = [word for word in corups.split()]# if word not in stopwords]\n",
    "counted_words = collections.Counter(corups1)\n",
    "\n",
    "words = []\n",
    "counts = []\n",
    "for letter, count in counted_words.most_common(20):\n",
    "    words.append(letter)\n",
    "    counts.append(count)\n",
    "    \n",
    "#colors = cm.rainbow(np.linspace(0, 1, 10))\n",
    "#rcParams['figure.figsize'] = 20, 10\n",
    "\n",
    "sns.barplot(words,counts,palette=\"ch:s=.25\")\n",
    "\n",
    "plt.title('Top words vs their count')\n",
    "plt.xlabel('Count')\n",
    "plt.ylabel('Words')\n",
    "#plt.barh(words, counts, color=\"b\")"
   ]
  },
  {
   "cell_type": "markdown",
   "metadata": {},
   "source": [
    "# Data Preparation"
   ]
  },
  {
   "cell_type": "code",
   "execution_count": 10,
   "metadata": {
    "pycharm": {
     "name": "#%%\n"
    }
   },
   "outputs": [
    {
     "data": {
      "text/html": [
       "<div>\n",
       "<style scoped>\n",
       "    .dataframe tbody tr th:only-of-type {\n",
       "        vertical-align: middle;\n",
       "    }\n",
       "\n",
       "    .dataframe tbody tr th {\n",
       "        vertical-align: top;\n",
       "    }\n",
       "\n",
       "    .dataframe thead th {\n",
       "        text-align: right;\n",
       "    }\n",
       "</style>\n",
       "<table border=\"1\" class=\"dataframe\">\n",
       "  <thead>\n",
       "    <tr style=\"text-align: right;\">\n",
       "      <th></th>\n",
       "      <th>text</th>\n",
       "      <th>label</th>\n",
       "    </tr>\n",
       "  </thead>\n",
       "  <tbody>\n",
       "    <tr>\n",
       "      <th>0</th>\n",
       "      <td>Daniel Greenfield, a Shillman Journalism Fello...</td>\n",
       "      <td>1</td>\n",
       "    </tr>\n",
       "    <tr>\n",
       "      <th>1</th>\n",
       "      <td>Google Pinterest Digg Linkedin Reddit Stumbleu...</td>\n",
       "      <td>1</td>\n",
       "    </tr>\n",
       "    <tr>\n",
       "      <th>2</th>\n",
       "      <td>U.S. Secretary of State John F. Kerry said Mon...</td>\n",
       "      <td>0</td>\n",
       "    </tr>\n",
       "    <tr>\n",
       "      <th>3</th>\n",
       "      <td>— Kaydee King (@KaydeeKing) November 9, 2016 T...</td>\n",
       "      <td>1</td>\n",
       "    </tr>\n",
       "    <tr>\n",
       "      <th>4</th>\n",
       "      <td>It's primary day in New York and front-runners...</td>\n",
       "      <td>0</td>\n",
       "    </tr>\n",
       "  </tbody>\n",
       "</table>\n",
       "</div>"
      ],
      "text/plain": [
       "                                                text  label\n",
       "0  Daniel Greenfield, a Shillman Journalism Fello...      1\n",
       "1  Google Pinterest Digg Linkedin Reddit Stumbleu...      1\n",
       "2  U.S. Secretary of State John F. Kerry said Mon...      0\n",
       "3  — Kaydee King (@KaydeeKing) November 9, 2016 T...      1\n",
       "4  It's primary day in New York and front-runners...      0"
      ]
     },
     "execution_count": 10,
     "metadata": {},
     "output_type": "execute_result"
    }
   ],
   "source": [
    "# Label Encoding\n",
    "df['label'] = df['label'].map({'FAKE':1, 'REAL':0})\n",
    "df.head()"
   ]
  },
  {
   "cell_type": "code",
   "execution_count": 11,
   "metadata": {
    "pycharm": {
     "name": "#%%\n"
    }
   },
   "outputs": [
    {
     "name": "stdout",
     "output_type": "stream",
     "text": [
      "<class 'pandas.core.frame.DataFrame'>\n",
      "RangeIndex: 6335 entries, 0 to 6334\n",
      "Data columns (total 2 columns):\n",
      " #   Column  Non-Null Count  Dtype \n",
      "---  ------  --------------  ----- \n",
      " 0   text    6335 non-null   object\n",
      " 1   label   6335 non-null   int64 \n",
      "dtypes: int64(1), object(1)\n",
      "memory usage: 99.1+ KB\n"
     ]
    }
   ],
   "source": [
    "df.info()"
   ]
  },
  {
   "cell_type": "code",
   "execution_count": 12,
   "metadata": {
    "pycharm": {
     "name": "#%%\n"
    }
   },
   "outputs": [
    {
     "data": {
      "text/html": [
       "<style  type=\"text/css\" >\n",
       "</style><table id=\"T_43145_\" ><thead>    <tr>        <th class=\"col_heading level0 col0\" >Description</th>        <th class=\"col_heading level0 col1\" >Value</th>    </tr></thead><tbody>\n",
       "                <tr>\n",
       "                                <td id=\"T_43145_row0_col0\" class=\"data row0 col0\" >session_id</td>\n",
       "                        <td id=\"T_43145_row0_col1\" class=\"data row0 col1\" >123</td>\n",
       "            </tr>\n",
       "            <tr>\n",
       "                                <td id=\"T_43145_row1_col0\" class=\"data row1 col0\" >Documents</td>\n",
       "                        <td id=\"T_43145_row1_col1\" class=\"data row1 col1\" >6335</td>\n",
       "            </tr>\n",
       "            <tr>\n",
       "                                <td id=\"T_43145_row2_col0\" class=\"data row2 col0\" >Vocab Size</td>\n",
       "                        <td id=\"T_43145_row2_col1\" class=\"data row2 col1\" >39885</td>\n",
       "            </tr>\n",
       "            <tr>\n",
       "                                <td id=\"T_43145_row3_col0\" class=\"data row3 col0\" >Custom Stopwords</td>\n",
       "                        <td id=\"T_43145_row3_col1\" class=\"data row3 col1\" >False</td>\n",
       "            </tr>\n",
       "    </tbody></table>"
      ],
      "text/plain": [
       "<pandas.io.formats.style.Styler at 0x21789210f40>"
      ]
     },
     "metadata": {},
     "output_type": "display_data"
    }
   ],
   "source": [
    "#text pre-processing  \n",
    "se = setup(data = df, target = 'text', log_experiment = True, experiment_name = 'fake_news',\n",
    "           session_id = 123)"
   ]
  },
  {
   "cell_type": "code",
   "execution_count": 13,
   "metadata": {
    "pycharm": {
     "name": "#%%\n"
    }
   },
   "outputs": [],
   "source": [
    "# Create a Topic Model\n",
    "lda = create_model('lda', multi_core = True)\n"
   ]
  },
  {
   "cell_type": "code",
   "execution_count": 14,
   "metadata": {
    "pycharm": {
     "name": "#%%\n"
    }
   },
   "outputs": [
    {
     "data": {
      "text/plain": [
       "<gensim.models.ldamulticore.LdaMulticore at 0x217c2f55e50>"
      ]
     },
     "execution_count": 14,
     "metadata": {},
     "output_type": "execute_result"
    }
   ],
   "source": [
    "lda"
   ]
  },
  {
   "cell_type": "code",
   "execution_count": 15,
   "metadata": {
    "pycharm": {
     "name": "#%%\n"
    }
   },
   "outputs": [],
   "source": [
    "# Intrinsic Evaluation using Coherence Value\n",
    "tuned_unsupervised = tune_model(model = 'lda', multi_core = True)"
   ]
  },
  {
   "cell_type": "code",
   "execution_count": 16,
   "metadata": {
    "pycharm": {
     "name": "#%%\n"
    }
   },
   "outputs": [],
   "source": [
    "lda1 = create_model('lda', num_topics = 32, multi_core = True)"
   ]
  },
  {
   "cell_type": "code",
   "execution_count": 17,
   "metadata": {
    "pycharm": {
     "name": "#%%\n"
    }
   },
   "outputs": [
    {
     "data": {
      "text/html": [
       "<div>\n",
       "<style scoped>\n",
       "    .dataframe tbody tr th:only-of-type {\n",
       "        vertical-align: middle;\n",
       "    }\n",
       "\n",
       "    .dataframe tbody tr th {\n",
       "        vertical-align: top;\n",
       "    }\n",
       "\n",
       "    .dataframe thead th {\n",
       "        text-align: right;\n",
       "    }\n",
       "</style>\n",
       "<table border=\"1\" class=\"dataframe\">\n",
       "  <thead>\n",
       "    <tr style=\"text-align: right;\">\n",
       "      <th></th>\n",
       "      <th>text</th>\n",
       "      <th>label</th>\n",
       "      <th>Topic_0</th>\n",
       "      <th>Topic_1</th>\n",
       "      <th>Topic_2</th>\n",
       "      <th>Topic_3</th>\n",
       "      <th>Topic_4</th>\n",
       "      <th>Topic_5</th>\n",
       "      <th>Topic_6</th>\n",
       "      <th>Topic_7</th>\n",
       "      <th>...</th>\n",
       "      <th>Topic_24</th>\n",
       "      <th>Topic_25</th>\n",
       "      <th>Topic_26</th>\n",
       "      <th>Topic_27</th>\n",
       "      <th>Topic_28</th>\n",
       "      <th>Topic_29</th>\n",
       "      <th>Topic_30</th>\n",
       "      <th>Topic_31</th>\n",
       "      <th>Dominant_Topic</th>\n",
       "      <th>Perc_Dominant_Topic</th>\n",
       "    </tr>\n",
       "  </thead>\n",
       "  <tbody>\n",
       "    <tr>\n",
       "      <th>0</th>\n",
       "      <td>writer focus election go word unprecedented th...</td>\n",
       "      <td>1</td>\n",
       "      <td>0.000074</td>\n",
       "      <td>0.272583</td>\n",
       "      <td>0.000074</td>\n",
       "      <td>0.000074</td>\n",
       "      <td>0.000074</td>\n",
       "      <td>0.000074</td>\n",
       "      <td>0.000074</td>\n",
       "      <td>0.000074</td>\n",
       "      <td>...</td>\n",
       "      <td>0.000074</td>\n",
       "      <td>0.000074</td>\n",
       "      <td>0.000074</td>\n",
       "      <td>0.149996</td>\n",
       "      <td>0.000074</td>\n",
       "      <td>0.000074</td>\n",
       "      <td>0.003525</td>\n",
       "      <td>0.000074</td>\n",
       "      <td>Topic 21</td>\n",
       "      <td>0.48</td>\n",
       "    </tr>\n",
       "    <tr>\n",
       "      <th>1</th>\n",
       "      <td>reddit_stumbleupon_print_delicious pocket_tumb...</td>\n",
       "      <td>1</td>\n",
       "      <td>0.000201</td>\n",
       "      <td>0.000201</td>\n",
       "      <td>0.000201</td>\n",
       "      <td>0.000201</td>\n",
       "      <td>0.000201</td>\n",
       "      <td>0.000201</td>\n",
       "      <td>0.000201</td>\n",
       "      <td>0.000201</td>\n",
       "      <td>...</td>\n",
       "      <td>0.000201</td>\n",
       "      <td>0.000201</td>\n",
       "      <td>0.000201</td>\n",
       "      <td>0.223115</td>\n",
       "      <td>0.000201</td>\n",
       "      <td>0.000201</td>\n",
       "      <td>0.000201</td>\n",
       "      <td>0.000201</td>\n",
       "      <td>Topic 21</td>\n",
       "      <td>0.69</td>\n",
       "    </tr>\n",
       "    <tr>\n",
       "      <th>2</th>\n",
       "      <td>say later week criticism top american official...</td>\n",
       "      <td>0</td>\n",
       "      <td>0.053661</td>\n",
       "      <td>0.000272</td>\n",
       "      <td>0.000272</td>\n",
       "      <td>0.000272</td>\n",
       "      <td>0.000272</td>\n",
       "      <td>0.137577</td>\n",
       "      <td>0.000272</td>\n",
       "      <td>0.000272</td>\n",
       "      <td>...</td>\n",
       "      <td>0.000272</td>\n",
       "      <td>0.000272</td>\n",
       "      <td>0.000272</td>\n",
       "      <td>0.163300</td>\n",
       "      <td>0.000272</td>\n",
       "      <td>0.000272</td>\n",
       "      <td>0.000272</td>\n",
       "      <td>0.335322</td>\n",
       "      <td>Topic 31</td>\n",
       "      <td>0.34</td>\n",
       "    </tr>\n",
       "    <tr>\n",
       "      <th>3</th>\n",
       "      <td>kaydeeke lesson tonight loss time start listen...</td>\n",
       "      <td>1</td>\n",
       "      <td>0.000230</td>\n",
       "      <td>0.143022</td>\n",
       "      <td>0.000230</td>\n",
       "      <td>0.000230</td>\n",
       "      <td>0.000230</td>\n",
       "      <td>0.000230</td>\n",
       "      <td>0.000230</td>\n",
       "      <td>0.054799</td>\n",
       "      <td>...</td>\n",
       "      <td>0.000230</td>\n",
       "      <td>0.000230</td>\n",
       "      <td>0.000230</td>\n",
       "      <td>0.038123</td>\n",
       "      <td>0.000230</td>\n",
       "      <td>0.000230</td>\n",
       "      <td>0.000230</td>\n",
       "      <td>0.000230</td>\n",
       "      <td>Topic 22</td>\n",
       "      <td>0.53</td>\n",
       "    </tr>\n",
       "    <tr>\n",
       "      <th>4</th>\n",
       "      <td>primary day lead poll trump vow win republican...</td>\n",
       "      <td>0</td>\n",
       "      <td>0.000289</td>\n",
       "      <td>0.000289</td>\n",
       "      <td>0.000289</td>\n",
       "      <td>0.000289</td>\n",
       "      <td>0.000289</td>\n",
       "      <td>0.000289</td>\n",
       "      <td>0.000289</td>\n",
       "      <td>0.000289</td>\n",
       "      <td>...</td>\n",
       "      <td>0.000289</td>\n",
       "      <td>0.000289</td>\n",
       "      <td>0.000289</td>\n",
       "      <td>0.000289</td>\n",
       "      <td>0.000289</td>\n",
       "      <td>0.000289</td>\n",
       "      <td>0.000289</td>\n",
       "      <td>0.000289</td>\n",
       "      <td>Topic 22</td>\n",
       "      <td>0.93</td>\n",
       "    </tr>\n",
       "  </tbody>\n",
       "</table>\n",
       "<p>5 rows × 36 columns</p>\n",
       "</div>"
      ],
      "text/plain": [
       "                                                text  label   Topic_0  \\\n",
       "0  writer focus election go word unprecedented th...      1  0.000074   \n",
       "1  reddit_stumbleupon_print_delicious pocket_tumb...      1  0.000201   \n",
       "2  say later week criticism top american official...      0  0.053661   \n",
       "3  kaydeeke lesson tonight loss time start listen...      1  0.000230   \n",
       "4  primary day lead poll trump vow win republican...      0  0.000289   \n",
       "\n",
       "    Topic_1   Topic_2   Topic_3   Topic_4   Topic_5   Topic_6   Topic_7  ...  \\\n",
       "0  0.272583  0.000074  0.000074  0.000074  0.000074  0.000074  0.000074  ...   \n",
       "1  0.000201  0.000201  0.000201  0.000201  0.000201  0.000201  0.000201  ...   \n",
       "2  0.000272  0.000272  0.000272  0.000272  0.137577  0.000272  0.000272  ...   \n",
       "3  0.143022  0.000230  0.000230  0.000230  0.000230  0.000230  0.054799  ...   \n",
       "4  0.000289  0.000289  0.000289  0.000289  0.000289  0.000289  0.000289  ...   \n",
       "\n",
       "   Topic_24  Topic_25  Topic_26  Topic_27  Topic_28  Topic_29  Topic_30  \\\n",
       "0  0.000074  0.000074  0.000074  0.149996  0.000074  0.000074  0.003525   \n",
       "1  0.000201  0.000201  0.000201  0.223115  0.000201  0.000201  0.000201   \n",
       "2  0.000272  0.000272  0.000272  0.163300  0.000272  0.000272  0.000272   \n",
       "3  0.000230  0.000230  0.000230  0.038123  0.000230  0.000230  0.000230   \n",
       "4  0.000289  0.000289  0.000289  0.000289  0.000289  0.000289  0.000289   \n",
       "\n",
       "   Topic_31  Dominant_Topic  Perc_Dominant_Topic  \n",
       "0  0.000074        Topic 21                 0.48  \n",
       "1  0.000201        Topic 21                 0.69  \n",
       "2  0.335322        Topic 31                 0.34  \n",
       "3  0.000230        Topic 22                 0.53  \n",
       "4  0.000289        Topic 22                 0.93  \n",
       "\n",
       "[5 rows x 36 columns]"
      ]
     },
     "execution_count": 17,
     "metadata": {},
     "output_type": "execute_result"
    }
   ],
   "source": [
    "#Assign a Model\n",
    "lda_results = assign_model(lda1)\n",
    "lda_results.head()"
   ]
  },
  {
   "cell_type": "code",
   "execution_count": 18,
   "metadata": {
    "pycharm": {
     "name": "#%%\n"
    }
   },
   "outputs": [
    {
     "data": {
      "text/html": [
       "        <script type=\"text/javascript\">\n",
       "        window.PlotlyConfig = {MathJaxConfig: 'local'};\n",
       "        if (window.MathJax) {MathJax.Hub.Config({SVG: {font: \"STIX-Web\"}});}\n",
       "        if (typeof require !== 'undefined') {\n",
       "        require.undef(\"plotly\");\n",
       "        requirejs.config({\n",
       "            paths: {\n",
       "                'plotly': ['https://cdn.plot.ly/plotly-latest.min']\n",
       "            }\n",
       "        });\n",
       "        require(['plotly'], function(Plotly) {\n",
       "            window._Plotly = Plotly;\n",
       "        });\n",
       "        }\n",
       "        </script>\n",
       "        "
      ]
     },
     "metadata": {},
     "output_type": "display_data"
    },
    {
     "data": {
      "application/vnd.plotly.v1+json": {
       "config": {
        "plotlyServerURL": "https://plot.ly"
       },
       "data": [
        {
         "alignmentgroup": "True",
         "customdata": [
          [
           "would, pay, year, money, plan, economy, government, job, tax, cost"
          ],
          [
           "email, report, investigation, election, information, official, say, know, use, campaign"
          ],
          [
           "white, black, people, immigrant, immigration, racial, racist, young, race, vote"
          ],
          [
           "potato, masked, harvest, irish, tv_station, blight, lead, help, look, abyss"
          ],
          [
           "say, force, isis, syrian, military, government, group, fight, war, terrorist"
          ],
          [
           "say, police, people, child, man, family, city, go, school, tell"
          ],
          [
           "percent, say, year, point, number, show, high, job, rate, support"
          ],
          [
           "party, polarization, political, partisan, polarize, ideological, politic, list, early, kill"
          ],
          [
           "comment, strong, dutch, polling_location, uranium, result, comet, name_link, indispensable, name"
          ],
          [
           "year, company, world, new, time, use, market, could, work, make"
          ],
          [
           "woman, say, make, tell, man, veteran, claim, comment, know, sex"
          ],
          [
           "prison, prisoner, escape, inmate, toilet, wall, cell, search, border, state"
          ],
          [
           "drug, government, battery, surveillance, police, pet, continue, state, use, moon"
          ],
          [
           "gun, firearm, buy, ammunition, purchase, license, film, sell, list, vaccination"
          ],
          [
           "help, fight, movement, please, liberal_media_bia, story_facebook_twitter, break, support, share, video"
          ],
          [
           "crime, charge, case, trial, criminal, prison, sentence, jail, federal, convict"
          ],
          [
           "say, would, official, vote, member, bill, year, make, go, also"
          ],
          [
           "state, law, court, say, case, government, federal, rule, legal, would"
          ],
          [
           "say, attack, kill, people, official, tell, police, authority, report, also"
          ],
          [
           "people, government, world, medium, power, american, system, control, war, elite"
          ],
          [
           "people, go, make, would, think, even, get, know, time, thing"
          ],
          [
           "trump, vote, election, voter, sander, candidate, state, party, campaign, democratic"
          ],
          [
           "support, report, refuel, put, onion, presidential, reportedly, moore, person, candidate"
          ],
          [
           "russian, military, say, report, official, plane, could, also, missile, would"
          ],
          [
           "forum, costume, pumpkin, wine, green, world, must, empire, ghost, winter"
          ],
          [
           "trump, say, campaign, candidate, debate, presidential, go, former, also, make"
          ],
          [
           "black, police_officer, people, miserable, police, handcuff, saakashvili, taser, police_department, nypd"
          ],
          [
           "use, food, study, health, body, also, find, cause, cancer, child"
          ],
          [
           "drug, medical, doctor, patient, disorder, treatment, use, test, may, health"
          ],
          [
           "country, would, say, deal, state, government, new, also, year, world"
          ]
         ],
         "hovertemplate": "Topic=%{x}<br>Documents=%{y}<br>Keyword=%{customdata[0]}<extra></extra>",
         "legendgroup": "",
         "marker": {
          "color": "#636efa"
         },
         "name": "",
         "offsetgroup": "",
         "orientation": "v",
         "showlegend": false,
         "textposition": "auto",
         "type": "bar",
         "x": [
          "Topic 0",
          "Topic 1",
          "Topic 2",
          "Topic 3",
          "Topic 4",
          "Topic 5",
          "Topic 7",
          "Topic 8",
          "Topic 9",
          "Topic 10",
          "Topic 11",
          "Topic 12",
          "Topic 13",
          "Topic 14",
          "Topic 15",
          "Topic 16",
          "Topic 17",
          "Topic 18",
          "Topic 19",
          "Topic 20",
          "Topic 21",
          "Topic 22",
          "Topic 23",
          "Topic 24",
          "Topic 26",
          "Topic 27",
          "Topic 28",
          "Topic 29",
          "Topic 30",
          "Topic 31"
         ],
         "xaxis": "x",
         "y": [
          219,
          569,
          24,
          5,
          132,
          354,
          131,
          66,
          14,
          373,
          74,
          5,
          5,
          11,
          10,
          46,
          255,
          146,
          204,
          168,
          1589,
          501,
          15,
          170,
          14,
          732,
          2,
          102,
          20,
          379
         ],
         "yaxis": "y"
        }
       ],
       "layout": {
        "barmode": "relative",
        "legend": {
         "tracegroupgap": 0
        },
        "template": {
         "data": {
          "bar": [
           {
            "error_x": {
             "color": "#2a3f5f"
            },
            "error_y": {
             "color": "#2a3f5f"
            },
            "marker": {
             "line": {
              "color": "#E5ECF6",
              "width": 0.5
             }
            },
            "type": "bar"
           }
          ],
          "barpolar": [
           {
            "marker": {
             "line": {
              "color": "#E5ECF6",
              "width": 0.5
             }
            },
            "type": "barpolar"
           }
          ],
          "carpet": [
           {
            "aaxis": {
             "endlinecolor": "#2a3f5f",
             "gridcolor": "white",
             "linecolor": "white",
             "minorgridcolor": "white",
             "startlinecolor": "#2a3f5f"
            },
            "baxis": {
             "endlinecolor": "#2a3f5f",
             "gridcolor": "white",
             "linecolor": "white",
             "minorgridcolor": "white",
             "startlinecolor": "#2a3f5f"
            },
            "type": "carpet"
           }
          ],
          "choropleth": [
           {
            "colorbar": {
             "outlinewidth": 0,
             "ticks": ""
            },
            "type": "choropleth"
           }
          ],
          "contour": [
           {
            "colorbar": {
             "outlinewidth": 0,
             "ticks": ""
            },
            "colorscale": [
             [
              0,
              "#0d0887"
             ],
             [
              0.1111111111111111,
              "#46039f"
             ],
             [
              0.2222222222222222,
              "#7201a8"
             ],
             [
              0.3333333333333333,
              "#9c179e"
             ],
             [
              0.4444444444444444,
              "#bd3786"
             ],
             [
              0.5555555555555556,
              "#d8576b"
             ],
             [
              0.6666666666666666,
              "#ed7953"
             ],
             [
              0.7777777777777778,
              "#fb9f3a"
             ],
             [
              0.8888888888888888,
              "#fdca26"
             ],
             [
              1,
              "#f0f921"
             ]
            ],
            "type": "contour"
           }
          ],
          "contourcarpet": [
           {
            "colorbar": {
             "outlinewidth": 0,
             "ticks": ""
            },
            "type": "contourcarpet"
           }
          ],
          "heatmap": [
           {
            "colorbar": {
             "outlinewidth": 0,
             "ticks": ""
            },
            "colorscale": [
             [
              0,
              "#0d0887"
             ],
             [
              0.1111111111111111,
              "#46039f"
             ],
             [
              0.2222222222222222,
              "#7201a8"
             ],
             [
              0.3333333333333333,
              "#9c179e"
             ],
             [
              0.4444444444444444,
              "#bd3786"
             ],
             [
              0.5555555555555556,
              "#d8576b"
             ],
             [
              0.6666666666666666,
              "#ed7953"
             ],
             [
              0.7777777777777778,
              "#fb9f3a"
             ],
             [
              0.8888888888888888,
              "#fdca26"
             ],
             [
              1,
              "#f0f921"
             ]
            ],
            "type": "heatmap"
           }
          ],
          "heatmapgl": [
           {
            "colorbar": {
             "outlinewidth": 0,
             "ticks": ""
            },
            "colorscale": [
             [
              0,
              "#0d0887"
             ],
             [
              0.1111111111111111,
              "#46039f"
             ],
             [
              0.2222222222222222,
              "#7201a8"
             ],
             [
              0.3333333333333333,
              "#9c179e"
             ],
             [
              0.4444444444444444,
              "#bd3786"
             ],
             [
              0.5555555555555556,
              "#d8576b"
             ],
             [
              0.6666666666666666,
              "#ed7953"
             ],
             [
              0.7777777777777778,
              "#fb9f3a"
             ],
             [
              0.8888888888888888,
              "#fdca26"
             ],
             [
              1,
              "#f0f921"
             ]
            ],
            "type": "heatmapgl"
           }
          ],
          "histogram": [
           {
            "marker": {
             "colorbar": {
              "outlinewidth": 0,
              "ticks": ""
             }
            },
            "type": "histogram"
           }
          ],
          "histogram2d": [
           {
            "colorbar": {
             "outlinewidth": 0,
             "ticks": ""
            },
            "colorscale": [
             [
              0,
              "#0d0887"
             ],
             [
              0.1111111111111111,
              "#46039f"
             ],
             [
              0.2222222222222222,
              "#7201a8"
             ],
             [
              0.3333333333333333,
              "#9c179e"
             ],
             [
              0.4444444444444444,
              "#bd3786"
             ],
             [
              0.5555555555555556,
              "#d8576b"
             ],
             [
              0.6666666666666666,
              "#ed7953"
             ],
             [
              0.7777777777777778,
              "#fb9f3a"
             ],
             [
              0.8888888888888888,
              "#fdca26"
             ],
             [
              1,
              "#f0f921"
             ]
            ],
            "type": "histogram2d"
           }
          ],
          "histogram2dcontour": [
           {
            "colorbar": {
             "outlinewidth": 0,
             "ticks": ""
            },
            "colorscale": [
             [
              0,
              "#0d0887"
             ],
             [
              0.1111111111111111,
              "#46039f"
             ],
             [
              0.2222222222222222,
              "#7201a8"
             ],
             [
              0.3333333333333333,
              "#9c179e"
             ],
             [
              0.4444444444444444,
              "#bd3786"
             ],
             [
              0.5555555555555556,
              "#d8576b"
             ],
             [
              0.6666666666666666,
              "#ed7953"
             ],
             [
              0.7777777777777778,
              "#fb9f3a"
             ],
             [
              0.8888888888888888,
              "#fdca26"
             ],
             [
              1,
              "#f0f921"
             ]
            ],
            "type": "histogram2dcontour"
           }
          ],
          "mesh3d": [
           {
            "colorbar": {
             "outlinewidth": 0,
             "ticks": ""
            },
            "type": "mesh3d"
           }
          ],
          "parcoords": [
           {
            "line": {
             "colorbar": {
              "outlinewidth": 0,
              "ticks": ""
             }
            },
            "type": "parcoords"
           }
          ],
          "pie": [
           {
            "automargin": true,
            "type": "pie"
           }
          ],
          "scatter": [
           {
            "marker": {
             "colorbar": {
              "outlinewidth": 0,
              "ticks": ""
             }
            },
            "type": "scatter"
           }
          ],
          "scatter3d": [
           {
            "line": {
             "colorbar": {
              "outlinewidth": 0,
              "ticks": ""
             }
            },
            "marker": {
             "colorbar": {
              "outlinewidth": 0,
              "ticks": ""
             }
            },
            "type": "scatter3d"
           }
          ],
          "scattercarpet": [
           {
            "marker": {
             "colorbar": {
              "outlinewidth": 0,
              "ticks": ""
             }
            },
            "type": "scattercarpet"
           }
          ],
          "scattergeo": [
           {
            "marker": {
             "colorbar": {
              "outlinewidth": 0,
              "ticks": ""
             }
            },
            "type": "scattergeo"
           }
          ],
          "scattergl": [
           {
            "marker": {
             "colorbar": {
              "outlinewidth": 0,
              "ticks": ""
             }
            },
            "type": "scattergl"
           }
          ],
          "scattermapbox": [
           {
            "marker": {
             "colorbar": {
              "outlinewidth": 0,
              "ticks": ""
             }
            },
            "type": "scattermapbox"
           }
          ],
          "scatterpolar": [
           {
            "marker": {
             "colorbar": {
              "outlinewidth": 0,
              "ticks": ""
             }
            },
            "type": "scatterpolar"
           }
          ],
          "scatterpolargl": [
           {
            "marker": {
             "colorbar": {
              "outlinewidth": 0,
              "ticks": ""
             }
            },
            "type": "scatterpolargl"
           }
          ],
          "scatterternary": [
           {
            "marker": {
             "colorbar": {
              "outlinewidth": 0,
              "ticks": ""
             }
            },
            "type": "scatterternary"
           }
          ],
          "surface": [
           {
            "colorbar": {
             "outlinewidth": 0,
             "ticks": ""
            },
            "colorscale": [
             [
              0,
              "#0d0887"
             ],
             [
              0.1111111111111111,
              "#46039f"
             ],
             [
              0.2222222222222222,
              "#7201a8"
             ],
             [
              0.3333333333333333,
              "#9c179e"
             ],
             [
              0.4444444444444444,
              "#bd3786"
             ],
             [
              0.5555555555555556,
              "#d8576b"
             ],
             [
              0.6666666666666666,
              "#ed7953"
             ],
             [
              0.7777777777777778,
              "#fb9f3a"
             ],
             [
              0.8888888888888888,
              "#fdca26"
             ],
             [
              1,
              "#f0f921"
             ]
            ],
            "type": "surface"
           }
          ],
          "table": [
           {
            "cells": {
             "fill": {
              "color": "#EBF0F8"
             },
             "line": {
              "color": "white"
             }
            },
            "header": {
             "fill": {
              "color": "#C8D4E3"
             },
             "line": {
              "color": "white"
             }
            },
            "type": "table"
           }
          ]
         },
         "layout": {
          "annotationdefaults": {
           "arrowcolor": "#2a3f5f",
           "arrowhead": 0,
           "arrowwidth": 1
          },
          "autotypenumbers": "strict",
          "coloraxis": {
           "colorbar": {
            "outlinewidth": 0,
            "ticks": ""
           }
          },
          "colorscale": {
           "diverging": [
            [
             0,
             "#8e0152"
            ],
            [
             0.1,
             "#c51b7d"
            ],
            [
             0.2,
             "#de77ae"
            ],
            [
             0.3,
             "#f1b6da"
            ],
            [
             0.4,
             "#fde0ef"
            ],
            [
             0.5,
             "#f7f7f7"
            ],
            [
             0.6,
             "#e6f5d0"
            ],
            [
             0.7,
             "#b8e186"
            ],
            [
             0.8,
             "#7fbc41"
            ],
            [
             0.9,
             "#4d9221"
            ],
            [
             1,
             "#276419"
            ]
           ],
           "sequential": [
            [
             0,
             "#0d0887"
            ],
            [
             0.1111111111111111,
             "#46039f"
            ],
            [
             0.2222222222222222,
             "#7201a8"
            ],
            [
             0.3333333333333333,
             "#9c179e"
            ],
            [
             0.4444444444444444,
             "#bd3786"
            ],
            [
             0.5555555555555556,
             "#d8576b"
            ],
            [
             0.6666666666666666,
             "#ed7953"
            ],
            [
             0.7777777777777778,
             "#fb9f3a"
            ],
            [
             0.8888888888888888,
             "#fdca26"
            ],
            [
             1,
             "#f0f921"
            ]
           ],
           "sequentialminus": [
            [
             0,
             "#0d0887"
            ],
            [
             0.1111111111111111,
             "#46039f"
            ],
            [
             0.2222222222222222,
             "#7201a8"
            ],
            [
             0.3333333333333333,
             "#9c179e"
            ],
            [
             0.4444444444444444,
             "#bd3786"
            ],
            [
             0.5555555555555556,
             "#d8576b"
            ],
            [
             0.6666666666666666,
             "#ed7953"
            ],
            [
             0.7777777777777778,
             "#fb9f3a"
            ],
            [
             0.8888888888888888,
             "#fdca26"
            ],
            [
             1,
             "#f0f921"
            ]
           ]
          },
          "colorway": [
           "#636efa",
           "#EF553B",
           "#00cc96",
           "#ab63fa",
           "#FFA15A",
           "#19d3f3",
           "#FF6692",
           "#B6E880",
           "#FF97FF",
           "#FECB52"
          ],
          "font": {
           "color": "#2a3f5f"
          },
          "geo": {
           "bgcolor": "white",
           "lakecolor": "white",
           "landcolor": "#E5ECF6",
           "showlakes": true,
           "showland": true,
           "subunitcolor": "white"
          },
          "hoverlabel": {
           "align": "left"
          },
          "hovermode": "closest",
          "mapbox": {
           "style": "light"
          },
          "paper_bgcolor": "white",
          "plot_bgcolor": "#E5ECF6",
          "polar": {
           "angularaxis": {
            "gridcolor": "white",
            "linecolor": "white",
            "ticks": ""
           },
           "bgcolor": "#E5ECF6",
           "radialaxis": {
            "gridcolor": "white",
            "linecolor": "white",
            "ticks": ""
           }
          },
          "scene": {
           "xaxis": {
            "backgroundcolor": "#E5ECF6",
            "gridcolor": "white",
            "gridwidth": 2,
            "linecolor": "white",
            "showbackground": true,
            "ticks": "",
            "zerolinecolor": "white"
           },
           "yaxis": {
            "backgroundcolor": "#E5ECF6",
            "gridcolor": "white",
            "gridwidth": 2,
            "linecolor": "white",
            "showbackground": true,
            "ticks": "",
            "zerolinecolor": "white"
           },
           "zaxis": {
            "backgroundcolor": "#E5ECF6",
            "gridcolor": "white",
            "gridwidth": 2,
            "linecolor": "white",
            "showbackground": true,
            "ticks": "",
            "zerolinecolor": "white"
           }
          },
          "shapedefaults": {
           "line": {
            "color": "#2a3f5f"
           }
          },
          "ternary": {
           "aaxis": {
            "gridcolor": "white",
            "linecolor": "white",
            "ticks": ""
           },
           "baxis": {
            "gridcolor": "white",
            "linecolor": "white",
            "ticks": ""
           },
           "bgcolor": "#E5ECF6",
           "caxis": {
            "gridcolor": "white",
            "linecolor": "white",
            "ticks": ""
           }
          },
          "title": {
           "x": 0.05
          },
          "xaxis": {
           "automargin": true,
           "gridcolor": "white",
           "linecolor": "white",
           "ticks": "",
           "title": {
            "standoff": 15
           },
           "zerolinecolor": "white",
           "zerolinewidth": 2
          },
          "yaxis": {
           "automargin": true,
           "gridcolor": "white",
           "linecolor": "white",
           "ticks": "",
           "title": {
            "standoff": 15
           },
           "zerolinecolor": "white",
           "zerolinewidth": 2
          }
         }
        },
        "title": {
         "text": "Document Distribution by Topics"
        },
        "xaxis": {
         "anchor": "y",
         "domain": [
          0,
          1
         ],
         "title": {
          "text": "Topic"
         }
        },
        "yaxis": {
         "anchor": "x",
         "domain": [
          0,
          1
         ],
         "title": {
          "text": "Documents"
         }
        }
       }
      },
      "text/html": [
       "<div>                            <div id=\"085c1d78-300e-4593-a030-b8780edd5b63\" class=\"plotly-graph-div\" style=\"height:525px; width:100%;\"></div>            <script type=\"text/javascript\">                require([\"plotly\"], function(Plotly) {                    window.PLOTLYENV=window.PLOTLYENV || {};                                    if (document.getElementById(\"085c1d78-300e-4593-a030-b8780edd5b63\")) {                    Plotly.newPlot(                        \"085c1d78-300e-4593-a030-b8780edd5b63\",                        [{\"alignmentgroup\": \"True\", \"customdata\": [[\"would, pay, year, money, plan, economy, government, job, tax, cost\"], [\"email, report, investigation, election, information, official, say, know, use, campaign\"], [\"white, black, people, immigrant, immigration, racial, racist, young, race, vote\"], [\"potato, masked, harvest, irish, tv_station, blight, lead, help, look, abyss\"], [\"say, force, isis, syrian, military, government, group, fight, war, terrorist\"], [\"say, police, people, child, man, family, city, go, school, tell\"], [\"percent, say, year, point, number, show, high, job, rate, support\"], [\"party, polarization, political, partisan, polarize, ideological, politic, list, early, kill\"], [\"comment, strong, dutch, polling_location, uranium, result, comet, name_link, indispensable, name\"], [\"year, company, world, new, time, use, market, could, work, make\"], [\"woman, say, make, tell, man, veteran, claim, comment, know, sex\"], [\"prison, prisoner, escape, inmate, toilet, wall, cell, search, border, state\"], [\"drug, government, battery, surveillance, police, pet, continue, state, use, moon\"], [\"gun, firearm, buy, ammunition, purchase, license, film, sell, list, vaccination\"], [\"help, fight, movement, please, liberal_media_bia, story_facebook_twitter, break, support, share, video\"], [\"crime, charge, case, trial, criminal, prison, sentence, jail, federal, convict\"], [\"say, would, official, vote, member, bill, year, make, go, also\"], [\"state, law, court, say, case, government, federal, rule, legal, would\"], [\"say, attack, kill, people, official, tell, police, authority, report, also\"], [\"people, government, world, medium, power, american, system, control, war, elite\"], [\"people, go, make, would, think, even, get, know, time, thing\"], [\"trump, vote, election, voter, sander, candidate, state, party, campaign, democratic\"], [\"support, report, refuel, put, onion, presidential, reportedly, moore, person, candidate\"], [\"russian, military, say, report, official, plane, could, also, missile, would\"], [\"forum, costume, pumpkin, wine, green, world, must, empire, ghost, winter\"], [\"trump, say, campaign, candidate, debate, presidential, go, former, also, make\"], [\"black, police_officer, people, miserable, police, handcuff, saakashvili, taser, police_department, nypd\"], [\"use, food, study, health, body, also, find, cause, cancer, child\"], [\"drug, medical, doctor, patient, disorder, treatment, use, test, may, health\"], [\"country, would, say, deal, state, government, new, also, year, world\"]], \"hovertemplate\": \"Topic=%{x}<br>Documents=%{y}<br>Keyword=%{customdata[0]}<extra></extra>\", \"legendgroup\": \"\", \"marker\": {\"color\": \"#636efa\"}, \"name\": \"\", \"offsetgroup\": \"\", \"orientation\": \"v\", \"showlegend\": false, \"textposition\": \"auto\", \"type\": \"bar\", \"x\": [\"Topic 0\", \"Topic 1\", \"Topic 2\", \"Topic 3\", \"Topic 4\", \"Topic 5\", \"Topic 7\", \"Topic 8\", \"Topic 9\", \"Topic 10\", \"Topic 11\", \"Topic 12\", \"Topic 13\", \"Topic 14\", \"Topic 15\", \"Topic 16\", \"Topic 17\", \"Topic 18\", \"Topic 19\", \"Topic 20\", \"Topic 21\", \"Topic 22\", \"Topic 23\", \"Topic 24\", \"Topic 26\", \"Topic 27\", \"Topic 28\", \"Topic 29\", \"Topic 30\", \"Topic 31\"], \"xaxis\": \"x\", \"y\": [219, 569, 24, 5, 132, 354, 131, 66, 14, 373, 74, 5, 5, 11, 10, 46, 255, 146, 204, 168, 1589, 501, 15, 170, 14, 732, 2, 102, 20, 379], \"yaxis\": \"y\"}],                        {\"barmode\": \"relative\", \"legend\": {\"tracegroupgap\": 0}, \"template\": {\"data\": {\"bar\": [{\"error_x\": {\"color\": \"#2a3f5f\"}, \"error_y\": {\"color\": \"#2a3f5f\"}, \"marker\": {\"line\": {\"color\": \"#E5ECF6\", \"width\": 0.5}}, \"type\": \"bar\"}], \"barpolar\": [{\"marker\": {\"line\": {\"color\": \"#E5ECF6\", \"width\": 0.5}}, \"type\": \"barpolar\"}], \"carpet\": [{\"aaxis\": {\"endlinecolor\": \"#2a3f5f\", \"gridcolor\": \"white\", \"linecolor\": \"white\", \"minorgridcolor\": \"white\", \"startlinecolor\": \"#2a3f5f\"}, \"baxis\": {\"endlinecolor\": \"#2a3f5f\", \"gridcolor\": \"white\", \"linecolor\": \"white\", \"minorgridcolor\": \"white\", \"startlinecolor\": \"#2a3f5f\"}, \"type\": \"carpet\"}], \"choropleth\": [{\"colorbar\": {\"outlinewidth\": 0, \"ticks\": \"\"}, \"type\": \"choropleth\"}], \"contour\": [{\"colorbar\": {\"outlinewidth\": 0, \"ticks\": \"\"}, \"colorscale\": [[0.0, \"#0d0887\"], [0.1111111111111111, \"#46039f\"], [0.2222222222222222, \"#7201a8\"], [0.3333333333333333, \"#9c179e\"], [0.4444444444444444, \"#bd3786\"], [0.5555555555555556, \"#d8576b\"], [0.6666666666666666, \"#ed7953\"], [0.7777777777777778, \"#fb9f3a\"], [0.8888888888888888, \"#fdca26\"], [1.0, \"#f0f921\"]], \"type\": \"contour\"}], \"contourcarpet\": [{\"colorbar\": {\"outlinewidth\": 0, \"ticks\": \"\"}, \"type\": \"contourcarpet\"}], \"heatmap\": [{\"colorbar\": {\"outlinewidth\": 0, \"ticks\": \"\"}, \"colorscale\": [[0.0, \"#0d0887\"], [0.1111111111111111, \"#46039f\"], [0.2222222222222222, \"#7201a8\"], [0.3333333333333333, \"#9c179e\"], [0.4444444444444444, \"#bd3786\"], [0.5555555555555556, \"#d8576b\"], [0.6666666666666666, \"#ed7953\"], [0.7777777777777778, \"#fb9f3a\"], [0.8888888888888888, \"#fdca26\"], [1.0, \"#f0f921\"]], \"type\": \"heatmap\"}], \"heatmapgl\": [{\"colorbar\": {\"outlinewidth\": 0, \"ticks\": \"\"}, \"colorscale\": [[0.0, \"#0d0887\"], [0.1111111111111111, \"#46039f\"], [0.2222222222222222, \"#7201a8\"], [0.3333333333333333, \"#9c179e\"], [0.4444444444444444, \"#bd3786\"], [0.5555555555555556, \"#d8576b\"], [0.6666666666666666, \"#ed7953\"], [0.7777777777777778, \"#fb9f3a\"], [0.8888888888888888, \"#fdca26\"], [1.0, \"#f0f921\"]], \"type\": \"heatmapgl\"}], \"histogram\": [{\"marker\": {\"colorbar\": {\"outlinewidth\": 0, \"ticks\": \"\"}}, \"type\": \"histogram\"}], \"histogram2d\": [{\"colorbar\": {\"outlinewidth\": 0, \"ticks\": \"\"}, \"colorscale\": [[0.0, \"#0d0887\"], [0.1111111111111111, \"#46039f\"], [0.2222222222222222, \"#7201a8\"], [0.3333333333333333, \"#9c179e\"], [0.4444444444444444, \"#bd3786\"], [0.5555555555555556, \"#d8576b\"], [0.6666666666666666, \"#ed7953\"], [0.7777777777777778, \"#fb9f3a\"], [0.8888888888888888, \"#fdca26\"], [1.0, \"#f0f921\"]], \"type\": \"histogram2d\"}], \"histogram2dcontour\": [{\"colorbar\": {\"outlinewidth\": 0, \"ticks\": \"\"}, \"colorscale\": [[0.0, \"#0d0887\"], [0.1111111111111111, \"#46039f\"], [0.2222222222222222, \"#7201a8\"], [0.3333333333333333, \"#9c179e\"], [0.4444444444444444, \"#bd3786\"], [0.5555555555555556, \"#d8576b\"], [0.6666666666666666, \"#ed7953\"], [0.7777777777777778, \"#fb9f3a\"], [0.8888888888888888, \"#fdca26\"], [1.0, \"#f0f921\"]], \"type\": \"histogram2dcontour\"}], \"mesh3d\": [{\"colorbar\": {\"outlinewidth\": 0, \"ticks\": \"\"}, \"type\": \"mesh3d\"}], \"parcoords\": [{\"line\": {\"colorbar\": {\"outlinewidth\": 0, \"ticks\": \"\"}}, \"type\": \"parcoords\"}], \"pie\": [{\"automargin\": true, \"type\": \"pie\"}], \"scatter\": [{\"marker\": {\"colorbar\": {\"outlinewidth\": 0, \"ticks\": \"\"}}, \"type\": \"scatter\"}], \"scatter3d\": [{\"line\": {\"colorbar\": {\"outlinewidth\": 0, \"ticks\": \"\"}}, \"marker\": {\"colorbar\": {\"outlinewidth\": 0, \"ticks\": \"\"}}, \"type\": \"scatter3d\"}], \"scattercarpet\": [{\"marker\": {\"colorbar\": {\"outlinewidth\": 0, \"ticks\": \"\"}}, \"type\": \"scattercarpet\"}], \"scattergeo\": [{\"marker\": {\"colorbar\": {\"outlinewidth\": 0, \"ticks\": \"\"}}, \"type\": \"scattergeo\"}], \"scattergl\": [{\"marker\": {\"colorbar\": {\"outlinewidth\": 0, \"ticks\": \"\"}}, \"type\": \"scattergl\"}], \"scattermapbox\": [{\"marker\": {\"colorbar\": {\"outlinewidth\": 0, \"ticks\": \"\"}}, \"type\": \"scattermapbox\"}], \"scatterpolar\": [{\"marker\": {\"colorbar\": {\"outlinewidth\": 0, \"ticks\": \"\"}}, \"type\": \"scatterpolar\"}], \"scatterpolargl\": [{\"marker\": {\"colorbar\": {\"outlinewidth\": 0, \"ticks\": \"\"}}, \"type\": \"scatterpolargl\"}], \"scatterternary\": [{\"marker\": {\"colorbar\": {\"outlinewidth\": 0, \"ticks\": \"\"}}, \"type\": \"scatterternary\"}], \"surface\": [{\"colorbar\": {\"outlinewidth\": 0, \"ticks\": \"\"}, \"colorscale\": [[0.0, \"#0d0887\"], [0.1111111111111111, \"#46039f\"], [0.2222222222222222, \"#7201a8\"], [0.3333333333333333, \"#9c179e\"], [0.4444444444444444, \"#bd3786\"], [0.5555555555555556, \"#d8576b\"], [0.6666666666666666, \"#ed7953\"], [0.7777777777777778, \"#fb9f3a\"], [0.8888888888888888, \"#fdca26\"], [1.0, \"#f0f921\"]], \"type\": \"surface\"}], \"table\": [{\"cells\": {\"fill\": {\"color\": \"#EBF0F8\"}, \"line\": {\"color\": \"white\"}}, \"header\": {\"fill\": {\"color\": \"#C8D4E3\"}, \"line\": {\"color\": \"white\"}}, \"type\": \"table\"}]}, \"layout\": {\"annotationdefaults\": {\"arrowcolor\": \"#2a3f5f\", \"arrowhead\": 0, \"arrowwidth\": 1}, \"autotypenumbers\": \"strict\", \"coloraxis\": {\"colorbar\": {\"outlinewidth\": 0, \"ticks\": \"\"}}, \"colorscale\": {\"diverging\": [[0, \"#8e0152\"], [0.1, \"#c51b7d\"], [0.2, \"#de77ae\"], [0.3, \"#f1b6da\"], [0.4, \"#fde0ef\"], [0.5, \"#f7f7f7\"], [0.6, \"#e6f5d0\"], [0.7, \"#b8e186\"], [0.8, \"#7fbc41\"], [0.9, \"#4d9221\"], [1, \"#276419\"]], \"sequential\": [[0.0, \"#0d0887\"], [0.1111111111111111, \"#46039f\"], [0.2222222222222222, \"#7201a8\"], [0.3333333333333333, \"#9c179e\"], [0.4444444444444444, \"#bd3786\"], [0.5555555555555556, \"#d8576b\"], [0.6666666666666666, \"#ed7953\"], [0.7777777777777778, \"#fb9f3a\"], [0.8888888888888888, \"#fdca26\"], [1.0, \"#f0f921\"]], \"sequentialminus\": [[0.0, \"#0d0887\"], [0.1111111111111111, \"#46039f\"], [0.2222222222222222, \"#7201a8\"], [0.3333333333333333, \"#9c179e\"], [0.4444444444444444, \"#bd3786\"], [0.5555555555555556, \"#d8576b\"], [0.6666666666666666, \"#ed7953\"], [0.7777777777777778, \"#fb9f3a\"], [0.8888888888888888, \"#fdca26\"], [1.0, \"#f0f921\"]]}, \"colorway\": [\"#636efa\", \"#EF553B\", \"#00cc96\", \"#ab63fa\", \"#FFA15A\", \"#19d3f3\", \"#FF6692\", \"#B6E880\", \"#FF97FF\", \"#FECB52\"], \"font\": {\"color\": \"#2a3f5f\"}, \"geo\": {\"bgcolor\": \"white\", \"lakecolor\": \"white\", \"landcolor\": \"#E5ECF6\", \"showlakes\": true, \"showland\": true, \"subunitcolor\": \"white\"}, \"hoverlabel\": {\"align\": \"left\"}, \"hovermode\": \"closest\", \"mapbox\": {\"style\": \"light\"}, \"paper_bgcolor\": \"white\", \"plot_bgcolor\": \"#E5ECF6\", \"polar\": {\"angularaxis\": {\"gridcolor\": \"white\", \"linecolor\": \"white\", \"ticks\": \"\"}, \"bgcolor\": \"#E5ECF6\", \"radialaxis\": {\"gridcolor\": \"white\", \"linecolor\": \"white\", \"ticks\": \"\"}}, \"scene\": {\"xaxis\": {\"backgroundcolor\": \"#E5ECF6\", \"gridcolor\": \"white\", \"gridwidth\": 2, \"linecolor\": \"white\", \"showbackground\": true, \"ticks\": \"\", \"zerolinecolor\": \"white\"}, \"yaxis\": {\"backgroundcolor\": \"#E5ECF6\", \"gridcolor\": \"white\", \"gridwidth\": 2, \"linecolor\": \"white\", \"showbackground\": true, \"ticks\": \"\", \"zerolinecolor\": \"white\"}, \"zaxis\": {\"backgroundcolor\": \"#E5ECF6\", \"gridcolor\": \"white\", \"gridwidth\": 2, \"linecolor\": \"white\", \"showbackground\": true, \"ticks\": \"\", \"zerolinecolor\": \"white\"}}, \"shapedefaults\": {\"line\": {\"color\": \"#2a3f5f\"}}, \"ternary\": {\"aaxis\": {\"gridcolor\": \"white\", \"linecolor\": \"white\", \"ticks\": \"\"}, \"baxis\": {\"gridcolor\": \"white\", \"linecolor\": \"white\", \"ticks\": \"\"}, \"bgcolor\": \"#E5ECF6\", \"caxis\": {\"gridcolor\": \"white\", \"linecolor\": \"white\", \"ticks\": \"\"}}, \"title\": {\"x\": 0.05}, \"xaxis\": {\"automargin\": true, \"gridcolor\": \"white\", \"linecolor\": \"white\", \"ticks\": \"\", \"title\": {\"standoff\": 15}, \"zerolinecolor\": \"white\", \"zerolinewidth\": 2}, \"yaxis\": {\"automargin\": true, \"gridcolor\": \"white\", \"linecolor\": \"white\", \"ticks\": \"\", \"title\": {\"standoff\": 15}, \"zerolinecolor\": \"white\", \"zerolinewidth\": 2}}}, \"title\": {\"text\": \"Document Distribution by Topics\"}, \"xaxis\": {\"anchor\": \"y\", \"domain\": [0.0, 1.0], \"title\": {\"text\": \"Topic\"}}, \"yaxis\": {\"anchor\": \"x\", \"domain\": [0.0, 1.0], \"title\": {\"text\": \"Documents\"}}},                        {\"responsive\": true}                    ).then(function(){\n",
       "                            \n",
       "var gd = document.getElementById('085c1d78-300e-4593-a030-b8780edd5b63');\n",
       "var x = new MutationObserver(function (mutations, observer) {{\n",
       "        var display = window.getComputedStyle(gd).display;\n",
       "        if (!display || display === 'none') {{\n",
       "            console.log([gd, 'removed!']);\n",
       "            Plotly.purge(gd);\n",
       "            observer.disconnect();\n",
       "        }}\n",
       "}});\n",
       "\n",
       "// Listen for the removal of the full notebook cells\n",
       "var notebookContainer = gd.closest('#notebook-container');\n",
       "if (notebookContainer) {{\n",
       "    x.observe(notebookContainer, {childList: true});\n",
       "}}\n",
       "\n",
       "// Listen for the clearing of the current output cell\n",
       "var outputEl = gd.closest('.output');\n",
       "if (outputEl) {{\n",
       "    x.observe(outputEl, {childList: true});\n",
       "}}\n",
       "\n",
       "                        })                };                });            </script>        </div>"
      ]
     },
     "metadata": {},
     "output_type": "display_data"
    }
   ],
   "source": [
    "plot_model(lda1, plot = 'topic_distribution')"
   ]
  },
  {
   "cell_type": "code",
   "execution_count": 19,
   "metadata": {
    "pycharm": {
     "name": "#%%\n"
    }
   },
   "outputs": [
    {
     "data": {
      "application/vnd.jupyter.widget-view+json": {
       "model_id": "178014ac806c466f83aacf3e6577e1e6",
       "version_major": 2,
       "version_minor": 0
      },
      "text/plain": [
       "interactive(children=(ToggleButtons(description='Plot Type:', icons=('',), options=(('Frequency Plot', 'freque…"
      ]
     },
     "metadata": {},
     "output_type": "display_data"
    }
   ],
   "source": [
    "evaluate_model(lda1)"
   ]
  },
  {
   "cell_type": "code",
   "execution_count": 20,
   "metadata": {
    "pycharm": {
     "name": "#%%\n"
    }
   },
   "outputs": [
    {
     "data": {
      "text/html": [
       "        <script type=\"text/javascript\">\n",
       "        window.PlotlyConfig = {MathJaxConfig: 'local'};\n",
       "        if (window.MathJax) {MathJax.Hub.Config({SVG: {font: \"STIX-Web\"}});}\n",
       "        if (typeof require !== 'undefined') {\n",
       "        require.undef(\"plotly\");\n",
       "        requirejs.config({\n",
       "            paths: {\n",
       "                'plotly': ['https://cdn.plot.ly/plotly-latest.min']\n",
       "            }\n",
       "        });\n",
       "        require(['plotly'], function(Plotly) {\n",
       "            window._Plotly = Plotly;\n",
       "        });\n",
       "        }\n",
       "        </script>\n",
       "        "
      ]
     },
     "metadata": {},
     "output_type": "display_data"
    },
    {
     "data": {
      "application/vnd.plotly.v1+json": {
       "config": {
        "linkText": "Export to plot.ly",
        "plotlyServerURL": "https://plot.ly",
        "showLink": true
       },
       "data": [
        {
         "marker": {
          "color": "rgba(255, 153, 51, 0.6)",
          "line": {
           "color": "rgba(255, 153, 51, 1.0)",
           "width": 1
          }
         },
         "name": "count",
         "orientation": "v",
         "text": "",
         "type": "bar",
         "x": [
          "say",
          "trump",
          "would",
          "people",
          "make",
          "go",
          "also",
          "state",
          "year",
          "take",
          "time",
          "campaign",
          "could",
          "even",
          "come",
          "may",
          "get",
          "know",
          "see",
          "many",
          "candidate",
          "election",
          "country",
          "use",
          "government",
          "think",
          "call",
          "vote",
          "tell",
          "want",
          "well",
          "work",
          "give",
          "political",
          "day",
          "support",
          "new",
          "first",
          "way",
          "republican",
          "percent",
          "voter",
          "include",
          "report",
          "party",
          "much",
          "show",
          "presidential",
          "need",
          "issue",
          "right",
          "good",
          "thing",
          "find",
          "world",
          "back",
          "look",
          "point",
          "woman",
          "still",
          "become",
          "democratic",
          "official",
          "attack",
          "lead",
          "american",
          "leave",
          "long",
          "try",
          "run",
          "sander",
          "former",
          "accord",
          "last",
          "help",
          "man",
          "change",
          "public",
          "question",
          "believe",
          "group",
          "debate",
          "ask",
          "case",
          "policy",
          "law",
          "email",
          "win",
          "part",
          "big",
          "end",
          "president",
          "never",
          "write",
          "plan",
          "continue",
          "power",
          "talk",
          "put",
          "medium"
         ],
         "y": [
          30539,
          14596,
          12778,
          11738,
          10410,
          9803,
          8212,
          8067,
          7972,
          7879,
          7855,
          7619,
          6536,
          6484,
          6410,
          6372,
          6303,
          6100,
          6036,
          5869,
          5718,
          5652,
          5616,
          5613,
          5454,
          5419,
          5401,
          5344,
          5294,
          4965,
          4936,
          4903,
          4845,
          4831,
          4735,
          4661,
          4577,
          4556,
          4543,
          4507,
          4387,
          4225,
          4184,
          4182,
          4146,
          4082,
          4042,
          4015,
          3979,
          3930,
          3764,
          3708,
          3690,
          3681,
          3596,
          3538,
          3514,
          3478,
          3446,
          3436,
          3422,
          3411,
          3388,
          3379,
          3314,
          3264,
          3242,
          3215,
          3182,
          3180,
          3172,
          3166,
          3150,
          3147,
          3146,
          3055,
          3013,
          3010,
          2946,
          2941,
          2917,
          2877,
          2864,
          2862,
          2857,
          2797,
          2795,
          2773,
          2773,
          2731,
          2712,
          2704,
          2664,
          2651,
          2607,
          2601,
          2553,
          2544,
          2528,
          2524
         ]
        }
       ],
       "layout": {
        "legend": {
         "bgcolor": "#F5F6F9",
         "font": {
          "color": "#4D5663"
         }
        },
        "paper_bgcolor": "#F5F6F9",
        "plot_bgcolor": "#F5F6F9",
        "template": {
         "data": {
          "bar": [
           {
            "error_x": {
             "color": "#2a3f5f"
            },
            "error_y": {
             "color": "#2a3f5f"
            },
            "marker": {
             "line": {
              "color": "#E5ECF6",
              "width": 0.5
             }
            },
            "type": "bar"
           }
          ],
          "barpolar": [
           {
            "marker": {
             "line": {
              "color": "#E5ECF6",
              "width": 0.5
             }
            },
            "type": "barpolar"
           }
          ],
          "carpet": [
           {
            "aaxis": {
             "endlinecolor": "#2a3f5f",
             "gridcolor": "white",
             "linecolor": "white",
             "minorgridcolor": "white",
             "startlinecolor": "#2a3f5f"
            },
            "baxis": {
             "endlinecolor": "#2a3f5f",
             "gridcolor": "white",
             "linecolor": "white",
             "minorgridcolor": "white",
             "startlinecolor": "#2a3f5f"
            },
            "type": "carpet"
           }
          ],
          "choropleth": [
           {
            "colorbar": {
             "outlinewidth": 0,
             "ticks": ""
            },
            "type": "choropleth"
           }
          ],
          "contour": [
           {
            "colorbar": {
             "outlinewidth": 0,
             "ticks": ""
            },
            "colorscale": [
             [
              0,
              "#0d0887"
             ],
             [
              0.1111111111111111,
              "#46039f"
             ],
             [
              0.2222222222222222,
              "#7201a8"
             ],
             [
              0.3333333333333333,
              "#9c179e"
             ],
             [
              0.4444444444444444,
              "#bd3786"
             ],
             [
              0.5555555555555556,
              "#d8576b"
             ],
             [
              0.6666666666666666,
              "#ed7953"
             ],
             [
              0.7777777777777778,
              "#fb9f3a"
             ],
             [
              0.8888888888888888,
              "#fdca26"
             ],
             [
              1,
              "#f0f921"
             ]
            ],
            "type": "contour"
           }
          ],
          "contourcarpet": [
           {
            "colorbar": {
             "outlinewidth": 0,
             "ticks": ""
            },
            "type": "contourcarpet"
           }
          ],
          "heatmap": [
           {
            "colorbar": {
             "outlinewidth": 0,
             "ticks": ""
            },
            "colorscale": [
             [
              0,
              "#0d0887"
             ],
             [
              0.1111111111111111,
              "#46039f"
             ],
             [
              0.2222222222222222,
              "#7201a8"
             ],
             [
              0.3333333333333333,
              "#9c179e"
             ],
             [
              0.4444444444444444,
              "#bd3786"
             ],
             [
              0.5555555555555556,
              "#d8576b"
             ],
             [
              0.6666666666666666,
              "#ed7953"
             ],
             [
              0.7777777777777778,
              "#fb9f3a"
             ],
             [
              0.8888888888888888,
              "#fdca26"
             ],
             [
              1,
              "#f0f921"
             ]
            ],
            "type": "heatmap"
           }
          ],
          "heatmapgl": [
           {
            "colorbar": {
             "outlinewidth": 0,
             "ticks": ""
            },
            "colorscale": [
             [
              0,
              "#0d0887"
             ],
             [
              0.1111111111111111,
              "#46039f"
             ],
             [
              0.2222222222222222,
              "#7201a8"
             ],
             [
              0.3333333333333333,
              "#9c179e"
             ],
             [
              0.4444444444444444,
              "#bd3786"
             ],
             [
              0.5555555555555556,
              "#d8576b"
             ],
             [
              0.6666666666666666,
              "#ed7953"
             ],
             [
              0.7777777777777778,
              "#fb9f3a"
             ],
             [
              0.8888888888888888,
              "#fdca26"
             ],
             [
              1,
              "#f0f921"
             ]
            ],
            "type": "heatmapgl"
           }
          ],
          "histogram": [
           {
            "marker": {
             "colorbar": {
              "outlinewidth": 0,
              "ticks": ""
             }
            },
            "type": "histogram"
           }
          ],
          "histogram2d": [
           {
            "colorbar": {
             "outlinewidth": 0,
             "ticks": ""
            },
            "colorscale": [
             [
              0,
              "#0d0887"
             ],
             [
              0.1111111111111111,
              "#46039f"
             ],
             [
              0.2222222222222222,
              "#7201a8"
             ],
             [
              0.3333333333333333,
              "#9c179e"
             ],
             [
              0.4444444444444444,
              "#bd3786"
             ],
             [
              0.5555555555555556,
              "#d8576b"
             ],
             [
              0.6666666666666666,
              "#ed7953"
             ],
             [
              0.7777777777777778,
              "#fb9f3a"
             ],
             [
              0.8888888888888888,
              "#fdca26"
             ],
             [
              1,
              "#f0f921"
             ]
            ],
            "type": "histogram2d"
           }
          ],
          "histogram2dcontour": [
           {
            "colorbar": {
             "outlinewidth": 0,
             "ticks": ""
            },
            "colorscale": [
             [
              0,
              "#0d0887"
             ],
             [
              0.1111111111111111,
              "#46039f"
             ],
             [
              0.2222222222222222,
              "#7201a8"
             ],
             [
              0.3333333333333333,
              "#9c179e"
             ],
             [
              0.4444444444444444,
              "#bd3786"
             ],
             [
              0.5555555555555556,
              "#d8576b"
             ],
             [
              0.6666666666666666,
              "#ed7953"
             ],
             [
              0.7777777777777778,
              "#fb9f3a"
             ],
             [
              0.8888888888888888,
              "#fdca26"
             ],
             [
              1,
              "#f0f921"
             ]
            ],
            "type": "histogram2dcontour"
           }
          ],
          "mesh3d": [
           {
            "colorbar": {
             "outlinewidth": 0,
             "ticks": ""
            },
            "type": "mesh3d"
           }
          ],
          "parcoords": [
           {
            "line": {
             "colorbar": {
              "outlinewidth": 0,
              "ticks": ""
             }
            },
            "type": "parcoords"
           }
          ],
          "pie": [
           {
            "automargin": true,
            "type": "pie"
           }
          ],
          "scatter": [
           {
            "marker": {
             "colorbar": {
              "outlinewidth": 0,
              "ticks": ""
             }
            },
            "type": "scatter"
           }
          ],
          "scatter3d": [
           {
            "line": {
             "colorbar": {
              "outlinewidth": 0,
              "ticks": ""
             }
            },
            "marker": {
             "colorbar": {
              "outlinewidth": 0,
              "ticks": ""
             }
            },
            "type": "scatter3d"
           }
          ],
          "scattercarpet": [
           {
            "marker": {
             "colorbar": {
              "outlinewidth": 0,
              "ticks": ""
             }
            },
            "type": "scattercarpet"
           }
          ],
          "scattergeo": [
           {
            "marker": {
             "colorbar": {
              "outlinewidth": 0,
              "ticks": ""
             }
            },
            "type": "scattergeo"
           }
          ],
          "scattergl": [
           {
            "marker": {
             "colorbar": {
              "outlinewidth": 0,
              "ticks": ""
             }
            },
            "type": "scattergl"
           }
          ],
          "scattermapbox": [
           {
            "marker": {
             "colorbar": {
              "outlinewidth": 0,
              "ticks": ""
             }
            },
            "type": "scattermapbox"
           }
          ],
          "scatterpolar": [
           {
            "marker": {
             "colorbar": {
              "outlinewidth": 0,
              "ticks": ""
             }
            },
            "type": "scatterpolar"
           }
          ],
          "scatterpolargl": [
           {
            "marker": {
             "colorbar": {
              "outlinewidth": 0,
              "ticks": ""
             }
            },
            "type": "scatterpolargl"
           }
          ],
          "scatterternary": [
           {
            "marker": {
             "colorbar": {
              "outlinewidth": 0,
              "ticks": ""
             }
            },
            "type": "scatterternary"
           }
          ],
          "surface": [
           {
            "colorbar": {
             "outlinewidth": 0,
             "ticks": ""
            },
            "colorscale": [
             [
              0,
              "#0d0887"
             ],
             [
              0.1111111111111111,
              "#46039f"
             ],
             [
              0.2222222222222222,
              "#7201a8"
             ],
             [
              0.3333333333333333,
              "#9c179e"
             ],
             [
              0.4444444444444444,
              "#bd3786"
             ],
             [
              0.5555555555555556,
              "#d8576b"
             ],
             [
              0.6666666666666666,
              "#ed7953"
             ],
             [
              0.7777777777777778,
              "#fb9f3a"
             ],
             [
              0.8888888888888888,
              "#fdca26"
             ],
             [
              1,
              "#f0f921"
             ]
            ],
            "type": "surface"
           }
          ],
          "table": [
           {
            "cells": {
             "fill": {
              "color": "#EBF0F8"
             },
             "line": {
              "color": "white"
             }
            },
            "header": {
             "fill": {
              "color": "#C8D4E3"
             },
             "line": {
              "color": "white"
             }
            },
            "type": "table"
           }
          ]
         },
         "layout": {
          "annotationdefaults": {
           "arrowcolor": "#2a3f5f",
           "arrowhead": 0,
           "arrowwidth": 1
          },
          "autotypenumbers": "strict",
          "coloraxis": {
           "colorbar": {
            "outlinewidth": 0,
            "ticks": ""
           }
          },
          "colorscale": {
           "diverging": [
            [
             0,
             "#8e0152"
            ],
            [
             0.1,
             "#c51b7d"
            ],
            [
             0.2,
             "#de77ae"
            ],
            [
             0.3,
             "#f1b6da"
            ],
            [
             0.4,
             "#fde0ef"
            ],
            [
             0.5,
             "#f7f7f7"
            ],
            [
             0.6,
             "#e6f5d0"
            ],
            [
             0.7,
             "#b8e186"
            ],
            [
             0.8,
             "#7fbc41"
            ],
            [
             0.9,
             "#4d9221"
            ],
            [
             1,
             "#276419"
            ]
           ],
           "sequential": [
            [
             0,
             "#0d0887"
            ],
            [
             0.1111111111111111,
             "#46039f"
            ],
            [
             0.2222222222222222,
             "#7201a8"
            ],
            [
             0.3333333333333333,
             "#9c179e"
            ],
            [
             0.4444444444444444,
             "#bd3786"
            ],
            [
             0.5555555555555556,
             "#d8576b"
            ],
            [
             0.6666666666666666,
             "#ed7953"
            ],
            [
             0.7777777777777778,
             "#fb9f3a"
            ],
            [
             0.8888888888888888,
             "#fdca26"
            ],
            [
             1,
             "#f0f921"
            ]
           ],
           "sequentialminus": [
            [
             0,
             "#0d0887"
            ],
            [
             0.1111111111111111,
             "#46039f"
            ],
            [
             0.2222222222222222,
             "#7201a8"
            ],
            [
             0.3333333333333333,
             "#9c179e"
            ],
            [
             0.4444444444444444,
             "#bd3786"
            ],
            [
             0.5555555555555556,
             "#d8576b"
            ],
            [
             0.6666666666666666,
             "#ed7953"
            ],
            [
             0.7777777777777778,
             "#fb9f3a"
            ],
            [
             0.8888888888888888,
             "#fdca26"
            ],
            [
             1,
             "#f0f921"
            ]
           ]
          },
          "colorway": [
           "#636efa",
           "#EF553B",
           "#00cc96",
           "#ab63fa",
           "#FFA15A",
           "#19d3f3",
           "#FF6692",
           "#B6E880",
           "#FF97FF",
           "#FECB52"
          ],
          "font": {
           "color": "#2a3f5f"
          },
          "geo": {
           "bgcolor": "white",
           "lakecolor": "white",
           "landcolor": "#E5ECF6",
           "showlakes": true,
           "showland": true,
           "subunitcolor": "white"
          },
          "hoverlabel": {
           "align": "left"
          },
          "hovermode": "closest",
          "mapbox": {
           "style": "light"
          },
          "paper_bgcolor": "white",
          "plot_bgcolor": "#E5ECF6",
          "polar": {
           "angularaxis": {
            "gridcolor": "white",
            "linecolor": "white",
            "ticks": ""
           },
           "bgcolor": "#E5ECF6",
           "radialaxis": {
            "gridcolor": "white",
            "linecolor": "white",
            "ticks": ""
           }
          },
          "scene": {
           "xaxis": {
            "backgroundcolor": "#E5ECF6",
            "gridcolor": "white",
            "gridwidth": 2,
            "linecolor": "white",
            "showbackground": true,
            "ticks": "",
            "zerolinecolor": "white"
           },
           "yaxis": {
            "backgroundcolor": "#E5ECF6",
            "gridcolor": "white",
            "gridwidth": 2,
            "linecolor": "white",
            "showbackground": true,
            "ticks": "",
            "zerolinecolor": "white"
           },
           "zaxis": {
            "backgroundcolor": "#E5ECF6",
            "gridcolor": "white",
            "gridwidth": 2,
            "linecolor": "white",
            "showbackground": true,
            "ticks": "",
            "zerolinecolor": "white"
           }
          },
          "shapedefaults": {
           "line": {
            "color": "#2a3f5f"
           }
          },
          "ternary": {
           "aaxis": {
            "gridcolor": "white",
            "linecolor": "white",
            "ticks": ""
           },
           "baxis": {
            "gridcolor": "white",
            "linecolor": "white",
            "ticks": ""
           },
           "bgcolor": "#E5ECF6",
           "caxis": {
            "gridcolor": "white",
            "linecolor": "white",
            "ticks": ""
           }
          },
          "title": {
           "x": 0.05
          },
          "xaxis": {
           "automargin": true,
           "gridcolor": "white",
           "linecolor": "white",
           "ticks": "",
           "title": {
            "standoff": 15
           },
           "zerolinecolor": "white",
           "zerolinewidth": 2
          },
          "yaxis": {
           "automargin": true,
           "gridcolor": "white",
           "linecolor": "white",
           "ticks": "",
           "title": {
            "standoff": 15
           },
           "zerolinecolor": "white",
           "zerolinewidth": 2
          }
         }
        },
        "title": {
         "font": {
          "color": "#4D5663"
         },
         "text": "Top 100 words after removing stop words"
        },
        "xaxis": {
         "gridcolor": "#E1E5ED",
         "linecolor": "black",
         "showgrid": true,
         "tickfont": {
          "color": "#4D5663"
         },
         "title": {
          "font": {
           "color": "#4D5663"
          },
          "text": ""
         },
         "zerolinecolor": "#E1E5ED"
        },
        "yaxis": {
         "gridcolor": "#E1E5ED",
         "linecolor": "black",
         "showgrid": true,
         "tickfont": {
          "color": "#4D5663"
         },
         "title": {
          "font": {
           "color": "#4D5663"
          },
          "text": "Count"
         },
         "zerolinecolor": "#E1E5ED"
        }
       }
      },
      "text/html": [
       "<div>                            <div id=\"9298a651-9184-4ce9-b06c-7c848bc86c23\" class=\"plotly-graph-div\" style=\"height:525px; width:100%;\"></div>            <script type=\"text/javascript\">                require([\"plotly\"], function(Plotly) {                    window.PLOTLYENV=window.PLOTLYENV || {};\n",
       "                    window.PLOTLYENV.BASE_URL='https://plot.ly';                                    if (document.getElementById(\"9298a651-9184-4ce9-b06c-7c848bc86c23\")) {                    Plotly.newPlot(                        \"9298a651-9184-4ce9-b06c-7c848bc86c23\",                        [{\"marker\": {\"color\": \"rgba(255, 153, 51, 0.6)\", \"line\": {\"color\": \"rgba(255, 153, 51, 1.0)\", \"width\": 1}}, \"name\": \"count\", \"orientation\": \"v\", \"text\": \"\", \"type\": \"bar\", \"x\": [\"say\", \"trump\", \"would\", \"people\", \"make\", \"go\", \"also\", \"state\", \"year\", \"take\", \"time\", \"campaign\", \"could\", \"even\", \"come\", \"may\", \"get\", \"know\", \"see\", \"many\", \"candidate\", \"election\", \"country\", \"use\", \"government\", \"think\", \"call\", \"vote\", \"tell\", \"want\", \"well\", \"work\", \"give\", \"political\", \"day\", \"support\", \"new\", \"first\", \"way\", \"republican\", \"percent\", \"voter\", \"include\", \"report\", \"party\", \"much\", \"show\", \"presidential\", \"need\", \"issue\", \"right\", \"good\", \"thing\", \"find\", \"world\", \"back\", \"look\", \"point\", \"woman\", \"still\", \"become\", \"democratic\", \"official\", \"attack\", \"lead\", \"american\", \"leave\", \"long\", \"try\", \"run\", \"sander\", \"former\", \"accord\", \"last\", \"help\", \"man\", \"change\", \"public\", \"question\", \"believe\", \"group\", \"debate\", \"ask\", \"case\", \"policy\", \"law\", \"email\", \"win\", \"part\", \"big\", \"end\", \"president\", \"never\", \"write\", \"plan\", \"continue\", \"power\", \"talk\", \"put\", \"medium\"], \"y\": [30539, 14596, 12778, 11738, 10410, 9803, 8212, 8067, 7972, 7879, 7855, 7619, 6536, 6484, 6410, 6372, 6303, 6100, 6036, 5869, 5718, 5652, 5616, 5613, 5454, 5419, 5401, 5344, 5294, 4965, 4936, 4903, 4845, 4831, 4735, 4661, 4577, 4556, 4543, 4507, 4387, 4225, 4184, 4182, 4146, 4082, 4042, 4015, 3979, 3930, 3764, 3708, 3690, 3681, 3596, 3538, 3514, 3478, 3446, 3436, 3422, 3411, 3388, 3379, 3314, 3264, 3242, 3215, 3182, 3180, 3172, 3166, 3150, 3147, 3146, 3055, 3013, 3010, 2946, 2941, 2917, 2877, 2864, 2862, 2857, 2797, 2795, 2773, 2773, 2731, 2712, 2704, 2664, 2651, 2607, 2601, 2553, 2544, 2528, 2524]}],                        {\"legend\": {\"bgcolor\": \"#F5F6F9\", \"font\": {\"color\": \"#4D5663\"}}, \"paper_bgcolor\": \"#F5F6F9\", \"plot_bgcolor\": \"#F5F6F9\", \"template\": {\"data\": {\"bar\": [{\"error_x\": {\"color\": \"#2a3f5f\"}, \"error_y\": {\"color\": \"#2a3f5f\"}, \"marker\": {\"line\": {\"color\": \"#E5ECF6\", \"width\": 0.5}}, \"type\": \"bar\"}], \"barpolar\": [{\"marker\": {\"line\": {\"color\": \"#E5ECF6\", \"width\": 0.5}}, \"type\": \"barpolar\"}], \"carpet\": [{\"aaxis\": {\"endlinecolor\": \"#2a3f5f\", \"gridcolor\": \"white\", \"linecolor\": \"white\", \"minorgridcolor\": \"white\", \"startlinecolor\": \"#2a3f5f\"}, \"baxis\": {\"endlinecolor\": \"#2a3f5f\", \"gridcolor\": \"white\", \"linecolor\": \"white\", \"minorgridcolor\": \"white\", \"startlinecolor\": \"#2a3f5f\"}, \"type\": \"carpet\"}], \"choropleth\": [{\"colorbar\": {\"outlinewidth\": 0, \"ticks\": \"\"}, \"type\": \"choropleth\"}], \"contour\": [{\"colorbar\": {\"outlinewidth\": 0, \"ticks\": \"\"}, \"colorscale\": [[0.0, \"#0d0887\"], [0.1111111111111111, \"#46039f\"], [0.2222222222222222, \"#7201a8\"], [0.3333333333333333, \"#9c179e\"], [0.4444444444444444, \"#bd3786\"], [0.5555555555555556, \"#d8576b\"], [0.6666666666666666, \"#ed7953\"], [0.7777777777777778, \"#fb9f3a\"], [0.8888888888888888, \"#fdca26\"], [1.0, \"#f0f921\"]], \"type\": \"contour\"}], \"contourcarpet\": [{\"colorbar\": {\"outlinewidth\": 0, \"ticks\": \"\"}, \"type\": \"contourcarpet\"}], \"heatmap\": [{\"colorbar\": {\"outlinewidth\": 0, \"ticks\": \"\"}, \"colorscale\": [[0.0, \"#0d0887\"], [0.1111111111111111, \"#46039f\"], [0.2222222222222222, \"#7201a8\"], [0.3333333333333333, \"#9c179e\"], [0.4444444444444444, \"#bd3786\"], [0.5555555555555556, \"#d8576b\"], [0.6666666666666666, \"#ed7953\"], [0.7777777777777778, \"#fb9f3a\"], [0.8888888888888888, \"#fdca26\"], [1.0, \"#f0f921\"]], \"type\": \"heatmap\"}], \"heatmapgl\": [{\"colorbar\": {\"outlinewidth\": 0, \"ticks\": \"\"}, \"colorscale\": [[0.0, \"#0d0887\"], [0.1111111111111111, \"#46039f\"], [0.2222222222222222, \"#7201a8\"], [0.3333333333333333, \"#9c179e\"], [0.4444444444444444, \"#bd3786\"], [0.5555555555555556, \"#d8576b\"], [0.6666666666666666, \"#ed7953\"], [0.7777777777777778, \"#fb9f3a\"], [0.8888888888888888, \"#fdca26\"], [1.0, \"#f0f921\"]], \"type\": \"heatmapgl\"}], \"histogram\": [{\"marker\": {\"colorbar\": {\"outlinewidth\": 0, \"ticks\": \"\"}}, \"type\": \"histogram\"}], \"histogram2d\": [{\"colorbar\": {\"outlinewidth\": 0, \"ticks\": \"\"}, \"colorscale\": [[0.0, \"#0d0887\"], [0.1111111111111111, \"#46039f\"], [0.2222222222222222, \"#7201a8\"], [0.3333333333333333, \"#9c179e\"], [0.4444444444444444, \"#bd3786\"], [0.5555555555555556, \"#d8576b\"], [0.6666666666666666, \"#ed7953\"], [0.7777777777777778, \"#fb9f3a\"], [0.8888888888888888, \"#fdca26\"], [1.0, \"#f0f921\"]], \"type\": \"histogram2d\"}], \"histogram2dcontour\": [{\"colorbar\": {\"outlinewidth\": 0, \"ticks\": \"\"}, \"colorscale\": [[0.0, \"#0d0887\"], [0.1111111111111111, \"#46039f\"], [0.2222222222222222, \"#7201a8\"], [0.3333333333333333, \"#9c179e\"], [0.4444444444444444, \"#bd3786\"], [0.5555555555555556, \"#d8576b\"], [0.6666666666666666, \"#ed7953\"], [0.7777777777777778, \"#fb9f3a\"], [0.8888888888888888, \"#fdca26\"], [1.0, \"#f0f921\"]], \"type\": \"histogram2dcontour\"}], \"mesh3d\": [{\"colorbar\": {\"outlinewidth\": 0, \"ticks\": \"\"}, \"type\": \"mesh3d\"}], \"parcoords\": [{\"line\": {\"colorbar\": {\"outlinewidth\": 0, \"ticks\": \"\"}}, \"type\": \"parcoords\"}], \"pie\": [{\"automargin\": true, \"type\": \"pie\"}], \"scatter\": [{\"marker\": {\"colorbar\": {\"outlinewidth\": 0, \"ticks\": \"\"}}, \"type\": \"scatter\"}], \"scatter3d\": [{\"line\": {\"colorbar\": {\"outlinewidth\": 0, \"ticks\": \"\"}}, \"marker\": {\"colorbar\": {\"outlinewidth\": 0, \"ticks\": \"\"}}, \"type\": \"scatter3d\"}], \"scattercarpet\": [{\"marker\": {\"colorbar\": {\"outlinewidth\": 0, \"ticks\": \"\"}}, \"type\": \"scattercarpet\"}], \"scattergeo\": [{\"marker\": {\"colorbar\": {\"outlinewidth\": 0, \"ticks\": \"\"}}, \"type\": \"scattergeo\"}], \"scattergl\": [{\"marker\": {\"colorbar\": {\"outlinewidth\": 0, \"ticks\": \"\"}}, \"type\": \"scattergl\"}], \"scattermapbox\": [{\"marker\": {\"colorbar\": {\"outlinewidth\": 0, \"ticks\": \"\"}}, \"type\": \"scattermapbox\"}], \"scatterpolar\": [{\"marker\": {\"colorbar\": {\"outlinewidth\": 0, \"ticks\": \"\"}}, \"type\": \"scatterpolar\"}], \"scatterpolargl\": [{\"marker\": {\"colorbar\": {\"outlinewidth\": 0, \"ticks\": \"\"}}, \"type\": \"scatterpolargl\"}], \"scatterternary\": [{\"marker\": {\"colorbar\": {\"outlinewidth\": 0, \"ticks\": \"\"}}, \"type\": \"scatterternary\"}], \"surface\": [{\"colorbar\": {\"outlinewidth\": 0, \"ticks\": \"\"}, \"colorscale\": [[0.0, \"#0d0887\"], [0.1111111111111111, \"#46039f\"], [0.2222222222222222, \"#7201a8\"], [0.3333333333333333, \"#9c179e\"], [0.4444444444444444, \"#bd3786\"], [0.5555555555555556, \"#d8576b\"], [0.6666666666666666, \"#ed7953\"], [0.7777777777777778, \"#fb9f3a\"], [0.8888888888888888, \"#fdca26\"], [1.0, \"#f0f921\"]], \"type\": \"surface\"}], \"table\": [{\"cells\": {\"fill\": {\"color\": \"#EBF0F8\"}, \"line\": {\"color\": \"white\"}}, \"header\": {\"fill\": {\"color\": \"#C8D4E3\"}, \"line\": {\"color\": \"white\"}}, \"type\": \"table\"}]}, \"layout\": {\"annotationdefaults\": {\"arrowcolor\": \"#2a3f5f\", \"arrowhead\": 0, \"arrowwidth\": 1}, \"autotypenumbers\": \"strict\", \"coloraxis\": {\"colorbar\": {\"outlinewidth\": 0, \"ticks\": \"\"}}, \"colorscale\": {\"diverging\": [[0, \"#8e0152\"], [0.1, \"#c51b7d\"], [0.2, \"#de77ae\"], [0.3, \"#f1b6da\"], [0.4, \"#fde0ef\"], [0.5, \"#f7f7f7\"], [0.6, \"#e6f5d0\"], [0.7, \"#b8e186\"], [0.8, \"#7fbc41\"], [0.9, \"#4d9221\"], [1, \"#276419\"]], \"sequential\": [[0.0, \"#0d0887\"], [0.1111111111111111, \"#46039f\"], [0.2222222222222222, \"#7201a8\"], [0.3333333333333333, \"#9c179e\"], [0.4444444444444444, \"#bd3786\"], [0.5555555555555556, \"#d8576b\"], [0.6666666666666666, \"#ed7953\"], [0.7777777777777778, \"#fb9f3a\"], [0.8888888888888888, \"#fdca26\"], [1.0, \"#f0f921\"]], \"sequentialminus\": [[0.0, \"#0d0887\"], [0.1111111111111111, \"#46039f\"], [0.2222222222222222, \"#7201a8\"], [0.3333333333333333, \"#9c179e\"], [0.4444444444444444, \"#bd3786\"], [0.5555555555555556, \"#d8576b\"], [0.6666666666666666, \"#ed7953\"], [0.7777777777777778, \"#fb9f3a\"], [0.8888888888888888, \"#fdca26\"], [1.0, \"#f0f921\"]]}, \"colorway\": [\"#636efa\", \"#EF553B\", \"#00cc96\", \"#ab63fa\", \"#FFA15A\", \"#19d3f3\", \"#FF6692\", \"#B6E880\", \"#FF97FF\", \"#FECB52\"], \"font\": {\"color\": \"#2a3f5f\"}, \"geo\": {\"bgcolor\": \"white\", \"lakecolor\": \"white\", \"landcolor\": \"#E5ECF6\", \"showlakes\": true, \"showland\": true, \"subunitcolor\": \"white\"}, \"hoverlabel\": {\"align\": \"left\"}, \"hovermode\": \"closest\", \"mapbox\": {\"style\": \"light\"}, \"paper_bgcolor\": \"white\", \"plot_bgcolor\": \"#E5ECF6\", \"polar\": {\"angularaxis\": {\"gridcolor\": \"white\", \"linecolor\": \"white\", \"ticks\": \"\"}, \"bgcolor\": \"#E5ECF6\", \"radialaxis\": {\"gridcolor\": \"white\", \"linecolor\": \"white\", \"ticks\": \"\"}}, \"scene\": {\"xaxis\": {\"backgroundcolor\": \"#E5ECF6\", \"gridcolor\": \"white\", \"gridwidth\": 2, \"linecolor\": \"white\", \"showbackground\": true, \"ticks\": \"\", \"zerolinecolor\": \"white\"}, \"yaxis\": {\"backgroundcolor\": \"#E5ECF6\", \"gridcolor\": \"white\", \"gridwidth\": 2, \"linecolor\": \"white\", \"showbackground\": true, \"ticks\": \"\", \"zerolinecolor\": \"white\"}, \"zaxis\": {\"backgroundcolor\": \"#E5ECF6\", \"gridcolor\": \"white\", \"gridwidth\": 2, \"linecolor\": \"white\", \"showbackground\": true, \"ticks\": \"\", \"zerolinecolor\": \"white\"}}, \"shapedefaults\": {\"line\": {\"color\": \"#2a3f5f\"}}, \"ternary\": {\"aaxis\": {\"gridcolor\": \"white\", \"linecolor\": \"white\", \"ticks\": \"\"}, \"baxis\": {\"gridcolor\": \"white\", \"linecolor\": \"white\", \"ticks\": \"\"}, \"bgcolor\": \"#E5ECF6\", \"caxis\": {\"gridcolor\": \"white\", \"linecolor\": \"white\", \"ticks\": \"\"}}, \"title\": {\"x\": 0.05}, \"xaxis\": {\"automargin\": true, \"gridcolor\": \"white\", \"linecolor\": \"white\", \"ticks\": \"\", \"title\": {\"standoff\": 15}, \"zerolinecolor\": \"white\", \"zerolinewidth\": 2}, \"yaxis\": {\"automargin\": true, \"gridcolor\": \"white\", \"linecolor\": \"white\", \"ticks\": \"\", \"title\": {\"standoff\": 15}, \"zerolinecolor\": \"white\", \"zerolinewidth\": 2}}}, \"title\": {\"font\": {\"color\": \"#4D5663\"}, \"text\": \"Top 100 words after removing stop words\"}, \"xaxis\": {\"gridcolor\": \"#E1E5ED\", \"linecolor\": \"black\", \"showgrid\": true, \"tickfont\": {\"color\": \"#4D5663\"}, \"title\": {\"font\": {\"color\": \"#4D5663\"}, \"text\": \"\"}, \"zerolinecolor\": \"#E1E5ED\"}, \"yaxis\": {\"gridcolor\": \"#E1E5ED\", \"linecolor\": \"black\", \"showgrid\": true, \"tickfont\": {\"color\": \"#4D5663\"}, \"title\": {\"font\": {\"color\": \"#4D5663\"}, \"text\": \"Count\"}, \"zerolinecolor\": \"#E1E5ED\"}},                        {\"showLink\": true, \"linkText\": \"Export to plot.ly\", \"plotlyServerURL\": \"https://plot.ly\", \"responsive\": true}                    ).then(function(){\n",
       "                            \n",
       "var gd = document.getElementById('9298a651-9184-4ce9-b06c-7c848bc86c23');\n",
       "var x = new MutationObserver(function (mutations, observer) {{\n",
       "        var display = window.getComputedStyle(gd).display;\n",
       "        if (!display || display === 'none') {{\n",
       "            console.log([gd, 'removed!']);\n",
       "            Plotly.purge(gd);\n",
       "            observer.disconnect();\n",
       "        }}\n",
       "}});\n",
       "\n",
       "// Listen for the removal of the full notebook cells\n",
       "var notebookContainer = gd.closest('#notebook-container');\n",
       "if (notebookContainer) {{\n",
       "    x.observe(notebookContainer, {childList: true});\n",
       "}}\n",
       "\n",
       "// Listen for the clearing of the current output cell\n",
       "var outputEl = gd.closest('.output');\n",
       "if (outputEl) {{\n",
       "    x.observe(outputEl, {childList: true});\n",
       "}}\n",
       "\n",
       "                        })                };                });            </script>        </div>"
      ]
     },
     "metadata": {},
     "output_type": "display_data"
    }
   ],
   "source": [
    "plot_model()"
   ]
  },
  {
   "cell_type": "code",
   "execution_count": 21,
   "metadata": {
    "pycharm": {
     "name": "#%%\n"
    }
   },
   "outputs": [
    {
     "data": {
      "text/html": [
       "        <script type=\"text/javascript\">\n",
       "        window.PlotlyConfig = {MathJaxConfig: 'local'};\n",
       "        if (window.MathJax) {MathJax.Hub.Config({SVG: {font: \"STIX-Web\"}});}\n",
       "        if (typeof require !== 'undefined') {\n",
       "        require.undef(\"plotly\");\n",
       "        requirejs.config({\n",
       "            paths: {\n",
       "                'plotly': ['https://cdn.plot.ly/plotly-latest.min']\n",
       "            }\n",
       "        });\n",
       "        require(['plotly'], function(Plotly) {\n",
       "            window._Plotly = Plotly;\n",
       "        });\n",
       "        }\n",
       "        </script>\n",
       "        "
      ]
     },
     "metadata": {},
     "output_type": "display_data"
    },
    {
     "data": {
      "application/vnd.plotly.v1+json": {
       "config": {
        "linkText": "Export to plot.ly",
        "plotlyServerURL": "https://plot.ly",
        "showLink": true
       },
       "data": [
        {
         "marker": {
          "color": "rgba(255, 153, 51, 0.6)",
          "line": {
           "color": "rgba(255, 153, 51, 1.0)",
           "width": 1
          }
         },
         "name": "count",
         "orientation": "v",
         "text": "",
         "type": "bar",
         "x": [
          "last year",
          "presidential candidate",
          "say would",
          "trump say",
          "say say",
          "presidential election",
          "official say",
          "american people",
          "presidential campaign",
          "first time",
          "republican presidential",
          "take place",
          "make sure",
          "trump campaign",
          "percent percent",
          "say trump",
          "federal government",
          "many people",
          "also say",
          "election day",
          "say go",
          "trump supporter",
          "people say",
          "say want",
          "presidential nominee",
          "say think",
          "democratic presidential",
          "go back",
          "make clear",
          "poll show",
          "say statement",
          "campaign say",
          "presidential race",
          "democratic party",
          "next year",
          "sander say",
          "say also",
          "say know",
          "next week",
          "presidential debate",
          "republican candidate",
          "long time",
          "go say",
          "man woman",
          "say add",
          "would make",
          "black people",
          "well know",
          "third party",
          "recent year",
          "would take",
          "vote trump",
          "early year",
          "percent say",
          "say could",
          "may well",
          "make decision",
          "say people",
          "republican nominee",
          "young people",
          "support trump",
          "win election",
          "year later",
          "year say",
          "say campaign",
          "would say",
          "democratic nominee",
          "trump also",
          "kill people",
          "political party",
          "american politic",
          "lot people",
          "say make",
          "police say",
          "say former",
          "come back",
          "last night",
          "democratic candidate",
          "say take",
          "trump win",
          "political system",
          "think would",
          "time say",
          "trump would",
          "go go",
          "candidate say",
          "go far",
          "spokesman say",
          "work together",
          "democratic primary",
          "white people",
          "first place",
          "primary voter",
          "party leader",
          "party candidate",
          "voter say",
          "people want",
          "thing say",
          "make great",
          "republican primary"
         ],
         "y": [
          915,
          799,
          765,
          658,
          618,
          579,
          573,
          539,
          529,
          487,
          457,
          441,
          403,
          392,
          392,
          371,
          367,
          363,
          363,
          351,
          341,
          326,
          322,
          310,
          297,
          295,
          294,
          289,
          270,
          265,
          261,
          252,
          243,
          240,
          239,
          234,
          232,
          229,
          222,
          221,
          220,
          217,
          217,
          209,
          209,
          205,
          204,
          203,
          203,
          202,
          197,
          193,
          191,
          191,
          190,
          189,
          188,
          187,
          186,
          184,
          183,
          183,
          178,
          177,
          177,
          176,
          173,
          173,
          171,
          171,
          170,
          169,
          169,
          168,
          167,
          166,
          165,
          164,
          163,
          163,
          161,
          161,
          161,
          158,
          158,
          158,
          158,
          156,
          156,
          156,
          155,
          155,
          155,
          154,
          154,
          153,
          152,
          152,
          152,
          152
         ]
        }
       ],
       "layout": {
        "legend": {
         "bgcolor": "#F5F6F9",
         "font": {
          "color": "#4D5663"
         }
        },
        "paper_bgcolor": "#F5F6F9",
        "plot_bgcolor": "#F5F6F9",
        "template": {
         "data": {
          "bar": [
           {
            "error_x": {
             "color": "#2a3f5f"
            },
            "error_y": {
             "color": "#2a3f5f"
            },
            "marker": {
             "line": {
              "color": "#E5ECF6",
              "width": 0.5
             }
            },
            "type": "bar"
           }
          ],
          "barpolar": [
           {
            "marker": {
             "line": {
              "color": "#E5ECF6",
              "width": 0.5
             }
            },
            "type": "barpolar"
           }
          ],
          "carpet": [
           {
            "aaxis": {
             "endlinecolor": "#2a3f5f",
             "gridcolor": "white",
             "linecolor": "white",
             "minorgridcolor": "white",
             "startlinecolor": "#2a3f5f"
            },
            "baxis": {
             "endlinecolor": "#2a3f5f",
             "gridcolor": "white",
             "linecolor": "white",
             "minorgridcolor": "white",
             "startlinecolor": "#2a3f5f"
            },
            "type": "carpet"
           }
          ],
          "choropleth": [
           {
            "colorbar": {
             "outlinewidth": 0,
             "ticks": ""
            },
            "type": "choropleth"
           }
          ],
          "contour": [
           {
            "colorbar": {
             "outlinewidth": 0,
             "ticks": ""
            },
            "colorscale": [
             [
              0,
              "#0d0887"
             ],
             [
              0.1111111111111111,
              "#46039f"
             ],
             [
              0.2222222222222222,
              "#7201a8"
             ],
             [
              0.3333333333333333,
              "#9c179e"
             ],
             [
              0.4444444444444444,
              "#bd3786"
             ],
             [
              0.5555555555555556,
              "#d8576b"
             ],
             [
              0.6666666666666666,
              "#ed7953"
             ],
             [
              0.7777777777777778,
              "#fb9f3a"
             ],
             [
              0.8888888888888888,
              "#fdca26"
             ],
             [
              1,
              "#f0f921"
             ]
            ],
            "type": "contour"
           }
          ],
          "contourcarpet": [
           {
            "colorbar": {
             "outlinewidth": 0,
             "ticks": ""
            },
            "type": "contourcarpet"
           }
          ],
          "heatmap": [
           {
            "colorbar": {
             "outlinewidth": 0,
             "ticks": ""
            },
            "colorscale": [
             [
              0,
              "#0d0887"
             ],
             [
              0.1111111111111111,
              "#46039f"
             ],
             [
              0.2222222222222222,
              "#7201a8"
             ],
             [
              0.3333333333333333,
              "#9c179e"
             ],
             [
              0.4444444444444444,
              "#bd3786"
             ],
             [
              0.5555555555555556,
              "#d8576b"
             ],
             [
              0.6666666666666666,
              "#ed7953"
             ],
             [
              0.7777777777777778,
              "#fb9f3a"
             ],
             [
              0.8888888888888888,
              "#fdca26"
             ],
             [
              1,
              "#f0f921"
             ]
            ],
            "type": "heatmap"
           }
          ],
          "heatmapgl": [
           {
            "colorbar": {
             "outlinewidth": 0,
             "ticks": ""
            },
            "colorscale": [
             [
              0,
              "#0d0887"
             ],
             [
              0.1111111111111111,
              "#46039f"
             ],
             [
              0.2222222222222222,
              "#7201a8"
             ],
             [
              0.3333333333333333,
              "#9c179e"
             ],
             [
              0.4444444444444444,
              "#bd3786"
             ],
             [
              0.5555555555555556,
              "#d8576b"
             ],
             [
              0.6666666666666666,
              "#ed7953"
             ],
             [
              0.7777777777777778,
              "#fb9f3a"
             ],
             [
              0.8888888888888888,
              "#fdca26"
             ],
             [
              1,
              "#f0f921"
             ]
            ],
            "type": "heatmapgl"
           }
          ],
          "histogram": [
           {
            "marker": {
             "colorbar": {
              "outlinewidth": 0,
              "ticks": ""
             }
            },
            "type": "histogram"
           }
          ],
          "histogram2d": [
           {
            "colorbar": {
             "outlinewidth": 0,
             "ticks": ""
            },
            "colorscale": [
             [
              0,
              "#0d0887"
             ],
             [
              0.1111111111111111,
              "#46039f"
             ],
             [
              0.2222222222222222,
              "#7201a8"
             ],
             [
              0.3333333333333333,
              "#9c179e"
             ],
             [
              0.4444444444444444,
              "#bd3786"
             ],
             [
              0.5555555555555556,
              "#d8576b"
             ],
             [
              0.6666666666666666,
              "#ed7953"
             ],
             [
              0.7777777777777778,
              "#fb9f3a"
             ],
             [
              0.8888888888888888,
              "#fdca26"
             ],
             [
              1,
              "#f0f921"
             ]
            ],
            "type": "histogram2d"
           }
          ],
          "histogram2dcontour": [
           {
            "colorbar": {
             "outlinewidth": 0,
             "ticks": ""
            },
            "colorscale": [
             [
              0,
              "#0d0887"
             ],
             [
              0.1111111111111111,
              "#46039f"
             ],
             [
              0.2222222222222222,
              "#7201a8"
             ],
             [
              0.3333333333333333,
              "#9c179e"
             ],
             [
              0.4444444444444444,
              "#bd3786"
             ],
             [
              0.5555555555555556,
              "#d8576b"
             ],
             [
              0.6666666666666666,
              "#ed7953"
             ],
             [
              0.7777777777777778,
              "#fb9f3a"
             ],
             [
              0.8888888888888888,
              "#fdca26"
             ],
             [
              1,
              "#f0f921"
             ]
            ],
            "type": "histogram2dcontour"
           }
          ],
          "mesh3d": [
           {
            "colorbar": {
             "outlinewidth": 0,
             "ticks": ""
            },
            "type": "mesh3d"
           }
          ],
          "parcoords": [
           {
            "line": {
             "colorbar": {
              "outlinewidth": 0,
              "ticks": ""
             }
            },
            "type": "parcoords"
           }
          ],
          "pie": [
           {
            "automargin": true,
            "type": "pie"
           }
          ],
          "scatter": [
           {
            "marker": {
             "colorbar": {
              "outlinewidth": 0,
              "ticks": ""
             }
            },
            "type": "scatter"
           }
          ],
          "scatter3d": [
           {
            "line": {
             "colorbar": {
              "outlinewidth": 0,
              "ticks": ""
             }
            },
            "marker": {
             "colorbar": {
              "outlinewidth": 0,
              "ticks": ""
             }
            },
            "type": "scatter3d"
           }
          ],
          "scattercarpet": [
           {
            "marker": {
             "colorbar": {
              "outlinewidth": 0,
              "ticks": ""
             }
            },
            "type": "scattercarpet"
           }
          ],
          "scattergeo": [
           {
            "marker": {
             "colorbar": {
              "outlinewidth": 0,
              "ticks": ""
             }
            },
            "type": "scattergeo"
           }
          ],
          "scattergl": [
           {
            "marker": {
             "colorbar": {
              "outlinewidth": 0,
              "ticks": ""
             }
            },
            "type": "scattergl"
           }
          ],
          "scattermapbox": [
           {
            "marker": {
             "colorbar": {
              "outlinewidth": 0,
              "ticks": ""
             }
            },
            "type": "scattermapbox"
           }
          ],
          "scatterpolar": [
           {
            "marker": {
             "colorbar": {
              "outlinewidth": 0,
              "ticks": ""
             }
            },
            "type": "scatterpolar"
           }
          ],
          "scatterpolargl": [
           {
            "marker": {
             "colorbar": {
              "outlinewidth": 0,
              "ticks": ""
             }
            },
            "type": "scatterpolargl"
           }
          ],
          "scatterternary": [
           {
            "marker": {
             "colorbar": {
              "outlinewidth": 0,
              "ticks": ""
             }
            },
            "type": "scatterternary"
           }
          ],
          "surface": [
           {
            "colorbar": {
             "outlinewidth": 0,
             "ticks": ""
            },
            "colorscale": [
             [
              0,
              "#0d0887"
             ],
             [
              0.1111111111111111,
              "#46039f"
             ],
             [
              0.2222222222222222,
              "#7201a8"
             ],
             [
              0.3333333333333333,
              "#9c179e"
             ],
             [
              0.4444444444444444,
              "#bd3786"
             ],
             [
              0.5555555555555556,
              "#d8576b"
             ],
             [
              0.6666666666666666,
              "#ed7953"
             ],
             [
              0.7777777777777778,
              "#fb9f3a"
             ],
             [
              0.8888888888888888,
              "#fdca26"
             ],
             [
              1,
              "#f0f921"
             ]
            ],
            "type": "surface"
           }
          ],
          "table": [
           {
            "cells": {
             "fill": {
              "color": "#EBF0F8"
             },
             "line": {
              "color": "white"
             }
            },
            "header": {
             "fill": {
              "color": "#C8D4E3"
             },
             "line": {
              "color": "white"
             }
            },
            "type": "table"
           }
          ]
         },
         "layout": {
          "annotationdefaults": {
           "arrowcolor": "#2a3f5f",
           "arrowhead": 0,
           "arrowwidth": 1
          },
          "autotypenumbers": "strict",
          "coloraxis": {
           "colorbar": {
            "outlinewidth": 0,
            "ticks": ""
           }
          },
          "colorscale": {
           "diverging": [
            [
             0,
             "#8e0152"
            ],
            [
             0.1,
             "#c51b7d"
            ],
            [
             0.2,
             "#de77ae"
            ],
            [
             0.3,
             "#f1b6da"
            ],
            [
             0.4,
             "#fde0ef"
            ],
            [
             0.5,
             "#f7f7f7"
            ],
            [
             0.6,
             "#e6f5d0"
            ],
            [
             0.7,
             "#b8e186"
            ],
            [
             0.8,
             "#7fbc41"
            ],
            [
             0.9,
             "#4d9221"
            ],
            [
             1,
             "#276419"
            ]
           ],
           "sequential": [
            [
             0,
             "#0d0887"
            ],
            [
             0.1111111111111111,
             "#46039f"
            ],
            [
             0.2222222222222222,
             "#7201a8"
            ],
            [
             0.3333333333333333,
             "#9c179e"
            ],
            [
             0.4444444444444444,
             "#bd3786"
            ],
            [
             0.5555555555555556,
             "#d8576b"
            ],
            [
             0.6666666666666666,
             "#ed7953"
            ],
            [
             0.7777777777777778,
             "#fb9f3a"
            ],
            [
             0.8888888888888888,
             "#fdca26"
            ],
            [
             1,
             "#f0f921"
            ]
           ],
           "sequentialminus": [
            [
             0,
             "#0d0887"
            ],
            [
             0.1111111111111111,
             "#46039f"
            ],
            [
             0.2222222222222222,
             "#7201a8"
            ],
            [
             0.3333333333333333,
             "#9c179e"
            ],
            [
             0.4444444444444444,
             "#bd3786"
            ],
            [
             0.5555555555555556,
             "#d8576b"
            ],
            [
             0.6666666666666666,
             "#ed7953"
            ],
            [
             0.7777777777777778,
             "#fb9f3a"
            ],
            [
             0.8888888888888888,
             "#fdca26"
            ],
            [
             1,
             "#f0f921"
            ]
           ]
          },
          "colorway": [
           "#636efa",
           "#EF553B",
           "#00cc96",
           "#ab63fa",
           "#FFA15A",
           "#19d3f3",
           "#FF6692",
           "#B6E880",
           "#FF97FF",
           "#FECB52"
          ],
          "font": {
           "color": "#2a3f5f"
          },
          "geo": {
           "bgcolor": "white",
           "lakecolor": "white",
           "landcolor": "#E5ECF6",
           "showlakes": true,
           "showland": true,
           "subunitcolor": "white"
          },
          "hoverlabel": {
           "align": "left"
          },
          "hovermode": "closest",
          "mapbox": {
           "style": "light"
          },
          "paper_bgcolor": "white",
          "plot_bgcolor": "#E5ECF6",
          "polar": {
           "angularaxis": {
            "gridcolor": "white",
            "linecolor": "white",
            "ticks": ""
           },
           "bgcolor": "#E5ECF6",
           "radialaxis": {
            "gridcolor": "white",
            "linecolor": "white",
            "ticks": ""
           }
          },
          "scene": {
           "xaxis": {
            "backgroundcolor": "#E5ECF6",
            "gridcolor": "white",
            "gridwidth": 2,
            "linecolor": "white",
            "showbackground": true,
            "ticks": "",
            "zerolinecolor": "white"
           },
           "yaxis": {
            "backgroundcolor": "#E5ECF6",
            "gridcolor": "white",
            "gridwidth": 2,
            "linecolor": "white",
            "showbackground": true,
            "ticks": "",
            "zerolinecolor": "white"
           },
           "zaxis": {
            "backgroundcolor": "#E5ECF6",
            "gridcolor": "white",
            "gridwidth": 2,
            "linecolor": "white",
            "showbackground": true,
            "ticks": "",
            "zerolinecolor": "white"
           }
          },
          "shapedefaults": {
           "line": {
            "color": "#2a3f5f"
           }
          },
          "ternary": {
           "aaxis": {
            "gridcolor": "white",
            "linecolor": "white",
            "ticks": ""
           },
           "baxis": {
            "gridcolor": "white",
            "linecolor": "white",
            "ticks": ""
           },
           "bgcolor": "#E5ECF6",
           "caxis": {
            "gridcolor": "white",
            "linecolor": "white",
            "ticks": ""
           }
          },
          "title": {
           "x": 0.05
          },
          "xaxis": {
           "automargin": true,
           "gridcolor": "white",
           "linecolor": "white",
           "ticks": "",
           "title": {
            "standoff": 15
           },
           "zerolinecolor": "white",
           "zerolinewidth": 2
          },
          "yaxis": {
           "automargin": true,
           "gridcolor": "white",
           "linecolor": "white",
           "ticks": "",
           "title": {
            "standoff": 15
           },
           "zerolinecolor": "white",
           "zerolinewidth": 2
          }
         }
        },
        "title": {
         "font": {
          "color": "#4D5663"
         },
         "text": "Top 100 bigrams after removing stop words"
        },
        "xaxis": {
         "gridcolor": "#E1E5ED",
         "linecolor": "black",
         "showgrid": true,
         "tickfont": {
          "color": "#4D5663"
         },
         "title": {
          "font": {
           "color": "#4D5663"
          },
          "text": ""
         },
         "zerolinecolor": "#E1E5ED"
        },
        "yaxis": {
         "gridcolor": "#E1E5ED",
         "linecolor": "black",
         "showgrid": true,
         "tickfont": {
          "color": "#4D5663"
         },
         "title": {
          "font": {
           "color": "#4D5663"
          },
          "text": "Count"
         },
         "zerolinecolor": "#E1E5ED"
        }
       }
      },
      "text/html": [
       "<div>                            <div id=\"6c714e64-c1b7-49bd-bb55-5021a2bcf6e7\" class=\"plotly-graph-div\" style=\"height:525px; width:100%;\"></div>            <script type=\"text/javascript\">                require([\"plotly\"], function(Plotly) {                    window.PLOTLYENV=window.PLOTLYENV || {};\n",
       "                    window.PLOTLYENV.BASE_URL='https://plot.ly';                                    if (document.getElementById(\"6c714e64-c1b7-49bd-bb55-5021a2bcf6e7\")) {                    Plotly.newPlot(                        \"6c714e64-c1b7-49bd-bb55-5021a2bcf6e7\",                        [{\"marker\": {\"color\": \"rgba(255, 153, 51, 0.6)\", \"line\": {\"color\": \"rgba(255, 153, 51, 1.0)\", \"width\": 1}}, \"name\": \"count\", \"orientation\": \"v\", \"text\": \"\", \"type\": \"bar\", \"x\": [\"last year\", \"presidential candidate\", \"say would\", \"trump say\", \"say say\", \"presidential election\", \"official say\", \"american people\", \"presidential campaign\", \"first time\", \"republican presidential\", \"take place\", \"make sure\", \"trump campaign\", \"percent percent\", \"say trump\", \"federal government\", \"many people\", \"also say\", \"election day\", \"say go\", \"trump supporter\", \"people say\", \"say want\", \"presidential nominee\", \"say think\", \"democratic presidential\", \"go back\", \"make clear\", \"poll show\", \"say statement\", \"campaign say\", \"presidential race\", \"democratic party\", \"next year\", \"sander say\", \"say also\", \"say know\", \"next week\", \"presidential debate\", \"republican candidate\", \"long time\", \"go say\", \"man woman\", \"say add\", \"would make\", \"black people\", \"well know\", \"third party\", \"recent year\", \"would take\", \"vote trump\", \"early year\", \"percent say\", \"say could\", \"may well\", \"make decision\", \"say people\", \"republican nominee\", \"young people\", \"support trump\", \"win election\", \"year later\", \"year say\", \"say campaign\", \"would say\", \"democratic nominee\", \"trump also\", \"kill people\", \"political party\", \"american politic\", \"lot people\", \"say make\", \"police say\", \"say former\", \"come back\", \"last night\", \"democratic candidate\", \"say take\", \"trump win\", \"political system\", \"think would\", \"time say\", \"trump would\", \"go go\", \"candidate say\", \"go far\", \"spokesman say\", \"work together\", \"democratic primary\", \"white people\", \"first place\", \"primary voter\", \"party leader\", \"party candidate\", \"voter say\", \"people want\", \"thing say\", \"make great\", \"republican primary\"], \"y\": [915, 799, 765, 658, 618, 579, 573, 539, 529, 487, 457, 441, 403, 392, 392, 371, 367, 363, 363, 351, 341, 326, 322, 310, 297, 295, 294, 289, 270, 265, 261, 252, 243, 240, 239, 234, 232, 229, 222, 221, 220, 217, 217, 209, 209, 205, 204, 203, 203, 202, 197, 193, 191, 191, 190, 189, 188, 187, 186, 184, 183, 183, 178, 177, 177, 176, 173, 173, 171, 171, 170, 169, 169, 168, 167, 166, 165, 164, 163, 163, 161, 161, 161, 158, 158, 158, 158, 156, 156, 156, 155, 155, 155, 154, 154, 153, 152, 152, 152, 152]}],                        {\"legend\": {\"bgcolor\": \"#F5F6F9\", \"font\": {\"color\": \"#4D5663\"}}, \"paper_bgcolor\": \"#F5F6F9\", \"plot_bgcolor\": \"#F5F6F9\", \"template\": {\"data\": {\"bar\": [{\"error_x\": {\"color\": \"#2a3f5f\"}, \"error_y\": {\"color\": \"#2a3f5f\"}, \"marker\": {\"line\": {\"color\": \"#E5ECF6\", \"width\": 0.5}}, \"type\": \"bar\"}], \"barpolar\": [{\"marker\": {\"line\": {\"color\": \"#E5ECF6\", \"width\": 0.5}}, \"type\": \"barpolar\"}], \"carpet\": [{\"aaxis\": {\"endlinecolor\": \"#2a3f5f\", \"gridcolor\": \"white\", \"linecolor\": \"white\", \"minorgridcolor\": \"white\", \"startlinecolor\": \"#2a3f5f\"}, \"baxis\": {\"endlinecolor\": \"#2a3f5f\", \"gridcolor\": \"white\", \"linecolor\": \"white\", \"minorgridcolor\": \"white\", \"startlinecolor\": \"#2a3f5f\"}, \"type\": \"carpet\"}], \"choropleth\": [{\"colorbar\": {\"outlinewidth\": 0, \"ticks\": \"\"}, \"type\": \"choropleth\"}], \"contour\": [{\"colorbar\": {\"outlinewidth\": 0, \"ticks\": \"\"}, \"colorscale\": [[0.0, \"#0d0887\"], [0.1111111111111111, \"#46039f\"], [0.2222222222222222, \"#7201a8\"], [0.3333333333333333, \"#9c179e\"], [0.4444444444444444, \"#bd3786\"], [0.5555555555555556, \"#d8576b\"], [0.6666666666666666, \"#ed7953\"], [0.7777777777777778, \"#fb9f3a\"], [0.8888888888888888, \"#fdca26\"], [1.0, \"#f0f921\"]], \"type\": \"contour\"}], \"contourcarpet\": [{\"colorbar\": {\"outlinewidth\": 0, \"ticks\": \"\"}, \"type\": \"contourcarpet\"}], \"heatmap\": [{\"colorbar\": {\"outlinewidth\": 0, \"ticks\": \"\"}, \"colorscale\": [[0.0, \"#0d0887\"], [0.1111111111111111, \"#46039f\"], [0.2222222222222222, \"#7201a8\"], [0.3333333333333333, \"#9c179e\"], [0.4444444444444444, \"#bd3786\"], [0.5555555555555556, \"#d8576b\"], [0.6666666666666666, \"#ed7953\"], [0.7777777777777778, \"#fb9f3a\"], [0.8888888888888888, \"#fdca26\"], [1.0, \"#f0f921\"]], \"type\": \"heatmap\"}], \"heatmapgl\": [{\"colorbar\": {\"outlinewidth\": 0, \"ticks\": \"\"}, \"colorscale\": [[0.0, \"#0d0887\"], [0.1111111111111111, \"#46039f\"], [0.2222222222222222, \"#7201a8\"], [0.3333333333333333, \"#9c179e\"], [0.4444444444444444, \"#bd3786\"], [0.5555555555555556, \"#d8576b\"], [0.6666666666666666, \"#ed7953\"], [0.7777777777777778, \"#fb9f3a\"], [0.8888888888888888, \"#fdca26\"], [1.0, \"#f0f921\"]], \"type\": \"heatmapgl\"}], \"histogram\": [{\"marker\": {\"colorbar\": {\"outlinewidth\": 0, \"ticks\": \"\"}}, \"type\": \"histogram\"}], \"histogram2d\": [{\"colorbar\": {\"outlinewidth\": 0, \"ticks\": \"\"}, \"colorscale\": [[0.0, \"#0d0887\"], [0.1111111111111111, \"#46039f\"], [0.2222222222222222, \"#7201a8\"], [0.3333333333333333, \"#9c179e\"], [0.4444444444444444, \"#bd3786\"], [0.5555555555555556, \"#d8576b\"], [0.6666666666666666, \"#ed7953\"], [0.7777777777777778, \"#fb9f3a\"], [0.8888888888888888, \"#fdca26\"], [1.0, \"#f0f921\"]], \"type\": \"histogram2d\"}], \"histogram2dcontour\": [{\"colorbar\": {\"outlinewidth\": 0, \"ticks\": \"\"}, \"colorscale\": [[0.0, \"#0d0887\"], [0.1111111111111111, \"#46039f\"], [0.2222222222222222, \"#7201a8\"], [0.3333333333333333, \"#9c179e\"], [0.4444444444444444, \"#bd3786\"], [0.5555555555555556, \"#d8576b\"], [0.6666666666666666, \"#ed7953\"], [0.7777777777777778, \"#fb9f3a\"], [0.8888888888888888, \"#fdca26\"], [1.0, \"#f0f921\"]], \"type\": \"histogram2dcontour\"}], \"mesh3d\": [{\"colorbar\": {\"outlinewidth\": 0, \"ticks\": \"\"}, \"type\": \"mesh3d\"}], \"parcoords\": [{\"line\": {\"colorbar\": {\"outlinewidth\": 0, \"ticks\": \"\"}}, \"type\": \"parcoords\"}], \"pie\": [{\"automargin\": true, \"type\": \"pie\"}], \"scatter\": [{\"marker\": {\"colorbar\": {\"outlinewidth\": 0, \"ticks\": \"\"}}, \"type\": \"scatter\"}], \"scatter3d\": [{\"line\": {\"colorbar\": {\"outlinewidth\": 0, \"ticks\": \"\"}}, \"marker\": {\"colorbar\": {\"outlinewidth\": 0, \"ticks\": \"\"}}, \"type\": \"scatter3d\"}], \"scattercarpet\": [{\"marker\": {\"colorbar\": {\"outlinewidth\": 0, \"ticks\": \"\"}}, \"type\": \"scattercarpet\"}], \"scattergeo\": [{\"marker\": {\"colorbar\": {\"outlinewidth\": 0, \"ticks\": \"\"}}, \"type\": \"scattergeo\"}], \"scattergl\": [{\"marker\": {\"colorbar\": {\"outlinewidth\": 0, \"ticks\": \"\"}}, \"type\": \"scattergl\"}], \"scattermapbox\": [{\"marker\": {\"colorbar\": {\"outlinewidth\": 0, \"ticks\": \"\"}}, \"type\": \"scattermapbox\"}], \"scatterpolar\": [{\"marker\": {\"colorbar\": {\"outlinewidth\": 0, \"ticks\": \"\"}}, \"type\": \"scatterpolar\"}], \"scatterpolargl\": [{\"marker\": {\"colorbar\": {\"outlinewidth\": 0, \"ticks\": \"\"}}, \"type\": \"scatterpolargl\"}], \"scatterternary\": [{\"marker\": {\"colorbar\": {\"outlinewidth\": 0, \"ticks\": \"\"}}, \"type\": \"scatterternary\"}], \"surface\": [{\"colorbar\": {\"outlinewidth\": 0, \"ticks\": \"\"}, \"colorscale\": [[0.0, \"#0d0887\"], [0.1111111111111111, \"#46039f\"], [0.2222222222222222, \"#7201a8\"], [0.3333333333333333, \"#9c179e\"], [0.4444444444444444, \"#bd3786\"], [0.5555555555555556, \"#d8576b\"], [0.6666666666666666, \"#ed7953\"], [0.7777777777777778, \"#fb9f3a\"], [0.8888888888888888, \"#fdca26\"], [1.0, \"#f0f921\"]], \"type\": \"surface\"}], \"table\": [{\"cells\": {\"fill\": {\"color\": \"#EBF0F8\"}, \"line\": {\"color\": \"white\"}}, \"header\": {\"fill\": {\"color\": \"#C8D4E3\"}, \"line\": {\"color\": \"white\"}}, \"type\": \"table\"}]}, \"layout\": {\"annotationdefaults\": {\"arrowcolor\": \"#2a3f5f\", \"arrowhead\": 0, \"arrowwidth\": 1}, \"autotypenumbers\": \"strict\", \"coloraxis\": {\"colorbar\": {\"outlinewidth\": 0, \"ticks\": \"\"}}, \"colorscale\": {\"diverging\": [[0, \"#8e0152\"], [0.1, \"#c51b7d\"], [0.2, \"#de77ae\"], [0.3, \"#f1b6da\"], [0.4, \"#fde0ef\"], [0.5, \"#f7f7f7\"], [0.6, \"#e6f5d0\"], [0.7, \"#b8e186\"], [0.8, \"#7fbc41\"], [0.9, \"#4d9221\"], [1, \"#276419\"]], \"sequential\": [[0.0, \"#0d0887\"], [0.1111111111111111, \"#46039f\"], [0.2222222222222222, \"#7201a8\"], [0.3333333333333333, \"#9c179e\"], [0.4444444444444444, \"#bd3786\"], [0.5555555555555556, \"#d8576b\"], [0.6666666666666666, \"#ed7953\"], [0.7777777777777778, \"#fb9f3a\"], [0.8888888888888888, \"#fdca26\"], [1.0, \"#f0f921\"]], \"sequentialminus\": [[0.0, \"#0d0887\"], [0.1111111111111111, \"#46039f\"], [0.2222222222222222, \"#7201a8\"], [0.3333333333333333, \"#9c179e\"], [0.4444444444444444, \"#bd3786\"], [0.5555555555555556, \"#d8576b\"], [0.6666666666666666, \"#ed7953\"], [0.7777777777777778, \"#fb9f3a\"], [0.8888888888888888, \"#fdca26\"], [1.0, \"#f0f921\"]]}, \"colorway\": [\"#636efa\", \"#EF553B\", \"#00cc96\", \"#ab63fa\", \"#FFA15A\", \"#19d3f3\", \"#FF6692\", \"#B6E880\", \"#FF97FF\", \"#FECB52\"], \"font\": {\"color\": \"#2a3f5f\"}, \"geo\": {\"bgcolor\": \"white\", \"lakecolor\": \"white\", \"landcolor\": \"#E5ECF6\", \"showlakes\": true, \"showland\": true, \"subunitcolor\": \"white\"}, \"hoverlabel\": {\"align\": \"left\"}, \"hovermode\": \"closest\", \"mapbox\": {\"style\": \"light\"}, \"paper_bgcolor\": \"white\", \"plot_bgcolor\": \"#E5ECF6\", \"polar\": {\"angularaxis\": {\"gridcolor\": \"white\", \"linecolor\": \"white\", \"ticks\": \"\"}, \"bgcolor\": \"#E5ECF6\", \"radialaxis\": {\"gridcolor\": \"white\", \"linecolor\": \"white\", \"ticks\": \"\"}}, \"scene\": {\"xaxis\": {\"backgroundcolor\": \"#E5ECF6\", \"gridcolor\": \"white\", \"gridwidth\": 2, \"linecolor\": \"white\", \"showbackground\": true, \"ticks\": \"\", \"zerolinecolor\": \"white\"}, \"yaxis\": {\"backgroundcolor\": \"#E5ECF6\", \"gridcolor\": \"white\", \"gridwidth\": 2, \"linecolor\": \"white\", \"showbackground\": true, \"ticks\": \"\", \"zerolinecolor\": \"white\"}, \"zaxis\": {\"backgroundcolor\": \"#E5ECF6\", \"gridcolor\": \"white\", \"gridwidth\": 2, \"linecolor\": \"white\", \"showbackground\": true, \"ticks\": \"\", \"zerolinecolor\": \"white\"}}, \"shapedefaults\": {\"line\": {\"color\": \"#2a3f5f\"}}, \"ternary\": {\"aaxis\": {\"gridcolor\": \"white\", \"linecolor\": \"white\", \"ticks\": \"\"}, \"baxis\": {\"gridcolor\": \"white\", \"linecolor\": \"white\", \"ticks\": \"\"}, \"bgcolor\": \"#E5ECF6\", \"caxis\": {\"gridcolor\": \"white\", \"linecolor\": \"white\", \"ticks\": \"\"}}, \"title\": {\"x\": 0.05}, \"xaxis\": {\"automargin\": true, \"gridcolor\": \"white\", \"linecolor\": \"white\", \"ticks\": \"\", \"title\": {\"standoff\": 15}, \"zerolinecolor\": \"white\", \"zerolinewidth\": 2}, \"yaxis\": {\"automargin\": true, \"gridcolor\": \"white\", \"linecolor\": \"white\", \"ticks\": \"\", \"title\": {\"standoff\": 15}, \"zerolinecolor\": \"white\", \"zerolinewidth\": 2}}}, \"title\": {\"font\": {\"color\": \"#4D5663\"}, \"text\": \"Top 100 bigrams after removing stop words\"}, \"xaxis\": {\"gridcolor\": \"#E1E5ED\", \"linecolor\": \"black\", \"showgrid\": true, \"tickfont\": {\"color\": \"#4D5663\"}, \"title\": {\"font\": {\"color\": \"#4D5663\"}, \"text\": \"\"}, \"zerolinecolor\": \"#E1E5ED\"}, \"yaxis\": {\"gridcolor\": \"#E1E5ED\", \"linecolor\": \"black\", \"showgrid\": true, \"tickfont\": {\"color\": \"#4D5663\"}, \"title\": {\"font\": {\"color\": \"#4D5663\"}, \"text\": \"Count\"}, \"zerolinecolor\": \"#E1E5ED\"}},                        {\"showLink\": true, \"linkText\": \"Export to plot.ly\", \"plotlyServerURL\": \"https://plot.ly\", \"responsive\": true}                    ).then(function(){\n",
       "                            \n",
       "var gd = document.getElementById('6c714e64-c1b7-49bd-bb55-5021a2bcf6e7');\n",
       "var x = new MutationObserver(function (mutations, observer) {{\n",
       "        var display = window.getComputedStyle(gd).display;\n",
       "        if (!display || display === 'none') {{\n",
       "            console.log([gd, 'removed!']);\n",
       "            Plotly.purge(gd);\n",
       "            observer.disconnect();\n",
       "        }}\n",
       "}});\n",
       "\n",
       "// Listen for the removal of the full notebook cells\n",
       "var notebookContainer = gd.closest('#notebook-container');\n",
       "if (notebookContainer) {{\n",
       "    x.observe(notebookContainer, {childList: true});\n",
       "}}\n",
       "\n",
       "// Listen for the clearing of the current output cell\n",
       "var outputEl = gd.closest('.output');\n",
       "if (outputEl) {{\n",
       "    x.observe(outputEl, {childList: true});\n",
       "}}\n",
       "\n",
       "                        })                };                });            </script>        </div>"
      ]
     },
     "metadata": {},
     "output_type": "display_data"
    }
   ],
   "source": [
    "plot_model(plot ='bigram')"
   ]
  },
  {
   "cell_type": "code",
   "execution_count": 22,
   "metadata": {
    "pycharm": {
     "name": "#%%\n"
    }
   },
   "outputs": [
    {
     "data": {
      "text/html": [
       "        <script type=\"text/javascript\">\n",
       "        window.PlotlyConfig = {MathJaxConfig: 'local'};\n",
       "        if (window.MathJax) {MathJax.Hub.Config({SVG: {font: \"STIX-Web\"}});}\n",
       "        if (typeof require !== 'undefined') {\n",
       "        require.undef(\"plotly\");\n",
       "        requirejs.config({\n",
       "            paths: {\n",
       "                'plotly': ['https://cdn.plot.ly/plotly-latest.min']\n",
       "            }\n",
       "        });\n",
       "        require(['plotly'], function(Plotly) {\n",
       "            window._Plotly = Plotly;\n",
       "        });\n",
       "        }\n",
       "        </script>\n",
       "        "
      ]
     },
     "metadata": {},
     "output_type": "display_data"
    },
    {
     "data": {
      "application/vnd.plotly.v1+json": {
       "config": {
        "linkText": "Export to plot.ly",
        "plotlyServerURL": "https://plot.ly",
        "showLink": true
       },
       "data": [
        {
         "marker": {
          "color": "rgba(255, 153, 51, 0.6)",
          "line": {
           "color": "rgba(255, 153, 51, 1.0)",
           "width": 1
          }
         },
         "name": "count",
         "orientation": "v",
         "text": "",
         "type": "bar",
         "x": [
          "republican presidential candidate",
          "democratic presidential candidate",
          "percent percent percent",
          "new world order",
          "republican presidential nominee",
          "third party candidate",
          "democratic presidential nominee",
          "kill administration_rules_dismantle early",
          "administration_rules_dismantle early list",
          "republican primary voter",
          "democratic presidential nomination",
          "use personal email",
          "want make sure",
          "presidential candidate say",
          "poll show trump",
          "use military force",
          "trump say would",
          "last year say",
          "personal email account",
          "recent poll show",
          "major party candidate",
          "kill least people",
          "republican presidential nomination",
          "say also say",
          "administration official say",
          "first time year",
          "please share story_facebook_twitter",
          "liberal_media_bia please share",
          "help fight liberal_media_bia",
          "senior administration official",
          "fight liberal_media_bia please",
          "first presidential debate",
          "day presidential election",
          "et_author_five_book base click_information_howard_kurtz",
          "movement help fight",
          "play important role",
          "play key role",
          "appear first change",
          "presumptive republican nominee",
          "major political party",
          "real clear politic",
          "support movement help",
          "analyst_host_mediabuzz_sunday et_author_five_book base",
          "say last year",
          "spend lot time",
          "spend much time",
          "former presidential candidate",
          "first female president",
          "close election day",
          "former florida_gov_jeb bush",
          "say would vote",
          "less week go",
          "first black president",
          "say would support",
          "health_wellness_infowars_life tzrwu_utm_campaign_infowars_placement widget_utm_content_brain_force",
          "force_next_generation neural_activation_infowars_life wp_content_uploads_brainforce",
          "infowars_com_wp_content tzrwu_utm_campaign_infowars_placement widget_utm_content_brain_force",
          "infowars_life_brain_force com_utm_medium_widget_utm_content next_generation_neural_activation",
          "com_health_wellness infowars_life_brain_force com_utm_medium_widget_utm_content",
          "tzrwu_utm_campaign_infowars_placement widget_utm_content_brain_force health_wellness_infowars_life",
          "supercharge_state_mind_brain force_next_generation neural_activation_infowars_life",
          "com_utm_medium_widget_utm_content next_generation_neural_activation infowars_com_wp_content",
          "wp_content_uploads_brainforce com_health_wellness infowars_life_brain_force",
          "political action committee",
          "neural_activation_infowars_life wp_content_uploads_brainforce com_health_wellness",
          "widget_utm_content_brain_force health_wellness_infowars_life tzrwu_utm_campaign_infowars_placement",
          "next_generation_neural_activation infowars_com_wp_content tzrwu_utm_campaign_infowars_placement",
          "democratic presidential debate",
          "say trump campaign",
          "democratic primary voter",
          "trump supporter say",
          "republican presidential race",
          "amy_moreno_publishe thrones_nerd_follow_twitter support",
          "first time candidate",
          "become first woman",
          "thrones_nerd_follow_twitter support movement",
          "last presidential election",
          "long time ago",
          "man woman child",
          "accord people familiar",
          "vote presidential election",
          "woman come forward",
          "accord new poll",
          "military official say",
          "former official say",
          "put first amy_moreno_publishe",
          "establishment_join_resistance help fight",
          "presidential campaign say",
          "percent likely voter",
          "fight put first",
          "find find find",
          "first amy_moreno_publishe thrones_nerd_follow_twitter",
          "keep country safe",
          "help fight put",
          "say would take",
          "say say would",
          "major party nominee",
          "pay fair share",
          "presumptive republican presidential",
          "leave people dead"
         ],
         "y": [
          201,
          105,
          79,
          76,
          72,
          72,
          69,
          58,
          58,
          48,
          43,
          42,
          41,
          38,
          38,
          37,
          36,
          36,
          36,
          32,
          32,
          32,
          30,
          30,
          30,
          30,
          29,
          29,
          29,
          29,
          29,
          29,
          28,
          27,
          27,
          27,
          27,
          27,
          26,
          26,
          25,
          25,
          24,
          24,
          24,
          23,
          23,
          23,
          22,
          22,
          22,
          22,
          22,
          21,
          21,
          21,
          21,
          21,
          21,
          21,
          21,
          21,
          21,
          21,
          21,
          21,
          21,
          20,
          20,
          20,
          20,
          19,
          19,
          19,
          19,
          19,
          19,
          19,
          19,
          19,
          18,
          18,
          18,
          18,
          18,
          18,
          18,
          18,
          18,
          18,
          18,
          18,
          18,
          18,
          17,
          17,
          17,
          17,
          17,
          17
         ]
        }
       ],
       "layout": {
        "legend": {
         "bgcolor": "#F5F6F9",
         "font": {
          "color": "#4D5663"
         }
        },
        "paper_bgcolor": "#F5F6F9",
        "plot_bgcolor": "#F5F6F9",
        "template": {
         "data": {
          "bar": [
           {
            "error_x": {
             "color": "#2a3f5f"
            },
            "error_y": {
             "color": "#2a3f5f"
            },
            "marker": {
             "line": {
              "color": "#E5ECF6",
              "width": 0.5
             }
            },
            "type": "bar"
           }
          ],
          "barpolar": [
           {
            "marker": {
             "line": {
              "color": "#E5ECF6",
              "width": 0.5
             }
            },
            "type": "barpolar"
           }
          ],
          "carpet": [
           {
            "aaxis": {
             "endlinecolor": "#2a3f5f",
             "gridcolor": "white",
             "linecolor": "white",
             "minorgridcolor": "white",
             "startlinecolor": "#2a3f5f"
            },
            "baxis": {
             "endlinecolor": "#2a3f5f",
             "gridcolor": "white",
             "linecolor": "white",
             "minorgridcolor": "white",
             "startlinecolor": "#2a3f5f"
            },
            "type": "carpet"
           }
          ],
          "choropleth": [
           {
            "colorbar": {
             "outlinewidth": 0,
             "ticks": ""
            },
            "type": "choropleth"
           }
          ],
          "contour": [
           {
            "colorbar": {
             "outlinewidth": 0,
             "ticks": ""
            },
            "colorscale": [
             [
              0,
              "#0d0887"
             ],
             [
              0.1111111111111111,
              "#46039f"
             ],
             [
              0.2222222222222222,
              "#7201a8"
             ],
             [
              0.3333333333333333,
              "#9c179e"
             ],
             [
              0.4444444444444444,
              "#bd3786"
             ],
             [
              0.5555555555555556,
              "#d8576b"
             ],
             [
              0.6666666666666666,
              "#ed7953"
             ],
             [
              0.7777777777777778,
              "#fb9f3a"
             ],
             [
              0.8888888888888888,
              "#fdca26"
             ],
             [
              1,
              "#f0f921"
             ]
            ],
            "type": "contour"
           }
          ],
          "contourcarpet": [
           {
            "colorbar": {
             "outlinewidth": 0,
             "ticks": ""
            },
            "type": "contourcarpet"
           }
          ],
          "heatmap": [
           {
            "colorbar": {
             "outlinewidth": 0,
             "ticks": ""
            },
            "colorscale": [
             [
              0,
              "#0d0887"
             ],
             [
              0.1111111111111111,
              "#46039f"
             ],
             [
              0.2222222222222222,
              "#7201a8"
             ],
             [
              0.3333333333333333,
              "#9c179e"
             ],
             [
              0.4444444444444444,
              "#bd3786"
             ],
             [
              0.5555555555555556,
              "#d8576b"
             ],
             [
              0.6666666666666666,
              "#ed7953"
             ],
             [
              0.7777777777777778,
              "#fb9f3a"
             ],
             [
              0.8888888888888888,
              "#fdca26"
             ],
             [
              1,
              "#f0f921"
             ]
            ],
            "type": "heatmap"
           }
          ],
          "heatmapgl": [
           {
            "colorbar": {
             "outlinewidth": 0,
             "ticks": ""
            },
            "colorscale": [
             [
              0,
              "#0d0887"
             ],
             [
              0.1111111111111111,
              "#46039f"
             ],
             [
              0.2222222222222222,
              "#7201a8"
             ],
             [
              0.3333333333333333,
              "#9c179e"
             ],
             [
              0.4444444444444444,
              "#bd3786"
             ],
             [
              0.5555555555555556,
              "#d8576b"
             ],
             [
              0.6666666666666666,
              "#ed7953"
             ],
             [
              0.7777777777777778,
              "#fb9f3a"
             ],
             [
              0.8888888888888888,
              "#fdca26"
             ],
             [
              1,
              "#f0f921"
             ]
            ],
            "type": "heatmapgl"
           }
          ],
          "histogram": [
           {
            "marker": {
             "colorbar": {
              "outlinewidth": 0,
              "ticks": ""
             }
            },
            "type": "histogram"
           }
          ],
          "histogram2d": [
           {
            "colorbar": {
             "outlinewidth": 0,
             "ticks": ""
            },
            "colorscale": [
             [
              0,
              "#0d0887"
             ],
             [
              0.1111111111111111,
              "#46039f"
             ],
             [
              0.2222222222222222,
              "#7201a8"
             ],
             [
              0.3333333333333333,
              "#9c179e"
             ],
             [
              0.4444444444444444,
              "#bd3786"
             ],
             [
              0.5555555555555556,
              "#d8576b"
             ],
             [
              0.6666666666666666,
              "#ed7953"
             ],
             [
              0.7777777777777778,
              "#fb9f3a"
             ],
             [
              0.8888888888888888,
              "#fdca26"
             ],
             [
              1,
              "#f0f921"
             ]
            ],
            "type": "histogram2d"
           }
          ],
          "histogram2dcontour": [
           {
            "colorbar": {
             "outlinewidth": 0,
             "ticks": ""
            },
            "colorscale": [
             [
              0,
              "#0d0887"
             ],
             [
              0.1111111111111111,
              "#46039f"
             ],
             [
              0.2222222222222222,
              "#7201a8"
             ],
             [
              0.3333333333333333,
              "#9c179e"
             ],
             [
              0.4444444444444444,
              "#bd3786"
             ],
             [
              0.5555555555555556,
              "#d8576b"
             ],
             [
              0.6666666666666666,
              "#ed7953"
             ],
             [
              0.7777777777777778,
              "#fb9f3a"
             ],
             [
              0.8888888888888888,
              "#fdca26"
             ],
             [
              1,
              "#f0f921"
             ]
            ],
            "type": "histogram2dcontour"
           }
          ],
          "mesh3d": [
           {
            "colorbar": {
             "outlinewidth": 0,
             "ticks": ""
            },
            "type": "mesh3d"
           }
          ],
          "parcoords": [
           {
            "line": {
             "colorbar": {
              "outlinewidth": 0,
              "ticks": ""
             }
            },
            "type": "parcoords"
           }
          ],
          "pie": [
           {
            "automargin": true,
            "type": "pie"
           }
          ],
          "scatter": [
           {
            "marker": {
             "colorbar": {
              "outlinewidth": 0,
              "ticks": ""
             }
            },
            "type": "scatter"
           }
          ],
          "scatter3d": [
           {
            "line": {
             "colorbar": {
              "outlinewidth": 0,
              "ticks": ""
             }
            },
            "marker": {
             "colorbar": {
              "outlinewidth": 0,
              "ticks": ""
             }
            },
            "type": "scatter3d"
           }
          ],
          "scattercarpet": [
           {
            "marker": {
             "colorbar": {
              "outlinewidth": 0,
              "ticks": ""
             }
            },
            "type": "scattercarpet"
           }
          ],
          "scattergeo": [
           {
            "marker": {
             "colorbar": {
              "outlinewidth": 0,
              "ticks": ""
             }
            },
            "type": "scattergeo"
           }
          ],
          "scattergl": [
           {
            "marker": {
             "colorbar": {
              "outlinewidth": 0,
              "ticks": ""
             }
            },
            "type": "scattergl"
           }
          ],
          "scattermapbox": [
           {
            "marker": {
             "colorbar": {
              "outlinewidth": 0,
              "ticks": ""
             }
            },
            "type": "scattermapbox"
           }
          ],
          "scatterpolar": [
           {
            "marker": {
             "colorbar": {
              "outlinewidth": 0,
              "ticks": ""
             }
            },
            "type": "scatterpolar"
           }
          ],
          "scatterpolargl": [
           {
            "marker": {
             "colorbar": {
              "outlinewidth": 0,
              "ticks": ""
             }
            },
            "type": "scatterpolargl"
           }
          ],
          "scatterternary": [
           {
            "marker": {
             "colorbar": {
              "outlinewidth": 0,
              "ticks": ""
             }
            },
            "type": "scatterternary"
           }
          ],
          "surface": [
           {
            "colorbar": {
             "outlinewidth": 0,
             "ticks": ""
            },
            "colorscale": [
             [
              0,
              "#0d0887"
             ],
             [
              0.1111111111111111,
              "#46039f"
             ],
             [
              0.2222222222222222,
              "#7201a8"
             ],
             [
              0.3333333333333333,
              "#9c179e"
             ],
             [
              0.4444444444444444,
              "#bd3786"
             ],
             [
              0.5555555555555556,
              "#d8576b"
             ],
             [
              0.6666666666666666,
              "#ed7953"
             ],
             [
              0.7777777777777778,
              "#fb9f3a"
             ],
             [
              0.8888888888888888,
              "#fdca26"
             ],
             [
              1,
              "#f0f921"
             ]
            ],
            "type": "surface"
           }
          ],
          "table": [
           {
            "cells": {
             "fill": {
              "color": "#EBF0F8"
             },
             "line": {
              "color": "white"
             }
            },
            "header": {
             "fill": {
              "color": "#C8D4E3"
             },
             "line": {
              "color": "white"
             }
            },
            "type": "table"
           }
          ]
         },
         "layout": {
          "annotationdefaults": {
           "arrowcolor": "#2a3f5f",
           "arrowhead": 0,
           "arrowwidth": 1
          },
          "autotypenumbers": "strict",
          "coloraxis": {
           "colorbar": {
            "outlinewidth": 0,
            "ticks": ""
           }
          },
          "colorscale": {
           "diverging": [
            [
             0,
             "#8e0152"
            ],
            [
             0.1,
             "#c51b7d"
            ],
            [
             0.2,
             "#de77ae"
            ],
            [
             0.3,
             "#f1b6da"
            ],
            [
             0.4,
             "#fde0ef"
            ],
            [
             0.5,
             "#f7f7f7"
            ],
            [
             0.6,
             "#e6f5d0"
            ],
            [
             0.7,
             "#b8e186"
            ],
            [
             0.8,
             "#7fbc41"
            ],
            [
             0.9,
             "#4d9221"
            ],
            [
             1,
             "#276419"
            ]
           ],
           "sequential": [
            [
             0,
             "#0d0887"
            ],
            [
             0.1111111111111111,
             "#46039f"
            ],
            [
             0.2222222222222222,
             "#7201a8"
            ],
            [
             0.3333333333333333,
             "#9c179e"
            ],
            [
             0.4444444444444444,
             "#bd3786"
            ],
            [
             0.5555555555555556,
             "#d8576b"
            ],
            [
             0.6666666666666666,
             "#ed7953"
            ],
            [
             0.7777777777777778,
             "#fb9f3a"
            ],
            [
             0.8888888888888888,
             "#fdca26"
            ],
            [
             1,
             "#f0f921"
            ]
           ],
           "sequentialminus": [
            [
             0,
             "#0d0887"
            ],
            [
             0.1111111111111111,
             "#46039f"
            ],
            [
             0.2222222222222222,
             "#7201a8"
            ],
            [
             0.3333333333333333,
             "#9c179e"
            ],
            [
             0.4444444444444444,
             "#bd3786"
            ],
            [
             0.5555555555555556,
             "#d8576b"
            ],
            [
             0.6666666666666666,
             "#ed7953"
            ],
            [
             0.7777777777777778,
             "#fb9f3a"
            ],
            [
             0.8888888888888888,
             "#fdca26"
            ],
            [
             1,
             "#f0f921"
            ]
           ]
          },
          "colorway": [
           "#636efa",
           "#EF553B",
           "#00cc96",
           "#ab63fa",
           "#FFA15A",
           "#19d3f3",
           "#FF6692",
           "#B6E880",
           "#FF97FF",
           "#FECB52"
          ],
          "font": {
           "color": "#2a3f5f"
          },
          "geo": {
           "bgcolor": "white",
           "lakecolor": "white",
           "landcolor": "#E5ECF6",
           "showlakes": true,
           "showland": true,
           "subunitcolor": "white"
          },
          "hoverlabel": {
           "align": "left"
          },
          "hovermode": "closest",
          "mapbox": {
           "style": "light"
          },
          "paper_bgcolor": "white",
          "plot_bgcolor": "#E5ECF6",
          "polar": {
           "angularaxis": {
            "gridcolor": "white",
            "linecolor": "white",
            "ticks": ""
           },
           "bgcolor": "#E5ECF6",
           "radialaxis": {
            "gridcolor": "white",
            "linecolor": "white",
            "ticks": ""
           }
          },
          "scene": {
           "xaxis": {
            "backgroundcolor": "#E5ECF6",
            "gridcolor": "white",
            "gridwidth": 2,
            "linecolor": "white",
            "showbackground": true,
            "ticks": "",
            "zerolinecolor": "white"
           },
           "yaxis": {
            "backgroundcolor": "#E5ECF6",
            "gridcolor": "white",
            "gridwidth": 2,
            "linecolor": "white",
            "showbackground": true,
            "ticks": "",
            "zerolinecolor": "white"
           },
           "zaxis": {
            "backgroundcolor": "#E5ECF6",
            "gridcolor": "white",
            "gridwidth": 2,
            "linecolor": "white",
            "showbackground": true,
            "ticks": "",
            "zerolinecolor": "white"
           }
          },
          "shapedefaults": {
           "line": {
            "color": "#2a3f5f"
           }
          },
          "ternary": {
           "aaxis": {
            "gridcolor": "white",
            "linecolor": "white",
            "ticks": ""
           },
           "baxis": {
            "gridcolor": "white",
            "linecolor": "white",
            "ticks": ""
           },
           "bgcolor": "#E5ECF6",
           "caxis": {
            "gridcolor": "white",
            "linecolor": "white",
            "ticks": ""
           }
          },
          "title": {
           "x": 0.05
          },
          "xaxis": {
           "automargin": true,
           "gridcolor": "white",
           "linecolor": "white",
           "ticks": "",
           "title": {
            "standoff": 15
           },
           "zerolinecolor": "white",
           "zerolinewidth": 2
          },
          "yaxis": {
           "automargin": true,
           "gridcolor": "white",
           "linecolor": "white",
           "ticks": "",
           "title": {
            "standoff": 15
           },
           "zerolinecolor": "white",
           "zerolinewidth": 2
          }
         }
        },
        "title": {
         "font": {
          "color": "#4D5663"
         },
         "text": "Top 100 trigrams after removing stop words"
        },
        "xaxis": {
         "gridcolor": "#E1E5ED",
         "linecolor": "black",
         "showgrid": true,
         "tickfont": {
          "color": "#4D5663"
         },
         "title": {
          "font": {
           "color": "#4D5663"
          },
          "text": ""
         },
         "zerolinecolor": "#E1E5ED"
        },
        "yaxis": {
         "gridcolor": "#E1E5ED",
         "linecolor": "black",
         "showgrid": true,
         "tickfont": {
          "color": "#4D5663"
         },
         "title": {
          "font": {
           "color": "#4D5663"
          },
          "text": "Count"
         },
         "zerolinecolor": "#E1E5ED"
        }
       }
      },
      "text/html": [
       "<div>                            <div id=\"270da5f9-eb63-4985-8e4a-82a810c0c14e\" class=\"plotly-graph-div\" style=\"height:525px; width:100%;\"></div>            <script type=\"text/javascript\">                require([\"plotly\"], function(Plotly) {                    window.PLOTLYENV=window.PLOTLYENV || {};\n",
       "                    window.PLOTLYENV.BASE_URL='https://plot.ly';                                    if (document.getElementById(\"270da5f9-eb63-4985-8e4a-82a810c0c14e\")) {                    Plotly.newPlot(                        \"270da5f9-eb63-4985-8e4a-82a810c0c14e\",                        [{\"marker\": {\"color\": \"rgba(255, 153, 51, 0.6)\", \"line\": {\"color\": \"rgba(255, 153, 51, 1.0)\", \"width\": 1}}, \"name\": \"count\", \"orientation\": \"v\", \"text\": \"\", \"type\": \"bar\", \"x\": [\"republican presidential candidate\", \"democratic presidential candidate\", \"percent percent percent\", \"new world order\", \"republican presidential nominee\", \"third party candidate\", \"democratic presidential nominee\", \"kill administration_rules_dismantle early\", \"administration_rules_dismantle early list\", \"republican primary voter\", \"democratic presidential nomination\", \"use personal email\", \"want make sure\", \"presidential candidate say\", \"poll show trump\", \"use military force\", \"trump say would\", \"last year say\", \"personal email account\", \"recent poll show\", \"major party candidate\", \"kill least people\", \"republican presidential nomination\", \"say also say\", \"administration official say\", \"first time year\", \"please share story_facebook_twitter\", \"liberal_media_bia please share\", \"help fight liberal_media_bia\", \"senior administration official\", \"fight liberal_media_bia please\", \"first presidential debate\", \"day presidential election\", \"et_author_five_book base click_information_howard_kurtz\", \"movement help fight\", \"play important role\", \"play key role\", \"appear first change\", \"presumptive republican nominee\", \"major political party\", \"real clear politic\", \"support movement help\", \"analyst_host_mediabuzz_sunday et_author_five_book base\", \"say last year\", \"spend lot time\", \"spend much time\", \"former presidential candidate\", \"first female president\", \"close election day\", \"former florida_gov_jeb bush\", \"say would vote\", \"less week go\", \"first black president\", \"say would support\", \"health_wellness_infowars_life tzrwu_utm_campaign_infowars_placement widget_utm_content_brain_force\", \"force_next_generation neural_activation_infowars_life wp_content_uploads_brainforce\", \"infowars_com_wp_content tzrwu_utm_campaign_infowars_placement widget_utm_content_brain_force\", \"infowars_life_brain_force com_utm_medium_widget_utm_content next_generation_neural_activation\", \"com_health_wellness infowars_life_brain_force com_utm_medium_widget_utm_content\", \"tzrwu_utm_campaign_infowars_placement widget_utm_content_brain_force health_wellness_infowars_life\", \"supercharge_state_mind_brain force_next_generation neural_activation_infowars_life\", \"com_utm_medium_widget_utm_content next_generation_neural_activation infowars_com_wp_content\", \"wp_content_uploads_brainforce com_health_wellness infowars_life_brain_force\", \"political action committee\", \"neural_activation_infowars_life wp_content_uploads_brainforce com_health_wellness\", \"widget_utm_content_brain_force health_wellness_infowars_life tzrwu_utm_campaign_infowars_placement\", \"next_generation_neural_activation infowars_com_wp_content tzrwu_utm_campaign_infowars_placement\", \"democratic presidential debate\", \"say trump campaign\", \"democratic primary voter\", \"trump supporter say\", \"republican presidential race\", \"amy_moreno_publishe thrones_nerd_follow_twitter support\", \"first time candidate\", \"become first woman\", \"thrones_nerd_follow_twitter support movement\", \"last presidential election\", \"long time ago\", \"man woman child\", \"accord people familiar\", \"vote presidential election\", \"woman come forward\", \"accord new poll\", \"military official say\", \"former official say\", \"put first amy_moreno_publishe\", \"establishment_join_resistance help fight\", \"presidential campaign say\", \"percent likely voter\", \"fight put first\", \"find find find\", \"first amy_moreno_publishe thrones_nerd_follow_twitter\", \"keep country safe\", \"help fight put\", \"say would take\", \"say say would\", \"major party nominee\", \"pay fair share\", \"presumptive republican presidential\", \"leave people dead\"], \"y\": [201, 105, 79, 76, 72, 72, 69, 58, 58, 48, 43, 42, 41, 38, 38, 37, 36, 36, 36, 32, 32, 32, 30, 30, 30, 30, 29, 29, 29, 29, 29, 29, 28, 27, 27, 27, 27, 27, 26, 26, 25, 25, 24, 24, 24, 23, 23, 23, 22, 22, 22, 22, 22, 21, 21, 21, 21, 21, 21, 21, 21, 21, 21, 21, 21, 21, 21, 20, 20, 20, 20, 19, 19, 19, 19, 19, 19, 19, 19, 19, 18, 18, 18, 18, 18, 18, 18, 18, 18, 18, 18, 18, 18, 18, 17, 17, 17, 17, 17, 17]}],                        {\"legend\": {\"bgcolor\": \"#F5F6F9\", \"font\": {\"color\": \"#4D5663\"}}, \"paper_bgcolor\": \"#F5F6F9\", \"plot_bgcolor\": \"#F5F6F9\", \"template\": {\"data\": {\"bar\": [{\"error_x\": {\"color\": \"#2a3f5f\"}, \"error_y\": {\"color\": \"#2a3f5f\"}, \"marker\": {\"line\": {\"color\": \"#E5ECF6\", \"width\": 0.5}}, \"type\": \"bar\"}], \"barpolar\": [{\"marker\": {\"line\": {\"color\": \"#E5ECF6\", \"width\": 0.5}}, \"type\": \"barpolar\"}], \"carpet\": [{\"aaxis\": {\"endlinecolor\": \"#2a3f5f\", \"gridcolor\": \"white\", \"linecolor\": \"white\", \"minorgridcolor\": \"white\", \"startlinecolor\": \"#2a3f5f\"}, \"baxis\": {\"endlinecolor\": \"#2a3f5f\", \"gridcolor\": \"white\", \"linecolor\": \"white\", \"minorgridcolor\": \"white\", \"startlinecolor\": \"#2a3f5f\"}, \"type\": \"carpet\"}], \"choropleth\": [{\"colorbar\": {\"outlinewidth\": 0, \"ticks\": \"\"}, \"type\": \"choropleth\"}], \"contour\": [{\"colorbar\": {\"outlinewidth\": 0, \"ticks\": \"\"}, \"colorscale\": [[0.0, \"#0d0887\"], [0.1111111111111111, \"#46039f\"], [0.2222222222222222, \"#7201a8\"], [0.3333333333333333, \"#9c179e\"], [0.4444444444444444, \"#bd3786\"], [0.5555555555555556, \"#d8576b\"], [0.6666666666666666, \"#ed7953\"], [0.7777777777777778, \"#fb9f3a\"], [0.8888888888888888, \"#fdca26\"], [1.0, \"#f0f921\"]], \"type\": \"contour\"}], \"contourcarpet\": [{\"colorbar\": {\"outlinewidth\": 0, \"ticks\": \"\"}, \"type\": \"contourcarpet\"}], \"heatmap\": [{\"colorbar\": {\"outlinewidth\": 0, \"ticks\": \"\"}, \"colorscale\": [[0.0, \"#0d0887\"], [0.1111111111111111, \"#46039f\"], [0.2222222222222222, \"#7201a8\"], [0.3333333333333333, \"#9c179e\"], [0.4444444444444444, \"#bd3786\"], [0.5555555555555556, \"#d8576b\"], [0.6666666666666666, \"#ed7953\"], [0.7777777777777778, \"#fb9f3a\"], [0.8888888888888888, \"#fdca26\"], [1.0, \"#f0f921\"]], \"type\": \"heatmap\"}], \"heatmapgl\": [{\"colorbar\": {\"outlinewidth\": 0, \"ticks\": \"\"}, \"colorscale\": [[0.0, \"#0d0887\"], [0.1111111111111111, \"#46039f\"], [0.2222222222222222, \"#7201a8\"], [0.3333333333333333, \"#9c179e\"], [0.4444444444444444, \"#bd3786\"], [0.5555555555555556, \"#d8576b\"], [0.6666666666666666, \"#ed7953\"], [0.7777777777777778, \"#fb9f3a\"], [0.8888888888888888, \"#fdca26\"], [1.0, \"#f0f921\"]], \"type\": \"heatmapgl\"}], \"histogram\": [{\"marker\": {\"colorbar\": {\"outlinewidth\": 0, \"ticks\": \"\"}}, \"type\": \"histogram\"}], \"histogram2d\": [{\"colorbar\": {\"outlinewidth\": 0, \"ticks\": \"\"}, \"colorscale\": [[0.0, \"#0d0887\"], [0.1111111111111111, \"#46039f\"], [0.2222222222222222, \"#7201a8\"], [0.3333333333333333, \"#9c179e\"], [0.4444444444444444, \"#bd3786\"], [0.5555555555555556, \"#d8576b\"], [0.6666666666666666, \"#ed7953\"], [0.7777777777777778, \"#fb9f3a\"], [0.8888888888888888, \"#fdca26\"], [1.0, \"#f0f921\"]], \"type\": \"histogram2d\"}], \"histogram2dcontour\": [{\"colorbar\": {\"outlinewidth\": 0, \"ticks\": \"\"}, \"colorscale\": [[0.0, \"#0d0887\"], [0.1111111111111111, \"#46039f\"], [0.2222222222222222, \"#7201a8\"], [0.3333333333333333, \"#9c179e\"], [0.4444444444444444, \"#bd3786\"], [0.5555555555555556, \"#d8576b\"], [0.6666666666666666, \"#ed7953\"], [0.7777777777777778, \"#fb9f3a\"], [0.8888888888888888, \"#fdca26\"], [1.0, \"#f0f921\"]], \"type\": \"histogram2dcontour\"}], \"mesh3d\": [{\"colorbar\": {\"outlinewidth\": 0, \"ticks\": \"\"}, \"type\": \"mesh3d\"}], \"parcoords\": [{\"line\": {\"colorbar\": {\"outlinewidth\": 0, \"ticks\": \"\"}}, \"type\": \"parcoords\"}], \"pie\": [{\"automargin\": true, \"type\": \"pie\"}], \"scatter\": [{\"marker\": {\"colorbar\": {\"outlinewidth\": 0, \"ticks\": \"\"}}, \"type\": \"scatter\"}], \"scatter3d\": [{\"line\": {\"colorbar\": {\"outlinewidth\": 0, \"ticks\": \"\"}}, \"marker\": {\"colorbar\": {\"outlinewidth\": 0, \"ticks\": \"\"}}, \"type\": \"scatter3d\"}], \"scattercarpet\": [{\"marker\": {\"colorbar\": {\"outlinewidth\": 0, \"ticks\": \"\"}}, \"type\": \"scattercarpet\"}], \"scattergeo\": [{\"marker\": {\"colorbar\": {\"outlinewidth\": 0, \"ticks\": \"\"}}, \"type\": \"scattergeo\"}], \"scattergl\": [{\"marker\": {\"colorbar\": {\"outlinewidth\": 0, \"ticks\": \"\"}}, \"type\": \"scattergl\"}], \"scattermapbox\": [{\"marker\": {\"colorbar\": {\"outlinewidth\": 0, \"ticks\": \"\"}}, \"type\": \"scattermapbox\"}], \"scatterpolar\": [{\"marker\": {\"colorbar\": {\"outlinewidth\": 0, \"ticks\": \"\"}}, \"type\": \"scatterpolar\"}], \"scatterpolargl\": [{\"marker\": {\"colorbar\": {\"outlinewidth\": 0, \"ticks\": \"\"}}, \"type\": \"scatterpolargl\"}], \"scatterternary\": [{\"marker\": {\"colorbar\": {\"outlinewidth\": 0, \"ticks\": \"\"}}, \"type\": \"scatterternary\"}], \"surface\": [{\"colorbar\": {\"outlinewidth\": 0, \"ticks\": \"\"}, \"colorscale\": [[0.0, \"#0d0887\"], [0.1111111111111111, \"#46039f\"], [0.2222222222222222, \"#7201a8\"], [0.3333333333333333, \"#9c179e\"], [0.4444444444444444, \"#bd3786\"], [0.5555555555555556, \"#d8576b\"], [0.6666666666666666, \"#ed7953\"], [0.7777777777777778, \"#fb9f3a\"], [0.8888888888888888, \"#fdca26\"], [1.0, \"#f0f921\"]], \"type\": \"surface\"}], \"table\": [{\"cells\": {\"fill\": {\"color\": \"#EBF0F8\"}, \"line\": {\"color\": \"white\"}}, \"header\": {\"fill\": {\"color\": \"#C8D4E3\"}, \"line\": {\"color\": \"white\"}}, \"type\": \"table\"}]}, \"layout\": {\"annotationdefaults\": {\"arrowcolor\": \"#2a3f5f\", \"arrowhead\": 0, \"arrowwidth\": 1}, \"autotypenumbers\": \"strict\", \"coloraxis\": {\"colorbar\": {\"outlinewidth\": 0, \"ticks\": \"\"}}, \"colorscale\": {\"diverging\": [[0, \"#8e0152\"], [0.1, \"#c51b7d\"], [0.2, \"#de77ae\"], [0.3, \"#f1b6da\"], [0.4, \"#fde0ef\"], [0.5, \"#f7f7f7\"], [0.6, \"#e6f5d0\"], [0.7, \"#b8e186\"], [0.8, \"#7fbc41\"], [0.9, \"#4d9221\"], [1, \"#276419\"]], \"sequential\": [[0.0, \"#0d0887\"], [0.1111111111111111, \"#46039f\"], [0.2222222222222222, \"#7201a8\"], [0.3333333333333333, \"#9c179e\"], [0.4444444444444444, \"#bd3786\"], [0.5555555555555556, \"#d8576b\"], [0.6666666666666666, \"#ed7953\"], [0.7777777777777778, \"#fb9f3a\"], [0.8888888888888888, \"#fdca26\"], [1.0, \"#f0f921\"]], \"sequentialminus\": [[0.0, \"#0d0887\"], [0.1111111111111111, \"#46039f\"], [0.2222222222222222, \"#7201a8\"], [0.3333333333333333, \"#9c179e\"], [0.4444444444444444, \"#bd3786\"], [0.5555555555555556, \"#d8576b\"], [0.6666666666666666, \"#ed7953\"], [0.7777777777777778, \"#fb9f3a\"], [0.8888888888888888, \"#fdca26\"], [1.0, \"#f0f921\"]]}, \"colorway\": [\"#636efa\", \"#EF553B\", \"#00cc96\", \"#ab63fa\", \"#FFA15A\", \"#19d3f3\", \"#FF6692\", \"#B6E880\", \"#FF97FF\", \"#FECB52\"], \"font\": {\"color\": \"#2a3f5f\"}, \"geo\": {\"bgcolor\": \"white\", \"lakecolor\": \"white\", \"landcolor\": \"#E5ECF6\", \"showlakes\": true, \"showland\": true, \"subunitcolor\": \"white\"}, \"hoverlabel\": {\"align\": \"left\"}, \"hovermode\": \"closest\", \"mapbox\": {\"style\": \"light\"}, \"paper_bgcolor\": \"white\", \"plot_bgcolor\": \"#E5ECF6\", \"polar\": {\"angularaxis\": {\"gridcolor\": \"white\", \"linecolor\": \"white\", \"ticks\": \"\"}, \"bgcolor\": \"#E5ECF6\", \"radialaxis\": {\"gridcolor\": \"white\", \"linecolor\": \"white\", \"ticks\": \"\"}}, \"scene\": {\"xaxis\": {\"backgroundcolor\": \"#E5ECF6\", \"gridcolor\": \"white\", \"gridwidth\": 2, \"linecolor\": \"white\", \"showbackground\": true, \"ticks\": \"\", \"zerolinecolor\": \"white\"}, \"yaxis\": {\"backgroundcolor\": \"#E5ECF6\", \"gridcolor\": \"white\", \"gridwidth\": 2, \"linecolor\": \"white\", \"showbackground\": true, \"ticks\": \"\", \"zerolinecolor\": \"white\"}, \"zaxis\": {\"backgroundcolor\": \"#E5ECF6\", \"gridcolor\": \"white\", \"gridwidth\": 2, \"linecolor\": \"white\", \"showbackground\": true, \"ticks\": \"\", \"zerolinecolor\": \"white\"}}, \"shapedefaults\": {\"line\": {\"color\": \"#2a3f5f\"}}, \"ternary\": {\"aaxis\": {\"gridcolor\": \"white\", \"linecolor\": \"white\", \"ticks\": \"\"}, \"baxis\": {\"gridcolor\": \"white\", \"linecolor\": \"white\", \"ticks\": \"\"}, \"bgcolor\": \"#E5ECF6\", \"caxis\": {\"gridcolor\": \"white\", \"linecolor\": \"white\", \"ticks\": \"\"}}, \"title\": {\"x\": 0.05}, \"xaxis\": {\"automargin\": true, \"gridcolor\": \"white\", \"linecolor\": \"white\", \"ticks\": \"\", \"title\": {\"standoff\": 15}, \"zerolinecolor\": \"white\", \"zerolinewidth\": 2}, \"yaxis\": {\"automargin\": true, \"gridcolor\": \"white\", \"linecolor\": \"white\", \"ticks\": \"\", \"title\": {\"standoff\": 15}, \"zerolinecolor\": \"white\", \"zerolinewidth\": 2}}}, \"title\": {\"font\": {\"color\": \"#4D5663\"}, \"text\": \"Top 100 trigrams after removing stop words\"}, \"xaxis\": {\"gridcolor\": \"#E1E5ED\", \"linecolor\": \"black\", \"showgrid\": true, \"tickfont\": {\"color\": \"#4D5663\"}, \"title\": {\"font\": {\"color\": \"#4D5663\"}, \"text\": \"\"}, \"zerolinecolor\": \"#E1E5ED\"}, \"yaxis\": {\"gridcolor\": \"#E1E5ED\", \"linecolor\": \"black\", \"showgrid\": true, \"tickfont\": {\"color\": \"#4D5663\"}, \"title\": {\"font\": {\"color\": \"#4D5663\"}, \"text\": \"Count\"}, \"zerolinecolor\": \"#E1E5ED\"}},                        {\"showLink\": true, \"linkText\": \"Export to plot.ly\", \"plotlyServerURL\": \"https://plot.ly\", \"responsive\": true}                    ).then(function(){\n",
       "                            \n",
       "var gd = document.getElementById('270da5f9-eb63-4985-8e4a-82a810c0c14e');\n",
       "var x = new MutationObserver(function (mutations, observer) {{\n",
       "        var display = window.getComputedStyle(gd).display;\n",
       "        if (!display || display === 'none') {{\n",
       "            console.log([gd, 'removed!']);\n",
       "            Plotly.purge(gd);\n",
       "            observer.disconnect();\n",
       "        }}\n",
       "}});\n",
       "\n",
       "// Listen for the removal of the full notebook cells\n",
       "var notebookContainer = gd.closest('#notebook-container');\n",
       "if (notebookContainer) {{\n",
       "    x.observe(notebookContainer, {childList: true});\n",
       "}}\n",
       "\n",
       "// Listen for the clearing of the current output cell\n",
       "var outputEl = gd.closest('.output');\n",
       "if (outputEl) {{\n",
       "    x.observe(outputEl, {childList: true});\n",
       "}}\n",
       "\n",
       "                        })                };                });            </script>        </div>"
      ]
     },
     "metadata": {},
     "output_type": "display_data"
    }
   ],
   "source": [
    "plot_model(plot = 'trigram')"
   ]
  },
  {
   "cell_type": "code",
   "execution_count": 23,
   "metadata": {
    "pycharm": {
     "name": "#%%\n"
    }
   },
   "outputs": [
    {
     "name": "stdout",
     "output_type": "stream",
     "text": [
      "There are 13635565 words in the combination of all articles.\n"
     ]
    }
   ],
   "source": [
    "cl_corups = \" \".join(t for t in lda_results.text)\n",
    "print (\"There are {} words in the combination of all articles.\".format(len(cl_corups)))"
   ]
  },
  {
   "cell_type": "code",
   "execution_count": 24,
   "metadata": {
    "pycharm": {
     "name": "#%%\n"
    }
   },
   "outputs": [
    {
     "data": {
      "image/png": "[encoded data removed]",
      "text/plain": [
       "<Figure size 1080x576 with 1 Axes>"
      ]
     },
     "metadata": {},
     "output_type": "display_data"
    }
   ],
   "source": [
    "#Word cloud after preprocessing\n",
    "# combine all articles into one big text and create a big fat cloud\n",
    "from wordcloud import WordCloud, STOPWORDS, ImageColorGenerator\n",
    "\n",
    "wordcloud = WordCloud(width = 800, height = 800,\n",
    "                background_color ='white', max_words=100).generate(cl_corups)\n",
    "\n",
    "# Display the generated image:\n",
    "sns.set(rc = {'figure.figsize':(15,8)})\n",
    "plt.imshow(wordcloud, interpolation='bilinear')\n",
    "plt.axis(\"off\")\n",
    "plt.show()"
   ]
  },
  {
   "cell_type": "code",
   "execution_count": 25,
   "metadata": {
    "pycharm": {
     "name": "#%%\n"
    }
   },
   "outputs": [
    {
     "data": {
      "text/plain": [
       "Text(0, 0.5, 'Words')"
      ]
     },
     "execution_count": 25,
     "metadata": {},
     "output_type": "execute_result"
    },
    {
     "data": {
      "image/png": "[encoded data removed]",
      "text/plain": [
       "<Figure size 1080x576 with 1 Axes>"
      ]
     },
     "metadata": {},
     "output_type": "display_data"
    }
   ],
   "source": [
    "cl_corups1 = [word for word in cl_corups.split()]# if word not in stopwords]\n",
    "counted_words = collections.Counter(cl_corups1)\n",
    "\n",
    "words1 = []\n",
    "counts1 = []\n",
    "for letter, count in counted_words.most_common(20):\n",
    "    words1.append(letter)\n",
    "    counts1.append(count)\n",
    "\n",
    "sns.barplot(words1,counts1,palette=\"ch:s=.25\")\n",
    "\n",
    "plt.title('Top words vs their count')\n",
    "plt.xlabel('Count')\n",
    "plt.ylabel('Words')\n",
    "#plt.barh(words, counts, color=\"b\")"
   ]
  },
  {
   "cell_type": "code",
   "execution_count": 26,
   "metadata": {
    "pycharm": {
     "name": "#%%\n"
    }
   },
   "outputs": [],
   "source": [
    "#Feature Extraction"
   ]
  },
  {
   "cell_type": "code",
   "execution_count": 27,
   "metadata": {
    "pycharm": {
     "name": "#%%\n"
    }
   },
   "outputs": [
    {
     "data": {
      "text/html": [
       "<div>\n",
       "<style scoped>\n",
       "    .dataframe tbody tr th:only-of-type {\n",
       "        vertical-align: middle;\n",
       "    }\n",
       "\n",
       "    .dataframe tbody tr th {\n",
       "        vertical-align: top;\n",
       "    }\n",
       "\n",
       "    .dataframe thead th {\n",
       "        text-align: right;\n",
       "    }\n",
       "</style>\n",
       "<table border=\"1\" class=\"dataframe\">\n",
       "  <thead>\n",
       "    <tr style=\"text-align: right;\">\n",
       "      <th></th>\n",
       "      <th>label</th>\n",
       "      <th>Topic_0</th>\n",
       "      <th>Topic_1</th>\n",
       "      <th>Topic_2</th>\n",
       "      <th>Topic_3</th>\n",
       "      <th>Topic_4</th>\n",
       "      <th>Topic_5</th>\n",
       "      <th>Topic_6</th>\n",
       "      <th>Topic_7</th>\n",
       "      <th>Topic_8</th>\n",
       "      <th>...</th>\n",
       "      <th>Topic_22</th>\n",
       "      <th>Topic_23</th>\n",
       "      <th>Topic_24</th>\n",
       "      <th>Topic_25</th>\n",
       "      <th>Topic_26</th>\n",
       "      <th>Topic_27</th>\n",
       "      <th>Topic_28</th>\n",
       "      <th>Topic_29</th>\n",
       "      <th>Topic_30</th>\n",
       "      <th>Topic_31</th>\n",
       "    </tr>\n",
       "  </thead>\n",
       "  <tbody>\n",
       "    <tr>\n",
       "      <th>0</th>\n",
       "      <td>1</td>\n",
       "      <td>0.000074</td>\n",
       "      <td>0.272583</td>\n",
       "      <td>0.000074</td>\n",
       "      <td>0.000074</td>\n",
       "      <td>0.000074</td>\n",
       "      <td>0.000074</td>\n",
       "      <td>0.000074</td>\n",
       "      <td>0.000074</td>\n",
       "      <td>0.000074</td>\n",
       "      <td>...</td>\n",
       "      <td>0.000074</td>\n",
       "      <td>0.000074</td>\n",
       "      <td>0.000074</td>\n",
       "      <td>0.000074</td>\n",
       "      <td>0.000074</td>\n",
       "      <td>0.149996</td>\n",
       "      <td>0.000074</td>\n",
       "      <td>0.000074</td>\n",
       "      <td>0.003525</td>\n",
       "      <td>0.000074</td>\n",
       "    </tr>\n",
       "    <tr>\n",
       "      <th>1</th>\n",
       "      <td>1</td>\n",
       "      <td>0.000201</td>\n",
       "      <td>0.000201</td>\n",
       "      <td>0.000201</td>\n",
       "      <td>0.000201</td>\n",
       "      <td>0.000201</td>\n",
       "      <td>0.000201</td>\n",
       "      <td>0.000201</td>\n",
       "      <td>0.000201</td>\n",
       "      <td>0.000201</td>\n",
       "      <td>...</td>\n",
       "      <td>0.079072</td>\n",
       "      <td>0.000201</td>\n",
       "      <td>0.000201</td>\n",
       "      <td>0.000201</td>\n",
       "      <td>0.000201</td>\n",
       "      <td>0.223115</td>\n",
       "      <td>0.000201</td>\n",
       "      <td>0.000201</td>\n",
       "      <td>0.000201</td>\n",
       "      <td>0.000201</td>\n",
       "    </tr>\n",
       "    <tr>\n",
       "      <th>2</th>\n",
       "      <td>0</td>\n",
       "      <td>0.053661</td>\n",
       "      <td>0.000272</td>\n",
       "      <td>0.000272</td>\n",
       "      <td>0.000272</td>\n",
       "      <td>0.000272</td>\n",
       "      <td>0.137577</td>\n",
       "      <td>0.000272</td>\n",
       "      <td>0.000272</td>\n",
       "      <td>0.000272</td>\n",
       "      <td>...</td>\n",
       "      <td>0.000272</td>\n",
       "      <td>0.000272</td>\n",
       "      <td>0.000272</td>\n",
       "      <td>0.000272</td>\n",
       "      <td>0.000272</td>\n",
       "      <td>0.163300</td>\n",
       "      <td>0.000272</td>\n",
       "      <td>0.000272</td>\n",
       "      <td>0.000272</td>\n",
       "      <td>0.335322</td>\n",
       "    </tr>\n",
       "    <tr>\n",
       "      <th>3</th>\n",
       "      <td>1</td>\n",
       "      <td>0.000230</td>\n",
       "      <td>0.143022</td>\n",
       "      <td>0.000230</td>\n",
       "      <td>0.000230</td>\n",
       "      <td>0.000230</td>\n",
       "      <td>0.000230</td>\n",
       "      <td>0.000230</td>\n",
       "      <td>0.054799</td>\n",
       "      <td>0.000230</td>\n",
       "      <td>...</td>\n",
       "      <td>0.530999</td>\n",
       "      <td>0.000230</td>\n",
       "      <td>0.000230</td>\n",
       "      <td>0.000230</td>\n",
       "      <td>0.000230</td>\n",
       "      <td>0.038123</td>\n",
       "      <td>0.000230</td>\n",
       "      <td>0.000230</td>\n",
       "      <td>0.000230</td>\n",
       "      <td>0.000230</td>\n",
       "    </tr>\n",
       "    <tr>\n",
       "      <th>4</th>\n",
       "      <td>0</td>\n",
       "      <td>0.000289</td>\n",
       "      <td>0.000289</td>\n",
       "      <td>0.000289</td>\n",
       "      <td>0.000289</td>\n",
       "      <td>0.000289</td>\n",
       "      <td>0.000289</td>\n",
       "      <td>0.000289</td>\n",
       "      <td>0.000289</td>\n",
       "      <td>0.000289</td>\n",
       "      <td>...</td>\n",
       "      <td>0.934344</td>\n",
       "      <td>0.000289</td>\n",
       "      <td>0.000289</td>\n",
       "      <td>0.000289</td>\n",
       "      <td>0.000289</td>\n",
       "      <td>0.000289</td>\n",
       "      <td>0.000289</td>\n",
       "      <td>0.000289</td>\n",
       "      <td>0.000289</td>\n",
       "      <td>0.000289</td>\n",
       "    </tr>\n",
       "  </tbody>\n",
       "</table>\n",
       "<p>5 rows × 33 columns</p>\n",
       "</div>"
      ],
      "text/plain": [
       "   label   Topic_0   Topic_1   Topic_2   Topic_3   Topic_4   Topic_5  \\\n",
       "0      1  0.000074  0.272583  0.000074  0.000074  0.000074  0.000074   \n",
       "1      1  0.000201  0.000201  0.000201  0.000201  0.000201  0.000201   \n",
       "2      0  0.053661  0.000272  0.000272  0.000272  0.000272  0.137577   \n",
       "3      1  0.000230  0.143022  0.000230  0.000230  0.000230  0.000230   \n",
       "4      0  0.000289  0.000289  0.000289  0.000289  0.000289  0.000289   \n",
       "\n",
       "    Topic_6   Topic_7   Topic_8  ...  Topic_22  Topic_23  Topic_24  Topic_25  \\\n",
       "0  0.000074  0.000074  0.000074  ...  0.000074  0.000074  0.000074  0.000074   \n",
       "1  0.000201  0.000201  0.000201  ...  0.079072  0.000201  0.000201  0.000201   \n",
       "2  0.000272  0.000272  0.000272  ...  0.000272  0.000272  0.000272  0.000272   \n",
       "3  0.000230  0.054799  0.000230  ...  0.530999  0.000230  0.000230  0.000230   \n",
       "4  0.000289  0.000289  0.000289  ...  0.934344  0.000289  0.000289  0.000289   \n",
       "\n",
       "   Topic_26  Topic_27  Topic_28  Topic_29  Topic_30  Topic_31  \n",
       "0  0.000074  0.149996  0.000074  0.000074  0.003525  0.000074  \n",
       "1  0.000201  0.223115  0.000201  0.000201  0.000201  0.000201  \n",
       "2  0.000272  0.163300  0.000272  0.000272  0.000272  0.335322  \n",
       "3  0.000230  0.038123  0.000230  0.000230  0.000230  0.000230  \n",
       "4  0.000289  0.000289  0.000289  0.000289  0.000289  0.000289  \n",
       "\n",
       "[5 rows x 33 columns]"
      ]
     },
     "execution_count": 27,
     "metadata": {},
     "output_type": "execute_result"
    }
   ],
   "source": [
    "lda_results.drop(['text','Dominant_Topic','Perc_Dominant_Topic'],axis=1,inplace=True)\n",
    "lda_results.head()"
   ]
  },
  {
   "cell_type": "markdown",
   "metadata": {},
   "source": [
    "# Modeling"
   ]
  },
  {
   "cell_type": "code",
   "execution_count": 28,
   "metadata": {
    "pycharm": {
     "name": "#%%\n"
    }
   },
   "outputs": [
    {
     "data": {
      "text/html": [
       "<style  type=\"text/css\" >\n",
       "#T_9a741_row19_col1,#T_9a741_row31_col1,#T_9a741_row42_col1,#T_9a741_row44_col1{\n",
       "            background-color:  lightgreen;\n",
       "        }</style><table id=\"T_9a741_\" ><thead>    <tr>        <th class=\"blank level0\" ></th>        <th class=\"col_heading level0 col0\" >Description</th>        <th class=\"col_heading level0 col1\" >Value</th>    </tr></thead><tbody>\n",
       "                <tr>\n",
       "                        <th id=\"T_9a741_level0_row0\" class=\"row_heading level0 row0\" >0</th>\n",
       "                        <td id=\"T_9a741_row0_col0\" class=\"data row0 col0\" >session_id</td>\n",
       "                        <td id=\"T_9a741_row0_col1\" class=\"data row0 col1\" >123</td>\n",
       "            </tr>\n",
       "            <tr>\n",
       "                        <th id=\"T_9a741_level0_row1\" class=\"row_heading level0 row1\" >1</th>\n",
       "                        <td id=\"T_9a741_row1_col0\" class=\"data row1 col0\" >Target</td>\n",
       "                        <td id=\"T_9a741_row1_col1\" class=\"data row1 col1\" >label</td>\n",
       "            </tr>\n",
       "            <tr>\n",
       "                        <th id=\"T_9a741_level0_row2\" class=\"row_heading level0 row2\" >2</th>\n",
       "                        <td id=\"T_9a741_row2_col0\" class=\"data row2 col0\" >Target Type</td>\n",
       "                        <td id=\"T_9a741_row2_col1\" class=\"data row2 col1\" >Binary</td>\n",
       "            </tr>\n",
       "            <tr>\n",
       "                        <th id=\"T_9a741_level0_row3\" class=\"row_heading level0 row3\" >3</th>\n",
       "                        <td id=\"T_9a741_row3_col0\" class=\"data row3 col0\" >Label Encoded</td>\n",
       "                        <td id=\"T_9a741_row3_col1\" class=\"data row3 col1\" >None</td>\n",
       "            </tr>\n",
       "            <tr>\n",
       "                        <th id=\"T_9a741_level0_row4\" class=\"row_heading level0 row4\" >4</th>\n",
       "                        <td id=\"T_9a741_row4_col0\" class=\"data row4 col0\" >Original Data</td>\n",
       "                        <td id=\"T_9a741_row4_col1\" class=\"data row4 col1\" >(6335, 33)</td>\n",
       "            </tr>\n",
       "            <tr>\n",
       "                        <th id=\"T_9a741_level0_row5\" class=\"row_heading level0 row5\" >5</th>\n",
       "                        <td id=\"T_9a741_row5_col0\" class=\"data row5 col0\" >Missing Values</td>\n",
       "                        <td id=\"T_9a741_row5_col1\" class=\"data row5 col1\" >False</td>\n",
       "            </tr>\n",
       "            <tr>\n",
       "                        <th id=\"T_9a741_level0_row6\" class=\"row_heading level0 row6\" >6</th>\n",
       "                        <td id=\"T_9a741_row6_col0\" class=\"data row6 col0\" >Numeric Features</td>\n",
       "                        <td id=\"T_9a741_row6_col1\" class=\"data row6 col1\" >32</td>\n",
       "            </tr>\n",
       "            <tr>\n",
       "                        <th id=\"T_9a741_level0_row7\" class=\"row_heading level0 row7\" >7</th>\n",
       "                        <td id=\"T_9a741_row7_col0\" class=\"data row7 col0\" >Categorical Features</td>\n",
       "                        <td id=\"T_9a741_row7_col1\" class=\"data row7 col1\" >0</td>\n",
       "            </tr>\n",
       "            <tr>\n",
       "                        <th id=\"T_9a741_level0_row8\" class=\"row_heading level0 row8\" >8</th>\n",
       "                        <td id=\"T_9a741_row8_col0\" class=\"data row8 col0\" >Ordinal Features</td>\n",
       "                        <td id=\"T_9a741_row8_col1\" class=\"data row8 col1\" >False</td>\n",
       "            </tr>\n",
       "            <tr>\n",
       "                        <th id=\"T_9a741_level0_row9\" class=\"row_heading level0 row9\" >9</th>\n",
       "                        <td id=\"T_9a741_row9_col0\" class=\"data row9 col0\" >High Cardinality Features</td>\n",
       "                        <td id=\"T_9a741_row9_col1\" class=\"data row9 col1\" >False</td>\n",
       "            </tr>\n",
       "            <tr>\n",
       "                        <th id=\"T_9a741_level0_row10\" class=\"row_heading level0 row10\" >10</th>\n",
       "                        <td id=\"T_9a741_row10_col0\" class=\"data row10 col0\" >High Cardinality Method</td>\n",
       "                        <td id=\"T_9a741_row10_col1\" class=\"data row10 col1\" >None</td>\n",
       "            </tr>\n",
       "            <tr>\n",
       "                        <th id=\"T_9a741_level0_row11\" class=\"row_heading level0 row11\" >11</th>\n",
       "                        <td id=\"T_9a741_row11_col0\" class=\"data row11 col0\" >Transformed Train Set</td>\n",
       "                        <td id=\"T_9a741_row11_col1\" class=\"data row11 col1\" >(4434, 32)</td>\n",
       "            </tr>\n",
       "            <tr>\n",
       "                        <th id=\"T_9a741_level0_row12\" class=\"row_heading level0 row12\" >12</th>\n",
       "                        <td id=\"T_9a741_row12_col0\" class=\"data row12 col0\" >Transformed Test Set</td>\n",
       "                        <td id=\"T_9a741_row12_col1\" class=\"data row12 col1\" >(1901, 32)</td>\n",
       "            </tr>\n",
       "            <tr>\n",
       "                        <th id=\"T_9a741_level0_row13\" class=\"row_heading level0 row13\" >13</th>\n",
       "                        <td id=\"T_9a741_row13_col0\" class=\"data row13 col0\" >Shuffle Train-Test</td>\n",
       "                        <td id=\"T_9a741_row13_col1\" class=\"data row13 col1\" >True</td>\n",
       "            </tr>\n",
       "            <tr>\n",
       "                        <th id=\"T_9a741_level0_row14\" class=\"row_heading level0 row14\" >14</th>\n",
       "                        <td id=\"T_9a741_row14_col0\" class=\"data row14 col0\" >Stratify Train-Test</td>\n",
       "                        <td id=\"T_9a741_row14_col1\" class=\"data row14 col1\" >False</td>\n",
       "            </tr>\n",
       "            <tr>\n",
       "                        <th id=\"T_9a741_level0_row15\" class=\"row_heading level0 row15\" >15</th>\n",
       "                        <td id=\"T_9a741_row15_col0\" class=\"data row15 col0\" >Fold Generator</td>\n",
       "                        <td id=\"T_9a741_row15_col1\" class=\"data row15 col1\" >StratifiedKFold</td>\n",
       "            </tr>\n",
       "            <tr>\n",
       "                        <th id=\"T_9a741_level0_row16\" class=\"row_heading level0 row16\" >16</th>\n",
       "                        <td id=\"T_9a741_row16_col0\" class=\"data row16 col0\" >Fold Number</td>\n",
       "                        <td id=\"T_9a741_row16_col1\" class=\"data row16 col1\" >10</td>\n",
       "            </tr>\n",
       "            <tr>\n",
       "                        <th id=\"T_9a741_level0_row17\" class=\"row_heading level0 row17\" >17</th>\n",
       "                        <td id=\"T_9a741_row17_col0\" class=\"data row17 col0\" >CPU Jobs</td>\n",
       "                        <td id=\"T_9a741_row17_col1\" class=\"data row17 col1\" >-1</td>\n",
       "            </tr>\n",
       "            <tr>\n",
       "                        <th id=\"T_9a741_level0_row18\" class=\"row_heading level0 row18\" >18</th>\n",
       "                        <td id=\"T_9a741_row18_col0\" class=\"data row18 col0\" >Use GPU</td>\n",
       "                        <td id=\"T_9a741_row18_col1\" class=\"data row18 col1\" >False</td>\n",
       "            </tr>\n",
       "            <tr>\n",
       "                        <th id=\"T_9a741_level0_row19\" class=\"row_heading level0 row19\" >19</th>\n",
       "                        <td id=\"T_9a741_row19_col0\" class=\"data row19 col0\" >Log Experiment</td>\n",
       "                        <td id=\"T_9a741_row19_col1\" class=\"data row19 col1\" >True</td>\n",
       "            </tr>\n",
       "            <tr>\n",
       "                        <th id=\"T_9a741_level0_row20\" class=\"row_heading level0 row20\" >20</th>\n",
       "                        <td id=\"T_9a741_row20_col0\" class=\"data row20 col0\" >Experiment Name</td>\n",
       "                        <td id=\"T_9a741_row20_col1\" class=\"data row20 col1\" >fake_news</td>\n",
       "            </tr>\n",
       "            <tr>\n",
       "                        <th id=\"T_9a741_level0_row21\" class=\"row_heading level0 row21\" >21</th>\n",
       "                        <td id=\"T_9a741_row21_col0\" class=\"data row21 col0\" >USI</td>\n",
       "                        <td id=\"T_9a741_row21_col1\" class=\"data row21 col1\" >9587</td>\n",
       "            </tr>\n",
       "            <tr>\n",
       "                        <th id=\"T_9a741_level0_row22\" class=\"row_heading level0 row22\" >22</th>\n",
       "                        <td id=\"T_9a741_row22_col0\" class=\"data row22 col0\" >Imputation Type</td>\n",
       "                        <td id=\"T_9a741_row22_col1\" class=\"data row22 col1\" >simple</td>\n",
       "            </tr>\n",
       "            <tr>\n",
       "                        <th id=\"T_9a741_level0_row23\" class=\"row_heading level0 row23\" >23</th>\n",
       "                        <td id=\"T_9a741_row23_col0\" class=\"data row23 col0\" >Iterative Imputation Iteration</td>\n",
       "                        <td id=\"T_9a741_row23_col1\" class=\"data row23 col1\" >None</td>\n",
       "            </tr>\n",
       "            <tr>\n",
       "                        <th id=\"T_9a741_level0_row24\" class=\"row_heading level0 row24\" >24</th>\n",
       "                        <td id=\"T_9a741_row24_col0\" class=\"data row24 col0\" >Numeric Imputer</td>\n",
       "                        <td id=\"T_9a741_row24_col1\" class=\"data row24 col1\" >mean</td>\n",
       "            </tr>\n",
       "            <tr>\n",
       "                        <th id=\"T_9a741_level0_row25\" class=\"row_heading level0 row25\" >25</th>\n",
       "                        <td id=\"T_9a741_row25_col0\" class=\"data row25 col0\" >Iterative Imputation Numeric Model</td>\n",
       "                        <td id=\"T_9a741_row25_col1\" class=\"data row25 col1\" >None</td>\n",
       "            </tr>\n",
       "            <tr>\n",
       "                        <th id=\"T_9a741_level0_row26\" class=\"row_heading level0 row26\" >26</th>\n",
       "                        <td id=\"T_9a741_row26_col0\" class=\"data row26 col0\" >Categorical Imputer</td>\n",
       "                        <td id=\"T_9a741_row26_col1\" class=\"data row26 col1\" >constant</td>\n",
       "            </tr>\n",
       "            <tr>\n",
       "                        <th id=\"T_9a741_level0_row27\" class=\"row_heading level0 row27\" >27</th>\n",
       "                        <td id=\"T_9a741_row27_col0\" class=\"data row27 col0\" >Iterative Imputation Categorical Model</td>\n",
       "                        <td id=\"T_9a741_row27_col1\" class=\"data row27 col1\" >None</td>\n",
       "            </tr>\n",
       "            <tr>\n",
       "                        <th id=\"T_9a741_level0_row28\" class=\"row_heading level0 row28\" >28</th>\n",
       "                        <td id=\"T_9a741_row28_col0\" class=\"data row28 col0\" >Unknown Categoricals Handling</td>\n",
       "                        <td id=\"T_9a741_row28_col1\" class=\"data row28 col1\" >least_frequent</td>\n",
       "            </tr>\n",
       "            <tr>\n",
       "                        <th id=\"T_9a741_level0_row29\" class=\"row_heading level0 row29\" >29</th>\n",
       "                        <td id=\"T_9a741_row29_col0\" class=\"data row29 col0\" >Normalize</td>\n",
       "                        <td id=\"T_9a741_row29_col1\" class=\"data row29 col1\" >False</td>\n",
       "            </tr>\n",
       "            <tr>\n",
       "                        <th id=\"T_9a741_level0_row30\" class=\"row_heading level0 row30\" >30</th>\n",
       "                        <td id=\"T_9a741_row30_col0\" class=\"data row30 col0\" >Normalize Method</td>\n",
       "                        <td id=\"T_9a741_row30_col1\" class=\"data row30 col1\" >None</td>\n",
       "            </tr>\n",
       "            <tr>\n",
       "                        <th id=\"T_9a741_level0_row31\" class=\"row_heading level0 row31\" >31</th>\n",
       "                        <td id=\"T_9a741_row31_col0\" class=\"data row31 col0\" >Transformation</td>\n",
       "                        <td id=\"T_9a741_row31_col1\" class=\"data row31 col1\" >True</td>\n",
       "            </tr>\n",
       "            <tr>\n",
       "                        <th id=\"T_9a741_level0_row32\" class=\"row_heading level0 row32\" >32</th>\n",
       "                        <td id=\"T_9a741_row32_col0\" class=\"data row32 col0\" >Transformation Method</td>\n",
       "                        <td id=\"T_9a741_row32_col1\" class=\"data row32 col1\" >yeo-johnson</td>\n",
       "            </tr>\n",
       "            <tr>\n",
       "                        <th id=\"T_9a741_level0_row33\" class=\"row_heading level0 row33\" >33</th>\n",
       "                        <td id=\"T_9a741_row33_col0\" class=\"data row33 col0\" >PCA</td>\n",
       "                        <td id=\"T_9a741_row33_col1\" class=\"data row33 col1\" >False</td>\n",
       "            </tr>\n",
       "            <tr>\n",
       "                        <th id=\"T_9a741_level0_row34\" class=\"row_heading level0 row34\" >34</th>\n",
       "                        <td id=\"T_9a741_row34_col0\" class=\"data row34 col0\" >PCA Method</td>\n",
       "                        <td id=\"T_9a741_row34_col1\" class=\"data row34 col1\" >None</td>\n",
       "            </tr>\n",
       "            <tr>\n",
       "                        <th id=\"T_9a741_level0_row35\" class=\"row_heading level0 row35\" >35</th>\n",
       "                        <td id=\"T_9a741_row35_col0\" class=\"data row35 col0\" >PCA Components</td>\n",
       "                        <td id=\"T_9a741_row35_col1\" class=\"data row35 col1\" >None</td>\n",
       "            </tr>\n",
       "            <tr>\n",
       "                        <th id=\"T_9a741_level0_row36\" class=\"row_heading level0 row36\" >36</th>\n",
       "                        <td id=\"T_9a741_row36_col0\" class=\"data row36 col0\" >Ignore Low Variance</td>\n",
       "                        <td id=\"T_9a741_row36_col1\" class=\"data row36 col1\" >False</td>\n",
       "            </tr>\n",
       "            <tr>\n",
       "                        <th id=\"T_9a741_level0_row37\" class=\"row_heading level0 row37\" >37</th>\n",
       "                        <td id=\"T_9a741_row37_col0\" class=\"data row37 col0\" >Combine Rare Levels</td>\n",
       "                        <td id=\"T_9a741_row37_col1\" class=\"data row37 col1\" >False</td>\n",
       "            </tr>\n",
       "            <tr>\n",
       "                        <th id=\"T_9a741_level0_row38\" class=\"row_heading level0 row38\" >38</th>\n",
       "                        <td id=\"T_9a741_row38_col0\" class=\"data row38 col0\" >Rare Level Threshold</td>\n",
       "                        <td id=\"T_9a741_row38_col1\" class=\"data row38 col1\" >None</td>\n",
       "            </tr>\n",
       "            <tr>\n",
       "                        <th id=\"T_9a741_level0_row39\" class=\"row_heading level0 row39\" >39</th>\n",
       "                        <td id=\"T_9a741_row39_col0\" class=\"data row39 col0\" >Numeric Binning</td>\n",
       "                        <td id=\"T_9a741_row39_col1\" class=\"data row39 col1\" >False</td>\n",
       "            </tr>\n",
       "            <tr>\n",
       "                        <th id=\"T_9a741_level0_row40\" class=\"row_heading level0 row40\" >40</th>\n",
       "                        <td id=\"T_9a741_row40_col0\" class=\"data row40 col0\" >Remove Outliers</td>\n",
       "                        <td id=\"T_9a741_row40_col1\" class=\"data row40 col1\" >False</td>\n",
       "            </tr>\n",
       "            <tr>\n",
       "                        <th id=\"T_9a741_level0_row41\" class=\"row_heading level0 row41\" >41</th>\n",
       "                        <td id=\"T_9a741_row41_col0\" class=\"data row41 col0\" >Outliers Threshold</td>\n",
       "                        <td id=\"T_9a741_row41_col1\" class=\"data row41 col1\" >None</td>\n",
       "            </tr>\n",
       "            <tr>\n",
       "                        <th id=\"T_9a741_level0_row42\" class=\"row_heading level0 row42\" >42</th>\n",
       "                        <td id=\"T_9a741_row42_col0\" class=\"data row42 col0\" >Remove Multicollinearity</td>\n",
       "                        <td id=\"T_9a741_row42_col1\" class=\"data row42 col1\" >True</td>\n",
       "            </tr>\n",
       "            <tr>\n",
       "                        <th id=\"T_9a741_level0_row43\" class=\"row_heading level0 row43\" >43</th>\n",
       "                        <td id=\"T_9a741_row43_col0\" class=\"data row43 col0\" >Multicollinearity Threshold</td>\n",
       "                        <td id=\"T_9a741_row43_col1\" class=\"data row43 col1\" >0.950000</td>\n",
       "            </tr>\n",
       "            <tr>\n",
       "                        <th id=\"T_9a741_level0_row44\" class=\"row_heading level0 row44\" >44</th>\n",
       "                        <td id=\"T_9a741_row44_col0\" class=\"data row44 col0\" >Remove Perfect Collinearity</td>\n",
       "                        <td id=\"T_9a741_row44_col1\" class=\"data row44 col1\" >True</td>\n",
       "            </tr>\n",
       "            <tr>\n",
       "                        <th id=\"T_9a741_level0_row45\" class=\"row_heading level0 row45\" >45</th>\n",
       "                        <td id=\"T_9a741_row45_col0\" class=\"data row45 col0\" >Clustering</td>\n",
       "                        <td id=\"T_9a741_row45_col1\" class=\"data row45 col1\" >False</td>\n",
       "            </tr>\n",
       "            <tr>\n",
       "                        <th id=\"T_9a741_level0_row46\" class=\"row_heading level0 row46\" >46</th>\n",
       "                        <td id=\"T_9a741_row46_col0\" class=\"data row46 col0\" >Clustering Iteration</td>\n",
       "                        <td id=\"T_9a741_row46_col1\" class=\"data row46 col1\" >None</td>\n",
       "            </tr>\n",
       "            <tr>\n",
       "                        <th id=\"T_9a741_level0_row47\" class=\"row_heading level0 row47\" >47</th>\n",
       "                        <td id=\"T_9a741_row47_col0\" class=\"data row47 col0\" >Polynomial Features</td>\n",
       "                        <td id=\"T_9a741_row47_col1\" class=\"data row47 col1\" >False</td>\n",
       "            </tr>\n",
       "            <tr>\n",
       "                        <th id=\"T_9a741_level0_row48\" class=\"row_heading level0 row48\" >48</th>\n",
       "                        <td id=\"T_9a741_row48_col0\" class=\"data row48 col0\" >Polynomial Degree</td>\n",
       "                        <td id=\"T_9a741_row48_col1\" class=\"data row48 col1\" >None</td>\n",
       "            </tr>\n",
       "            <tr>\n",
       "                        <th id=\"T_9a741_level0_row49\" class=\"row_heading level0 row49\" >49</th>\n",
       "                        <td id=\"T_9a741_row49_col0\" class=\"data row49 col0\" >Trignometry Features</td>\n",
       "                        <td id=\"T_9a741_row49_col1\" class=\"data row49 col1\" >False</td>\n",
       "            </tr>\n",
       "            <tr>\n",
       "                        <th id=\"T_9a741_level0_row50\" class=\"row_heading level0 row50\" >50</th>\n",
       "                        <td id=\"T_9a741_row50_col0\" class=\"data row50 col0\" >Polynomial Threshold</td>\n",
       "                        <td id=\"T_9a741_row50_col1\" class=\"data row50 col1\" >None</td>\n",
       "            </tr>\n",
       "            <tr>\n",
       "                        <th id=\"T_9a741_level0_row51\" class=\"row_heading level0 row51\" >51</th>\n",
       "                        <td id=\"T_9a741_row51_col0\" class=\"data row51 col0\" >Group Features</td>\n",
       "                        <td id=\"T_9a741_row51_col1\" class=\"data row51 col1\" >False</td>\n",
       "            </tr>\n",
       "            <tr>\n",
       "                        <th id=\"T_9a741_level0_row52\" class=\"row_heading level0 row52\" >52</th>\n",
       "                        <td id=\"T_9a741_row52_col0\" class=\"data row52 col0\" >Feature Selection</td>\n",
       "                        <td id=\"T_9a741_row52_col1\" class=\"data row52 col1\" >False</td>\n",
       "            </tr>\n",
       "            <tr>\n",
       "                        <th id=\"T_9a741_level0_row53\" class=\"row_heading level0 row53\" >53</th>\n",
       "                        <td id=\"T_9a741_row53_col0\" class=\"data row53 col0\" >Feature Selection Method</td>\n",
       "                        <td id=\"T_9a741_row53_col1\" class=\"data row53 col1\" >classic</td>\n",
       "            </tr>\n",
       "            <tr>\n",
       "                        <th id=\"T_9a741_level0_row54\" class=\"row_heading level0 row54\" >54</th>\n",
       "                        <td id=\"T_9a741_row54_col0\" class=\"data row54 col0\" >Features Selection Threshold</td>\n",
       "                        <td id=\"T_9a741_row54_col1\" class=\"data row54 col1\" >None</td>\n",
       "            </tr>\n",
       "            <tr>\n",
       "                        <th id=\"T_9a741_level0_row55\" class=\"row_heading level0 row55\" >55</th>\n",
       "                        <td id=\"T_9a741_row55_col0\" class=\"data row55 col0\" >Feature Interaction</td>\n",
       "                        <td id=\"T_9a741_row55_col1\" class=\"data row55 col1\" >False</td>\n",
       "            </tr>\n",
       "            <tr>\n",
       "                        <th id=\"T_9a741_level0_row56\" class=\"row_heading level0 row56\" >56</th>\n",
       "                        <td id=\"T_9a741_row56_col0\" class=\"data row56 col0\" >Feature Ratio</td>\n",
       "                        <td id=\"T_9a741_row56_col1\" class=\"data row56 col1\" >False</td>\n",
       "            </tr>\n",
       "            <tr>\n",
       "                        <th id=\"T_9a741_level0_row57\" class=\"row_heading level0 row57\" >57</th>\n",
       "                        <td id=\"T_9a741_row57_col0\" class=\"data row57 col0\" >Interaction Threshold</td>\n",
       "                        <td id=\"T_9a741_row57_col1\" class=\"data row57 col1\" >None</td>\n",
       "            </tr>\n",
       "            <tr>\n",
       "                        <th id=\"T_9a741_level0_row58\" class=\"row_heading level0 row58\" >58</th>\n",
       "                        <td id=\"T_9a741_row58_col0\" class=\"data row58 col0\" >Fix Imbalance</td>\n",
       "                        <td id=\"T_9a741_row58_col1\" class=\"data row58 col1\" >False</td>\n",
       "            </tr>\n",
       "            <tr>\n",
       "                        <th id=\"T_9a741_level0_row59\" class=\"row_heading level0 row59\" >59</th>\n",
       "                        <td id=\"T_9a741_row59_col0\" class=\"data row59 col0\" >Fix Imbalance Method</td>\n",
       "                        <td id=\"T_9a741_row59_col1\" class=\"data row59 col1\" >SMOTE</td>\n",
       "            </tr>\n",
       "    </tbody></table>"
      ],
      "text/plain": [
       "<pandas.io.formats.style.Styler at 0x21810f63b50>"
      ]
     },
     "metadata": {},
     "output_type": "display_data"
    }
   ],
   "source": [
    "#setup Classification module\n",
    "from pycaret.classification import *\n",
    "clf = setup(data =lda_results, target = 'label', \n",
    "             transformation = True, \n",
    "            remove_multicollinearity = True, multicollinearity_threshold = 0.95,\n",
    "            session_id=123,log_experiment = True, experiment_name = 'fake_news') "
   ]
  },
  {
   "cell_type": "code",
   "execution_count": 29,
   "metadata": {
    "pycharm": {
     "name": "#%%\n"
    }
   },
   "outputs": [
    {
     "data": {
      "text/html": [
       "<style  type=\"text/css\" >\n",
       "    #T_aed3b_ th {\n",
       "          text-align: left;\n",
       "    }#T_aed3b_row0_col0,#T_aed3b_row1_col0,#T_aed3b_row1_col1,#T_aed3b_row1_col2,#T_aed3b_row1_col3,#T_aed3b_row1_col4,#T_aed3b_row1_col5,#T_aed3b_row1_col6,#T_aed3b_row1_col7,#T_aed3b_row2_col0,#T_aed3b_row2_col1,#T_aed3b_row2_col2,#T_aed3b_row2_col3,#T_aed3b_row2_col4,#T_aed3b_row2_col5,#T_aed3b_row2_col6,#T_aed3b_row2_col7,#T_aed3b_row3_col0,#T_aed3b_row3_col1,#T_aed3b_row3_col2,#T_aed3b_row3_col3,#T_aed3b_row3_col4,#T_aed3b_row3_col5,#T_aed3b_row3_col6,#T_aed3b_row3_col7,#T_aed3b_row4_col0,#T_aed3b_row4_col1,#T_aed3b_row4_col2,#T_aed3b_row4_col3,#T_aed3b_row4_col4,#T_aed3b_row4_col5,#T_aed3b_row4_col6,#T_aed3b_row4_col7,#T_aed3b_row5_col0,#T_aed3b_row5_col1,#T_aed3b_row5_col2,#T_aed3b_row5_col3,#T_aed3b_row5_col4,#T_aed3b_row5_col5,#T_aed3b_row5_col6,#T_aed3b_row5_col7,#T_aed3b_row6_col0,#T_aed3b_row6_col1,#T_aed3b_row6_col2,#T_aed3b_row6_col3,#T_aed3b_row6_col4,#T_aed3b_row6_col5,#T_aed3b_row6_col6,#T_aed3b_row6_col7,#T_aed3b_row7_col0,#T_aed3b_row7_col1,#T_aed3b_row7_col2,#T_aed3b_row7_col3,#T_aed3b_row7_col4,#T_aed3b_row7_col5,#T_aed3b_row7_col6,#T_aed3b_row7_col7,#T_aed3b_row8_col0,#T_aed3b_row8_col1,#T_aed3b_row8_col2,#T_aed3b_row8_col3,#T_aed3b_row8_col4,#T_aed3b_row8_col5,#T_aed3b_row8_col6,#T_aed3b_row8_col7,#T_aed3b_row9_col0,#T_aed3b_row9_col1,#T_aed3b_row9_col2,#T_aed3b_row9_col3,#T_aed3b_row9_col4,#T_aed3b_row9_col5,#T_aed3b_row9_col6,#T_aed3b_row9_col7,#T_aed3b_row10_col0,#T_aed3b_row10_col1,#T_aed3b_row10_col2,#T_aed3b_row10_col3,#T_aed3b_row10_col4,#T_aed3b_row10_col5,#T_aed3b_row10_col6,#T_aed3b_row10_col7,#T_aed3b_row11_col0,#T_aed3b_row11_col1,#T_aed3b_row11_col2,#T_aed3b_row11_col3,#T_aed3b_row11_col4,#T_aed3b_row11_col5,#T_aed3b_row11_col6,#T_aed3b_row11_col7,#T_aed3b_row12_col0,#T_aed3b_row12_col1,#T_aed3b_row12_col2,#T_aed3b_row12_col3,#T_aed3b_row12_col4,#T_aed3b_row12_col5,#T_aed3b_row12_col6,#T_aed3b_row12_col7,#T_aed3b_row13_col0,#T_aed3b_row13_col1,#T_aed3b_row13_col2,#T_aed3b_row13_col3,#T_aed3b_row13_col4,#T_aed3b_row13_col5,#T_aed3b_row13_col6,#T_aed3b_row13_col7,#T_aed3b_row14_col0,#T_aed3b_row14_col1,#T_aed3b_row14_col2,#T_aed3b_row14_col3,#T_aed3b_row14_col4,#T_aed3b_row14_col5,#T_aed3b_row14_col6,#T_aed3b_row14_col7{\n",
       "            text-align:  left;\n",
       "            text-align:  left;\n",
       "        }#T_aed3b_row0_col1,#T_aed3b_row0_col2,#T_aed3b_row0_col3,#T_aed3b_row0_col4,#T_aed3b_row0_col5,#T_aed3b_row0_col6,#T_aed3b_row0_col7{\n",
       "            text-align:  left;\n",
       "            text-align:  left;\n",
       "            background-color:  yellow;\n",
       "        }#T_aed3b_row0_col8,#T_aed3b_row1_col8,#T_aed3b_row2_col8,#T_aed3b_row3_col8,#T_aed3b_row4_col8,#T_aed3b_row5_col8,#T_aed3b_row6_col8,#T_aed3b_row7_col8,#T_aed3b_row8_col8,#T_aed3b_row9_col8,#T_aed3b_row10_col8,#T_aed3b_row11_col8,#T_aed3b_row12_col8,#T_aed3b_row13_col8{\n",
       "            text-align:  left;\n",
       "            text-align:  left;\n",
       "            background-color:  lightgrey;\n",
       "        }#T_aed3b_row14_col8{\n",
       "            text-align:  left;\n",
       "            text-align:  left;\n",
       "            background-color:  yellow;\n",
       "            background-color:  lightgrey;\n",
       "        }</style><table id=\"T_aed3b_\" ><thead>    <tr>        <th class=\"blank level0\" ></th>        <th class=\"col_heading level0 col0\" >Model</th>        <th class=\"col_heading level0 col1\" >Accuracy</th>        <th class=\"col_heading level0 col2\" >AUC</th>        <th class=\"col_heading level0 col3\" >Recall</th>        <th class=\"col_heading level0 col4\" >Prec.</th>        <th class=\"col_heading level0 col5\" >F1</th>        <th class=\"col_heading level0 col6\" >Kappa</th>        <th class=\"col_heading level0 col7\" >MCC</th>        <th class=\"col_heading level0 col8\" >TT (Sec)</th>    </tr></thead><tbody>\n",
       "                <tr>\n",
       "                        <th id=\"T_aed3b_level0_row0\" class=\"row_heading level0 row0\" >lightgbm</th>\n",
       "                        <td id=\"T_aed3b_row0_col0\" class=\"data row0 col0\" >Light Gradient Boosting Machine</td>\n",
       "                        <td id=\"T_aed3b_row0_col1\" class=\"data row0 col1\" >0.8491</td>\n",
       "                        <td id=\"T_aed3b_row0_col2\" class=\"data row0 col2\" >0.9253</td>\n",
       "                        <td id=\"T_aed3b_row0_col3\" class=\"data row0 col3\" >0.8606</td>\n",
       "                        <td id=\"T_aed3b_row0_col4\" class=\"data row0 col4\" >0.8414</td>\n",
       "                        <td id=\"T_aed3b_row0_col5\" class=\"data row0 col5\" >0.8507</td>\n",
       "                        <td id=\"T_aed3b_row0_col6\" class=\"data row0 col6\" >0.6982</td>\n",
       "                        <td id=\"T_aed3b_row0_col7\" class=\"data row0 col7\" >0.6988</td>\n",
       "                        <td id=\"T_aed3b_row0_col8\" class=\"data row0 col8\" >0.3440</td>\n",
       "            </tr>\n",
       "            <tr>\n",
       "                        <th id=\"T_aed3b_level0_row1\" class=\"row_heading level0 row1\" >xgboost</th>\n",
       "                        <td id=\"T_aed3b_row1_col0\" class=\"data row1 col0\" >Extreme Gradient Boosting</td>\n",
       "                        <td id=\"T_aed3b_row1_col1\" class=\"data row1 col1\" >0.8446</td>\n",
       "                        <td id=\"T_aed3b_row1_col2\" class=\"data row1 col2\" >0.9216</td>\n",
       "                        <td id=\"T_aed3b_row1_col3\" class=\"data row1 col3\" >0.8520</td>\n",
       "                        <td id=\"T_aed3b_row1_col4\" class=\"data row1 col4\" >0.8394</td>\n",
       "                        <td id=\"T_aed3b_row1_col5\" class=\"data row1 col5\" >0.8455</td>\n",
       "                        <td id=\"T_aed3b_row1_col6\" class=\"data row1 col6\" >0.6892</td>\n",
       "                        <td id=\"T_aed3b_row1_col7\" class=\"data row1 col7\" >0.6896</td>\n",
       "                        <td id=\"T_aed3b_row1_col8\" class=\"data row1 col8\" >1.9220</td>\n",
       "            </tr>\n",
       "            <tr>\n",
       "                        <th id=\"T_aed3b_level0_row2\" class=\"row_heading level0 row2\" >gbc</th>\n",
       "                        <td id=\"T_aed3b_row2_col0\" class=\"data row2 col0\" >Gradient Boosting Classifier</td>\n",
       "                        <td id=\"T_aed3b_row2_col1\" class=\"data row2 col1\" >0.8437</td>\n",
       "                        <td id=\"T_aed3b_row2_col2\" class=\"data row2 col2\" >0.9200</td>\n",
       "                        <td id=\"T_aed3b_row2_col3\" class=\"data row2 col3\" >0.8489</td>\n",
       "                        <td id=\"T_aed3b_row2_col4\" class=\"data row2 col4\" >0.8404</td>\n",
       "                        <td id=\"T_aed3b_row2_col5\" class=\"data row2 col5\" >0.8444</td>\n",
       "                        <td id=\"T_aed3b_row2_col6\" class=\"data row2 col6\" >0.6874</td>\n",
       "                        <td id=\"T_aed3b_row2_col7\" class=\"data row2 col7\" >0.6878</td>\n",
       "                        <td id=\"T_aed3b_row2_col8\" class=\"data row2 col8\" >1.8220</td>\n",
       "            </tr>\n",
       "            <tr>\n",
       "                        <th id=\"T_aed3b_level0_row3\" class=\"row_heading level0 row3\" >rf</th>\n",
       "                        <td id=\"T_aed3b_row3_col0\" class=\"data row3 col0\" >Random Forest Classifier</td>\n",
       "                        <td id=\"T_aed3b_row3_col1\" class=\"data row3 col1\" >0.8417</td>\n",
       "                        <td id=\"T_aed3b_row3_col2\" class=\"data row3 col2\" >0.9171</td>\n",
       "                        <td id=\"T_aed3b_row3_col3\" class=\"data row3 col3\" >0.8489</td>\n",
       "                        <td id=\"T_aed3b_row3_col4\" class=\"data row3 col4\" >0.8369</td>\n",
       "                        <td id=\"T_aed3b_row3_col5\" class=\"data row3 col5\" >0.8427</td>\n",
       "                        <td id=\"T_aed3b_row3_col6\" class=\"data row3 col6\" >0.6833</td>\n",
       "                        <td id=\"T_aed3b_row3_col7\" class=\"data row3 col7\" >0.6837</td>\n",
       "                        <td id=\"T_aed3b_row3_col8\" class=\"data row3 col8\" >0.9010</td>\n",
       "            </tr>\n",
       "            <tr>\n",
       "                        <th id=\"T_aed3b_level0_row4\" class=\"row_heading level0 row4\" >et</th>\n",
       "                        <td id=\"T_aed3b_row4_col0\" class=\"data row4 col0\" >Extra Trees Classifier</td>\n",
       "                        <td id=\"T_aed3b_row4_col1\" class=\"data row4 col1\" >0.8385</td>\n",
       "                        <td id=\"T_aed3b_row4_col2\" class=\"data row4 col2\" >0.9171</td>\n",
       "                        <td id=\"T_aed3b_row4_col3\" class=\"data row4 col3\" >0.8543</td>\n",
       "                        <td id=\"T_aed3b_row4_col4\" class=\"data row4 col4\" >0.8282</td>\n",
       "                        <td id=\"T_aed3b_row4_col5\" class=\"data row4 col5\" >0.8409</td>\n",
       "                        <td id=\"T_aed3b_row4_col6\" class=\"data row4 col6\" >0.6770</td>\n",
       "                        <td id=\"T_aed3b_row4_col7\" class=\"data row4 col7\" >0.6775</td>\n",
       "                        <td id=\"T_aed3b_row4_col8\" class=\"data row4 col8\" >0.4220</td>\n",
       "            </tr>\n",
       "            <tr>\n",
       "                        <th id=\"T_aed3b_level0_row5\" class=\"row_heading level0 row5\" >ada</th>\n",
       "                        <td id=\"T_aed3b_row5_col0\" class=\"data row5 col0\" >Ada Boost Classifier</td>\n",
       "                        <td id=\"T_aed3b_row5_col1\" class=\"data row5 col1\" >0.8166</td>\n",
       "                        <td id=\"T_aed3b_row5_col2\" class=\"data row5 col2\" >0.9013</td>\n",
       "                        <td id=\"T_aed3b_row5_col3\" class=\"data row5 col3\" >0.8114</td>\n",
       "                        <td id=\"T_aed3b_row5_col4\" class=\"data row5 col4\" >0.8200</td>\n",
       "                        <td id=\"T_aed3b_row5_col5\" class=\"data row5 col5\" >0.8156</td>\n",
       "                        <td id=\"T_aed3b_row5_col6\" class=\"data row5 col6\" >0.6333</td>\n",
       "                        <td id=\"T_aed3b_row5_col7\" class=\"data row5 col7\" >0.6335</td>\n",
       "                        <td id=\"T_aed3b_row5_col8\" class=\"data row5 col8\" >0.4370</td>\n",
       "            </tr>\n",
       "            <tr>\n",
       "                        <th id=\"T_aed3b_level0_row6\" class=\"row_heading level0 row6\" >knn</th>\n",
       "                        <td id=\"T_aed3b_row6_col0\" class=\"data row6 col0\" >K Neighbors Classifier</td>\n",
       "                        <td id=\"T_aed3b_row6_col1\" class=\"data row6 col1\" >0.7912</td>\n",
       "                        <td id=\"T_aed3b_row6_col2\" class=\"data row6 col2\" >0.8622</td>\n",
       "                        <td id=\"T_aed3b_row6_col3\" class=\"data row6 col3\" >0.7600</td>\n",
       "                        <td id=\"T_aed3b_row6_col4\" class=\"data row6 col4\" >0.8107</td>\n",
       "                        <td id=\"T_aed3b_row6_col5\" class=\"data row6 col5\" >0.7845</td>\n",
       "                        <td id=\"T_aed3b_row6_col6\" class=\"data row6 col6\" >0.5823</td>\n",
       "                        <td id=\"T_aed3b_row6_col7\" class=\"data row6 col7\" >0.5836</td>\n",
       "                        <td id=\"T_aed3b_row6_col8\" class=\"data row6 col8\" >0.2820</td>\n",
       "            </tr>\n",
       "            <tr>\n",
       "                        <th id=\"T_aed3b_level0_row7\" class=\"row_heading level0 row7\" >ridge</th>\n",
       "                        <td id=\"T_aed3b_row7_col0\" class=\"data row7 col0\" >Ridge Classifier</td>\n",
       "                        <td id=\"T_aed3b_row7_col1\" class=\"data row7 col1\" >0.7763</td>\n",
       "                        <td id=\"T_aed3b_row7_col2\" class=\"data row7 col2\" >0.0000</td>\n",
       "                        <td id=\"T_aed3b_row7_col3\" class=\"data row7 col3\" >0.7731</td>\n",
       "                        <td id=\"T_aed3b_row7_col4\" class=\"data row7 col4\" >0.7783</td>\n",
       "                        <td id=\"T_aed3b_row7_col5\" class=\"data row7 col5\" >0.7754</td>\n",
       "                        <td id=\"T_aed3b_row7_col6\" class=\"data row7 col6\" >0.5525</td>\n",
       "                        <td id=\"T_aed3b_row7_col7\" class=\"data row7 col7\" >0.5529</td>\n",
       "                        <td id=\"T_aed3b_row7_col8\" class=\"data row7 col8\" >0.0210</td>\n",
       "            </tr>\n",
       "            <tr>\n",
       "                        <th id=\"T_aed3b_level0_row8\" class=\"row_heading level0 row8\" >lda</th>\n",
       "                        <td id=\"T_aed3b_row8_col0\" class=\"data row8 col0\" >Linear Discriminant Analysis</td>\n",
       "                        <td id=\"T_aed3b_row8_col1\" class=\"data row8 col1\" >0.7763</td>\n",
       "                        <td id=\"T_aed3b_row8_col2\" class=\"data row8 col2\" >0.8611</td>\n",
       "                        <td id=\"T_aed3b_row8_col3\" class=\"data row8 col3\" >0.7731</td>\n",
       "                        <td id=\"T_aed3b_row8_col4\" class=\"data row8 col4\" >0.7783</td>\n",
       "                        <td id=\"T_aed3b_row8_col5\" class=\"data row8 col5\" >0.7754</td>\n",
       "                        <td id=\"T_aed3b_row8_col6\" class=\"data row8 col6\" >0.5525</td>\n",
       "                        <td id=\"T_aed3b_row8_col7\" class=\"data row8 col7\" >0.5529</td>\n",
       "                        <td id=\"T_aed3b_row8_col8\" class=\"data row8 col8\" >0.0500</td>\n",
       "            </tr>\n",
       "            <tr>\n",
       "                        <th id=\"T_aed3b_level0_row9\" class=\"row_heading level0 row9\" >lr</th>\n",
       "                        <td id=\"T_aed3b_row9_col0\" class=\"data row9 col0\" >Logistic Regression</td>\n",
       "                        <td id=\"T_aed3b_row9_col1\" class=\"data row9 col1\" >0.7742</td>\n",
       "                        <td id=\"T_aed3b_row9_col2\" class=\"data row9 col2\" >0.8613</td>\n",
       "                        <td id=\"T_aed3b_row9_col3\" class=\"data row9 col3\" >0.7690</td>\n",
       "                        <td id=\"T_aed3b_row9_col4\" class=\"data row9 col4\" >0.7775</td>\n",
       "                        <td id=\"T_aed3b_row9_col5\" class=\"data row9 col5\" >0.7730</td>\n",
       "                        <td id=\"T_aed3b_row9_col6\" class=\"data row9 col6\" >0.5485</td>\n",
       "                        <td id=\"T_aed3b_row9_col7\" class=\"data row9 col7\" >0.5488</td>\n",
       "                        <td id=\"T_aed3b_row9_col8\" class=\"data row9 col8\" >2.1360</td>\n",
       "            </tr>\n",
       "            <tr>\n",
       "                        <th id=\"T_aed3b_level0_row10\" class=\"row_heading level0 row10\" >dt</th>\n",
       "                        <td id=\"T_aed3b_row10_col0\" class=\"data row10 col0\" >Decision Tree Classifier</td>\n",
       "                        <td id=\"T_aed3b_row10_col1\" class=\"data row10 col1\" >0.7711</td>\n",
       "                        <td id=\"T_aed3b_row10_col2\" class=\"data row10 col2\" >0.7711</td>\n",
       "                        <td id=\"T_aed3b_row10_col3\" class=\"data row10 col3\" >0.7740</td>\n",
       "                        <td id=\"T_aed3b_row10_col4\" class=\"data row10 col4\" >0.7697</td>\n",
       "                        <td id=\"T_aed3b_row10_col5\" class=\"data row10 col5\" >0.7718</td>\n",
       "                        <td id=\"T_aed3b_row10_col6\" class=\"data row10 col6\" >0.5422</td>\n",
       "                        <td id=\"T_aed3b_row10_col7\" class=\"data row10 col7\" >0.5423</td>\n",
       "                        <td id=\"T_aed3b_row10_col8\" class=\"data row10 col8\" >0.2630</td>\n",
       "            </tr>\n",
       "            <tr>\n",
       "                        <th id=\"T_aed3b_level0_row11\" class=\"row_heading level0 row11\" >qda</th>\n",
       "                        <td id=\"T_aed3b_row11_col0\" class=\"data row11 col0\" >Quadratic Discriminant Analysis</td>\n",
       "                        <td id=\"T_aed3b_row11_col1\" class=\"data row11 col1\" >0.7494</td>\n",
       "                        <td id=\"T_aed3b_row11_col2\" class=\"data row11 col2\" >0.8351</td>\n",
       "                        <td id=\"T_aed3b_row11_col3\" class=\"data row11 col3\" >0.6748</td>\n",
       "                        <td id=\"T_aed3b_row11_col4\" class=\"data row11 col4\" >0.7934</td>\n",
       "                        <td id=\"T_aed3b_row11_col5\" class=\"data row11 col5\" >0.7291</td>\n",
       "                        <td id=\"T_aed3b_row11_col6\" class=\"data row11 col6\" >0.4989</td>\n",
       "                        <td id=\"T_aed3b_row11_col7\" class=\"data row11 col7\" >0.5047</td>\n",
       "                        <td id=\"T_aed3b_row11_col8\" class=\"data row11 col8\" >0.0230</td>\n",
       "            </tr>\n",
       "            <tr>\n",
       "                        <th id=\"T_aed3b_level0_row12\" class=\"row_heading level0 row12\" >nb</th>\n",
       "                        <td id=\"T_aed3b_row12_col0\" class=\"data row12 col0\" >Naive Bayes</td>\n",
       "                        <td id=\"T_aed3b_row12_col1\" class=\"data row12 col1\" >0.7429</td>\n",
       "                        <td id=\"T_aed3b_row12_col2\" class=\"data row12 col2\" >0.8224</td>\n",
       "                        <td id=\"T_aed3b_row12_col3\" class=\"data row12 col3\" >0.7420</td>\n",
       "                        <td id=\"T_aed3b_row12_col4\" class=\"data row12 col4\" >0.7439</td>\n",
       "                        <td id=\"T_aed3b_row12_col5\" class=\"data row12 col5\" >0.7427</td>\n",
       "                        <td id=\"T_aed3b_row12_col6\" class=\"data row12 col6\" >0.4858</td>\n",
       "                        <td id=\"T_aed3b_row12_col7\" class=\"data row12 col7\" >0.4861</td>\n",
       "                        <td id=\"T_aed3b_row12_col8\" class=\"data row12 col8\" >0.0180</td>\n",
       "            </tr>\n",
       "            <tr>\n",
       "                        <th id=\"T_aed3b_level0_row13\" class=\"row_heading level0 row13\" >svm</th>\n",
       "                        <td id=\"T_aed3b_row13_col0\" class=\"data row13 col0\" >SVM - Linear Kernel</td>\n",
       "                        <td id=\"T_aed3b_row13_col1\" class=\"data row13 col1\" >0.7325</td>\n",
       "                        <td id=\"T_aed3b_row13_col2\" class=\"data row13 col2\" >0.0000</td>\n",
       "                        <td id=\"T_aed3b_row13_col3\" class=\"data row13 col3\" >0.7672</td>\n",
       "                        <td id=\"T_aed3b_row13_col4\" class=\"data row13 col4\" >0.7188</td>\n",
       "                        <td id=\"T_aed3b_row13_col5\" class=\"data row13 col5\" >0.7415</td>\n",
       "                        <td id=\"T_aed3b_row13_col6\" class=\"data row13 col6\" >0.4650</td>\n",
       "                        <td id=\"T_aed3b_row13_col7\" class=\"data row13 col7\" >0.4672</td>\n",
       "                        <td id=\"T_aed3b_row13_col8\" class=\"data row13 col8\" >0.0670</td>\n",
       "            </tr>\n",
       "            <tr>\n",
       "                        <th id=\"T_aed3b_level0_row14\" class=\"row_heading level0 row14\" >dummy</th>\n",
       "                        <td id=\"T_aed3b_row14_col0\" class=\"data row14 col0\" >Dummy Classifier</td>\n",
       "                        <td id=\"T_aed3b_row14_col1\" class=\"data row14 col1\" >0.4993</td>\n",
       "                        <td id=\"T_aed3b_row14_col2\" class=\"data row14 col2\" >0.5000</td>\n",
       "                        <td id=\"T_aed3b_row14_col3\" class=\"data row14 col3\" >0.3000</td>\n",
       "                        <td id=\"T_aed3b_row14_col4\" class=\"data row14 col4\" >0.1497</td>\n",
       "                        <td id=\"T_aed3b_row14_col5\" class=\"data row14 col5\" >0.1997</td>\n",
       "                        <td id=\"T_aed3b_row14_col6\" class=\"data row14 col6\" >0.0000</td>\n",
       "                        <td id=\"T_aed3b_row14_col7\" class=\"data row14 col7\" >0.0000</td>\n",
       "                        <td id=\"T_aed3b_row14_col8\" class=\"data row14 col8\" >0.0120</td>\n",
       "            </tr>\n",
       "    </tbody></table>"
      ],
      "text/plain": [
       "<pandas.io.formats.style.Styler at 0x21810f682b0>"
      ]
     },
     "metadata": {},
     "output_type": "display_data"
    }
   ],
   "source": [
    "#Comparing All Models\n",
    "\n",
    "top3= compare_models(n_select =3)\n"
   ]
  },
  {
   "cell_type": "code",
   "execution_count": 30,
   "metadata": {
    "pycharm": {
     "name": "#%%\n"
    }
   },
   "outputs": [
    {
     "data": {
      "text/html": [
       "<style  type=\"text/css\" >\n",
       "#T_324c7_row10_col0,#T_324c7_row10_col1,#T_324c7_row10_col2,#T_324c7_row10_col3,#T_324c7_row10_col4,#T_324c7_row10_col5,#T_324c7_row10_col6{\n",
       "            background:  yellow;\n",
       "        }</style><table id=\"T_324c7_\" ><thead>    <tr>        <th class=\"blank level0\" ></th>        <th class=\"col_heading level0 col0\" >Accuracy</th>        <th class=\"col_heading level0 col1\" >AUC</th>        <th class=\"col_heading level0 col2\" >Recall</th>        <th class=\"col_heading level0 col3\" >Prec.</th>        <th class=\"col_heading level0 col4\" >F1</th>        <th class=\"col_heading level0 col5\" >Kappa</th>        <th class=\"col_heading level0 col6\" >MCC</th>    </tr></thead><tbody>\n",
       "                <tr>\n",
       "                        <th id=\"T_324c7_level0_row0\" class=\"row_heading level0 row0\" >0</th>\n",
       "                        <td id=\"T_324c7_row0_col0\" class=\"data row0 col0\" >0.8108</td>\n",
       "                        <td id=\"T_324c7_row0_col1\" class=\"data row0 col1\" >0.8937</td>\n",
       "                        <td id=\"T_324c7_row0_col2\" class=\"data row0 col2\" >0.8153</td>\n",
       "                        <td id=\"T_324c7_row0_col3\" class=\"data row0 col3\" >0.8080</td>\n",
       "                        <td id=\"T_324c7_row0_col4\" class=\"data row0 col4\" >0.8117</td>\n",
       "                        <td id=\"T_324c7_row0_col5\" class=\"data row0 col5\" >0.6216</td>\n",
       "                        <td id=\"T_324c7_row0_col6\" class=\"data row0 col6\" >0.6216</td>\n",
       "            </tr>\n",
       "            <tr>\n",
       "                        <th id=\"T_324c7_level0_row1\" class=\"row_heading level0 row1\" >1</th>\n",
       "                        <td id=\"T_324c7_row1_col0\" class=\"data row1 col0\" >0.8806</td>\n",
       "                        <td id=\"T_324c7_row1_col1\" class=\"data row1 col1\" >0.9403</td>\n",
       "                        <td id=\"T_324c7_row1_col2\" class=\"data row1 col2\" >0.8919</td>\n",
       "                        <td id=\"T_324c7_row1_col3\" class=\"data row1 col3\" >0.8722</td>\n",
       "                        <td id=\"T_324c7_row1_col4\" class=\"data row1 col4\" >0.8820</td>\n",
       "                        <td id=\"T_324c7_row1_col5\" class=\"data row1 col5\" >0.7613</td>\n",
       "                        <td id=\"T_324c7_row1_col6\" class=\"data row1 col6\" >0.7615</td>\n",
       "            </tr>\n",
       "            <tr>\n",
       "                        <th id=\"T_324c7_level0_row2\" class=\"row_heading level0 row2\" >2</th>\n",
       "                        <td id=\"T_324c7_row2_col0\" class=\"data row2 col0\" >0.8806</td>\n",
       "                        <td id=\"T_324c7_row2_col1\" class=\"data row2 col1\" >0.9504</td>\n",
       "                        <td id=\"T_324c7_row2_col2\" class=\"data row2 col2\" >0.9054</td>\n",
       "                        <td id=\"T_324c7_row2_col3\" class=\"data row2 col3\" >0.8627</td>\n",
       "                        <td id=\"T_324c7_row2_col4\" class=\"data row2 col4\" >0.8835</td>\n",
       "                        <td id=\"T_324c7_row2_col5\" class=\"data row2 col5\" >0.7613</td>\n",
       "                        <td id=\"T_324c7_row2_col6\" class=\"data row2 col6\" >0.7622</td>\n",
       "            </tr>\n",
       "            <tr>\n",
       "                        <th id=\"T_324c7_level0_row3\" class=\"row_heading level0 row3\" >3</th>\n",
       "                        <td id=\"T_324c7_row3_col0\" class=\"data row3 col0\" >0.8671</td>\n",
       "                        <td id=\"T_324c7_row3_col1\" class=\"data row3 col1\" >0.9304</td>\n",
       "                        <td id=\"T_324c7_row3_col2\" class=\"data row3 col2\" >0.9144</td>\n",
       "                        <td id=\"T_324c7_row3_col3\" class=\"data row3 col3\" >0.8354</td>\n",
       "                        <td id=\"T_324c7_row3_col4\" class=\"data row3 col4\" >0.8731</td>\n",
       "                        <td id=\"T_324c7_row3_col5\" class=\"data row3 col5\" >0.7342</td>\n",
       "                        <td id=\"T_324c7_row3_col6\" class=\"data row3 col6\" >0.7375</td>\n",
       "            </tr>\n",
       "            <tr>\n",
       "                        <th id=\"T_324c7_level0_row4\" class=\"row_heading level0 row4\" >4</th>\n",
       "                        <td id=\"T_324c7_row4_col0\" class=\"data row4 col0\" >0.8284</td>\n",
       "                        <td id=\"T_324c7_row4_col1\" class=\"data row4 col1\" >0.9081</td>\n",
       "                        <td id=\"T_324c7_row4_col2\" class=\"data row4 col2\" >0.8507</td>\n",
       "                        <td id=\"T_324c7_row4_col3\" class=\"data row4 col3\" >0.8139</td>\n",
       "                        <td id=\"T_324c7_row4_col4\" class=\"data row4 col4\" >0.8319</td>\n",
       "                        <td id=\"T_324c7_row4_col5\" class=\"data row4 col5\" >0.6569</td>\n",
       "                        <td id=\"T_324c7_row4_col6\" class=\"data row4 col6\" >0.6576</td>\n",
       "            </tr>\n",
       "            <tr>\n",
       "                        <th id=\"T_324c7_level0_row5\" class=\"row_heading level0 row5\" >5</th>\n",
       "                        <td id=\"T_324c7_row5_col0\" class=\"data row5 col0\" >0.8420</td>\n",
       "                        <td id=\"T_324c7_row5_col1\" class=\"data row5 col1\" >0.9297</td>\n",
       "                        <td id=\"T_324c7_row5_col2\" class=\"data row5 col2\" >0.8371</td>\n",
       "                        <td id=\"T_324c7_row5_col3\" class=\"data row5 col3\" >0.8447</td>\n",
       "                        <td id=\"T_324c7_row5_col4\" class=\"data row5 col4\" >0.8409</td>\n",
       "                        <td id=\"T_324c7_row5_col5\" class=\"data row5 col5\" >0.6840</td>\n",
       "                        <td id=\"T_324c7_row5_col6\" class=\"data row5 col6\" >0.6840</td>\n",
       "            </tr>\n",
       "            <tr>\n",
       "                        <th id=\"T_324c7_level0_row6\" class=\"row_heading level0 row6\" >6</th>\n",
       "                        <td id=\"T_324c7_row6_col0\" class=\"data row6 col0\" >0.8623</td>\n",
       "                        <td id=\"T_324c7_row6_col1\" class=\"data row6 col1\" >0.9208</td>\n",
       "                        <td id=\"T_324c7_row6_col2\" class=\"data row6 col2\" >0.8552</td>\n",
       "                        <td id=\"T_324c7_row6_col3\" class=\"data row6 col3\" >0.8670</td>\n",
       "                        <td id=\"T_324c7_row6_col4\" class=\"data row6 col4\" >0.8610</td>\n",
       "                        <td id=\"T_324c7_row6_col5\" class=\"data row6 col5\" >0.7246</td>\n",
       "                        <td id=\"T_324c7_row6_col6\" class=\"data row6 col6\" >0.7247</td>\n",
       "            </tr>\n",
       "            <tr>\n",
       "                        <th id=\"T_324c7_level0_row7\" class=\"row_heading level0 row7\" >7</th>\n",
       "                        <td id=\"T_324c7_row7_col0\" class=\"data row7 col0\" >0.8442</td>\n",
       "                        <td id=\"T_324c7_row7_col1\" class=\"data row7 col1\" >0.9218</td>\n",
       "                        <td id=\"T_324c7_row7_col2\" class=\"data row7 col2\" >0.8333</td>\n",
       "                        <td id=\"T_324c7_row7_col3\" class=\"data row7 col3\" >0.8525</td>\n",
       "                        <td id=\"T_324c7_row7_col4\" class=\"data row7 col4\" >0.8428</td>\n",
       "                        <td id=\"T_324c7_row7_col5\" class=\"data row7 col5\" >0.6885</td>\n",
       "                        <td id=\"T_324c7_row7_col6\" class=\"data row7 col6\" >0.6887</td>\n",
       "            </tr>\n",
       "            <tr>\n",
       "                        <th id=\"T_324c7_level0_row8\" class=\"row_heading level0 row8\" >8</th>\n",
       "                        <td id=\"T_324c7_row8_col0\" class=\"data row8 col0\" >0.8397</td>\n",
       "                        <td id=\"T_324c7_row8_col1\" class=\"data row8 col1\" >0.9317</td>\n",
       "                        <td id=\"T_324c7_row8_col2\" class=\"data row8 col2\" >0.8559</td>\n",
       "                        <td id=\"T_324c7_row8_col3\" class=\"data row8 col3\" >0.8297</td>\n",
       "                        <td id=\"T_324c7_row8_col4\" class=\"data row8 col4\" >0.8426</td>\n",
       "                        <td id=\"T_324c7_row8_col5\" class=\"data row8 col5\" >0.6794</td>\n",
       "                        <td id=\"T_324c7_row8_col6\" class=\"data row8 col6\" >0.6798</td>\n",
       "            </tr>\n",
       "            <tr>\n",
       "                        <th id=\"T_324c7_level0_row9\" class=\"row_heading level0 row9\" >9</th>\n",
       "                        <td id=\"T_324c7_row9_col0\" class=\"data row9 col0\" >0.8352</td>\n",
       "                        <td id=\"T_324c7_row9_col1\" class=\"data row9 col1\" >0.9264</td>\n",
       "                        <td id=\"T_324c7_row9_col2\" class=\"data row9 col2\" >0.8468</td>\n",
       "                        <td id=\"T_324c7_row9_col3\" class=\"data row9 col3\" >0.8282</td>\n",
       "                        <td id=\"T_324c7_row9_col4\" class=\"data row9 col4\" >0.8374</td>\n",
       "                        <td id=\"T_324c7_row9_col5\" class=\"data row9 col5\" >0.6704</td>\n",
       "                        <td id=\"T_324c7_row9_col6\" class=\"data row9 col6\" >0.6706</td>\n",
       "            </tr>\n",
       "            <tr>\n",
       "                        <th id=\"T_324c7_level0_row10\" class=\"row_heading level0 row10\" >Mean</th>\n",
       "                        <td id=\"T_324c7_row10_col0\" class=\"data row10 col0\" >0.8491</td>\n",
       "                        <td id=\"T_324c7_row10_col1\" class=\"data row10 col1\" >0.9253</td>\n",
       "                        <td id=\"T_324c7_row10_col2\" class=\"data row10 col2\" >0.8606</td>\n",
       "                        <td id=\"T_324c7_row10_col3\" class=\"data row10 col3\" >0.8414</td>\n",
       "                        <td id=\"T_324c7_row10_col4\" class=\"data row10 col4\" >0.8507</td>\n",
       "                        <td id=\"T_324c7_row10_col5\" class=\"data row10 col5\" >0.6982</td>\n",
       "                        <td id=\"T_324c7_row10_col6\" class=\"data row10 col6\" >0.6988</td>\n",
       "            </tr>\n",
       "            <tr>\n",
       "                        <th id=\"T_324c7_level0_row11\" class=\"row_heading level0 row11\" >SD</th>\n",
       "                        <td id=\"T_324c7_row11_col0\" class=\"data row11 col0\" >0.0218</td>\n",
       "                        <td id=\"T_324c7_row11_col1\" class=\"data row11 col1\" >0.0151</td>\n",
       "                        <td id=\"T_324c7_row11_col2\" class=\"data row11 col2\" >0.0309</td>\n",
       "                        <td id=\"T_324c7_row11_col3\" class=\"data row11 col3\" >0.0210</td>\n",
       "                        <td id=\"T_324c7_row11_col4\" class=\"data row11 col4\" >0.0222</td>\n",
       "                        <td id=\"T_324c7_row11_col5\" class=\"data row11 col5\" >0.0435</td>\n",
       "                        <td id=\"T_324c7_row11_col6\" class=\"data row11 col6\" >0.0439</td>\n",
       "            </tr>\n",
       "    </tbody></table>"
      ],
      "text/plain": [
       "<pandas.io.formats.style.Styler at 0x218111209d0>"
      ]
     },
     "metadata": {},
     "output_type": "display_data"
    }
   ],
   "source": [
    "# Create a Model\n",
    "lightgbm = create_model('lightgbm')"
   ]
  },
  {
   "cell_type": "code",
   "execution_count": 31,
   "metadata": {
    "pycharm": {
     "name": "#%%\n"
    }
   },
   "outputs": [
    {
     "data": {
      "text/html": [
       "<style  type=\"text/css\" >\n",
       "#T_13afc_row10_col0,#T_13afc_row10_col1,#T_13afc_row10_col2,#T_13afc_row10_col3,#T_13afc_row10_col4,#T_13afc_row10_col5,#T_13afc_row10_col6{\n",
       "            background:  yellow;\n",
       "        }</style><table id=\"T_13afc_\" ><thead>    <tr>        <th class=\"blank level0\" ></th>        <th class=\"col_heading level0 col0\" >Accuracy</th>        <th class=\"col_heading level0 col1\" >AUC</th>        <th class=\"col_heading level0 col2\" >Recall</th>        <th class=\"col_heading level0 col3\" >Prec.</th>        <th class=\"col_heading level0 col4\" >F1</th>        <th class=\"col_heading level0 col5\" >Kappa</th>        <th class=\"col_heading level0 col6\" >MCC</th>    </tr></thead><tbody>\n",
       "                <tr>\n",
       "                        <th id=\"T_13afc_level0_row0\" class=\"row_heading level0 row0\" >0</th>\n",
       "                        <td id=\"T_13afc_row0_col0\" class=\"data row0 col0\" >0.8153</td>\n",
       "                        <td id=\"T_13afc_row0_col1\" class=\"data row0 col1\" >0.8887</td>\n",
       "                        <td id=\"T_13afc_row0_col2\" class=\"data row0 col2\" >0.8018</td>\n",
       "                        <td id=\"T_13afc_row0_col3\" class=\"data row0 col3\" >0.8241</td>\n",
       "                        <td id=\"T_13afc_row0_col4\" class=\"data row0 col4\" >0.8128</td>\n",
       "                        <td id=\"T_13afc_row0_col5\" class=\"data row0 col5\" >0.6306</td>\n",
       "                        <td id=\"T_13afc_row0_col6\" class=\"data row0 col6\" >0.6309</td>\n",
       "            </tr>\n",
       "            <tr>\n",
       "                        <th id=\"T_13afc_level0_row1\" class=\"row_heading level0 row1\" >1</th>\n",
       "                        <td id=\"T_13afc_row1_col0\" class=\"data row1 col0\" >0.8694</td>\n",
       "                        <td id=\"T_13afc_row1_col1\" class=\"data row1 col1\" >0.9370</td>\n",
       "                        <td id=\"T_13afc_row1_col2\" class=\"data row1 col2\" >0.8694</td>\n",
       "                        <td id=\"T_13afc_row1_col3\" class=\"data row1 col3\" >0.8694</td>\n",
       "                        <td id=\"T_13afc_row1_col4\" class=\"data row1 col4\" >0.8694</td>\n",
       "                        <td id=\"T_13afc_row1_col5\" class=\"data row1 col5\" >0.7387</td>\n",
       "                        <td id=\"T_13afc_row1_col6\" class=\"data row1 col6\" >0.7387</td>\n",
       "            </tr>\n",
       "            <tr>\n",
       "                        <th id=\"T_13afc_level0_row2\" class=\"row_heading level0 row2\" >2</th>\n",
       "                        <td id=\"T_13afc_row2_col0\" class=\"data row2 col0\" >0.8851</td>\n",
       "                        <td id=\"T_13afc_row2_col1\" class=\"data row2 col1\" >0.9498</td>\n",
       "                        <td id=\"T_13afc_row2_col2\" class=\"data row2 col2\" >0.9099</td>\n",
       "                        <td id=\"T_13afc_row2_col3\" class=\"data row2 col3\" >0.8670</td>\n",
       "                        <td id=\"T_13afc_row2_col4\" class=\"data row2 col4\" >0.8879</td>\n",
       "                        <td id=\"T_13afc_row2_col5\" class=\"data row2 col5\" >0.7703</td>\n",
       "                        <td id=\"T_13afc_row2_col6\" class=\"data row2 col6\" >0.7712</td>\n",
       "            </tr>\n",
       "            <tr>\n",
       "                        <th id=\"T_13afc_level0_row3\" class=\"row_heading level0 row3\" >3</th>\n",
       "                        <td id=\"T_13afc_row3_col0\" class=\"data row3 col0\" >0.8626</td>\n",
       "                        <td id=\"T_13afc_row3_col1\" class=\"data row3 col1\" >0.9300</td>\n",
       "                        <td id=\"T_13afc_row3_col2\" class=\"data row3 col2\" >0.8874</td>\n",
       "                        <td id=\"T_13afc_row3_col3\" class=\"data row3 col3\" >0.8455</td>\n",
       "                        <td id=\"T_13afc_row3_col4\" class=\"data row3 col4\" >0.8659</td>\n",
       "                        <td id=\"T_13afc_row3_col5\" class=\"data row3 col5\" >0.7252</td>\n",
       "                        <td id=\"T_13afc_row3_col6\" class=\"data row3 col6\" >0.7261</td>\n",
       "            </tr>\n",
       "            <tr>\n",
       "                        <th id=\"T_13afc_level0_row4\" class=\"row_heading level0 row4\" >4</th>\n",
       "                        <td id=\"T_13afc_row4_col0\" class=\"data row4 col0\" >0.8217</td>\n",
       "                        <td id=\"T_13afc_row4_col1\" class=\"data row4 col1\" >0.9065</td>\n",
       "                        <td id=\"T_13afc_row4_col2\" class=\"data row4 col2\" >0.8145</td>\n",
       "                        <td id=\"T_13afc_row4_col3\" class=\"data row4 col3\" >0.8257</td>\n",
       "                        <td id=\"T_13afc_row4_col4\" class=\"data row4 col4\" >0.8200</td>\n",
       "                        <td id=\"T_13afc_row4_col5\" class=\"data row4 col5\" >0.6433</td>\n",
       "                        <td id=\"T_13afc_row4_col6\" class=\"data row4 col6\" >0.6434</td>\n",
       "            </tr>\n",
       "            <tr>\n",
       "                        <th id=\"T_13afc_level0_row5\" class=\"row_heading level0 row5\" >5</th>\n",
       "                        <td id=\"T_13afc_row5_col0\" class=\"data row5 col0\" >0.8284</td>\n",
       "                        <td id=\"T_13afc_row5_col1\" class=\"data row5 col1\" >0.9238</td>\n",
       "                        <td id=\"T_13afc_row5_col2\" class=\"data row5 col2\" >0.8145</td>\n",
       "                        <td id=\"T_13afc_row5_col3\" class=\"data row5 col3\" >0.8372</td>\n",
       "                        <td id=\"T_13afc_row5_col4\" class=\"data row5 col4\" >0.8257</td>\n",
       "                        <td id=\"T_13afc_row5_col5\" class=\"data row5 col5\" >0.6569</td>\n",
       "                        <td id=\"T_13afc_row5_col6\" class=\"data row5 col6\" >0.6571</td>\n",
       "            </tr>\n",
       "            <tr>\n",
       "                        <th id=\"T_13afc_level0_row6\" class=\"row_heading level0 row6\" >6</th>\n",
       "                        <td id=\"T_13afc_row6_col0\" class=\"data row6 col0\" >0.8488</td>\n",
       "                        <td id=\"T_13afc_row6_col1\" class=\"data row6 col1\" >0.9163</td>\n",
       "                        <td id=\"T_13afc_row6_col2\" class=\"data row6 col2\" >0.8552</td>\n",
       "                        <td id=\"T_13afc_row6_col3\" class=\"data row6 col3\" >0.8438</td>\n",
       "                        <td id=\"T_13afc_row6_col4\" class=\"data row6 col4\" >0.8494</td>\n",
       "                        <td id=\"T_13afc_row6_col5\" class=\"data row6 col5\" >0.6975</td>\n",
       "                        <td id=\"T_13afc_row6_col6\" class=\"data row6 col6\" >0.6976</td>\n",
       "            </tr>\n",
       "            <tr>\n",
       "                        <th id=\"T_13afc_level0_row7\" class=\"row_heading level0 row7\" >7</th>\n",
       "                        <td id=\"T_13afc_row7_col0\" class=\"data row7 col0\" >0.8194</td>\n",
       "                        <td id=\"T_13afc_row7_col1\" class=\"data row7 col1\" >0.9129</td>\n",
       "                        <td id=\"T_13afc_row7_col2\" class=\"data row7 col2\" >0.8288</td>\n",
       "                        <td id=\"T_13afc_row7_col3\" class=\"data row7 col3\" >0.8142</td>\n",
       "                        <td id=\"T_13afc_row7_col4\" class=\"data row7 col4\" >0.8214</td>\n",
       "                        <td id=\"T_13afc_row7_col5\" class=\"data row7 col5\" >0.6388</td>\n",
       "                        <td id=\"T_13afc_row7_col6\" class=\"data row7 col6\" >0.6389</td>\n",
       "            </tr>\n",
       "            <tr>\n",
       "                        <th id=\"T_13afc_level0_row8\" class=\"row_heading level0 row8\" >8</th>\n",
       "                        <td id=\"T_13afc_row8_col0\" class=\"data row8 col0\" >0.8488</td>\n",
       "                        <td id=\"T_13afc_row8_col1\" class=\"data row8 col1\" >0.9283</td>\n",
       "                        <td id=\"T_13afc_row8_col2\" class=\"data row8 col2\" >0.8739</td>\n",
       "                        <td id=\"T_13afc_row8_col3\" class=\"data row8 col3\" >0.8326</td>\n",
       "                        <td id=\"T_13afc_row8_col4\" class=\"data row8 col4\" >0.8527</td>\n",
       "                        <td id=\"T_13afc_row8_col5\" class=\"data row8 col5\" >0.6975</td>\n",
       "                        <td id=\"T_13afc_row8_col6\" class=\"data row8 col6\" >0.6983</td>\n",
       "            </tr>\n",
       "            <tr>\n",
       "                        <th id=\"T_13afc_level0_row9\" class=\"row_heading level0 row9\" >9</th>\n",
       "                        <td id=\"T_13afc_row9_col0\" class=\"data row9 col0\" >0.8465</td>\n",
       "                        <td id=\"T_13afc_row9_col1\" class=\"data row9 col1\" >0.9228</td>\n",
       "                        <td id=\"T_13afc_row9_col2\" class=\"data row9 col2\" >0.8649</td>\n",
       "                        <td id=\"T_13afc_row9_col3\" class=\"data row9 col3\" >0.8348</td>\n",
       "                        <td id=\"T_13afc_row9_col4\" class=\"data row9 col4\" >0.8496</td>\n",
       "                        <td id=\"T_13afc_row9_col5\" class=\"data row9 col5\" >0.6930</td>\n",
       "                        <td id=\"T_13afc_row9_col6\" class=\"data row9 col6\" >0.6934</td>\n",
       "            </tr>\n",
       "            <tr>\n",
       "                        <th id=\"T_13afc_level0_row10\" class=\"row_heading level0 row10\" >Mean</th>\n",
       "                        <td id=\"T_13afc_row10_col0\" class=\"data row10 col0\" >0.8446</td>\n",
       "                        <td id=\"T_13afc_row10_col1\" class=\"data row10 col1\" >0.9216</td>\n",
       "                        <td id=\"T_13afc_row10_col2\" class=\"data row10 col2\" >0.8520</td>\n",
       "                        <td id=\"T_13afc_row10_col3\" class=\"data row10 col3\" >0.8394</td>\n",
       "                        <td id=\"T_13afc_row10_col4\" class=\"data row10 col4\" >0.8455</td>\n",
       "                        <td id=\"T_13afc_row10_col5\" class=\"data row10 col5\" >0.6892</td>\n",
       "                        <td id=\"T_13afc_row10_col6\" class=\"data row10 col6\" >0.6896</td>\n",
       "            </tr>\n",
       "            <tr>\n",
       "                        <th id=\"T_13afc_level0_row11\" class=\"row_heading level0 row11\" >SD</th>\n",
       "                        <td id=\"T_13afc_row11_col0\" class=\"data row11 col0\" >0.0221</td>\n",
       "                        <td id=\"T_13afc_row11_col1\" class=\"data row11 col1\" >0.0160</td>\n",
       "                        <td id=\"T_13afc_row11_col2\" class=\"data row11 col2\" >0.0338</td>\n",
       "                        <td id=\"T_13afc_row11_col3\" class=\"data row11 col3\" >0.0169</td>\n",
       "                        <td id=\"T_13afc_row11_col4\" class=\"data row11 col4\" >0.0236</td>\n",
       "                        <td id=\"T_13afc_row11_col5\" class=\"data row11 col5\" >0.0443</td>\n",
       "                        <td id=\"T_13afc_row11_col6\" class=\"data row11 col6\" >0.0445</td>\n",
       "            </tr>\n",
       "    </tbody></table>"
      ],
      "text/plain": [
       "<pandas.io.formats.style.Styler at 0x21811112250>"
      ]
     },
     "metadata": {},
     "output_type": "display_data"
    }
   ],
   "source": [
    "xgboost = create_model('xgboost')"
   ]
  },
  {
   "cell_type": "code",
   "execution_count": 32,
   "metadata": {
    "pycharm": {
     "name": "#%%\n"
    }
   },
   "outputs": [
    {
     "data": {
      "text/html": [
       "<style  type=\"text/css\" >\n",
       "#T_d7c3b_row10_col0,#T_d7c3b_row10_col1,#T_d7c3b_row10_col2,#T_d7c3b_row10_col3,#T_d7c3b_row10_col4,#T_d7c3b_row10_col5,#T_d7c3b_row10_col6{\n",
       "            background:  yellow;\n",
       "        }</style><table id=\"T_d7c3b_\" ><thead>    <tr>        <th class=\"blank level0\" ></th>        <th class=\"col_heading level0 col0\" >Accuracy</th>        <th class=\"col_heading level0 col1\" >AUC</th>        <th class=\"col_heading level0 col2\" >Recall</th>        <th class=\"col_heading level0 col3\" >Prec.</th>        <th class=\"col_heading level0 col4\" >F1</th>        <th class=\"col_heading level0 col5\" >Kappa</th>        <th class=\"col_heading level0 col6\" >MCC</th>    </tr></thead><tbody>\n",
       "                <tr>\n",
       "                        <th id=\"T_d7c3b_level0_row0\" class=\"row_heading level0 row0\" >0</th>\n",
       "                        <td id=\"T_d7c3b_row0_col0\" class=\"data row0 col0\" >0.8131</td>\n",
       "                        <td id=\"T_d7c3b_row0_col1\" class=\"data row0 col1\" >0.8932</td>\n",
       "                        <td id=\"T_d7c3b_row0_col2\" class=\"data row0 col2\" >0.7973</td>\n",
       "                        <td id=\"T_d7c3b_row0_col3\" class=\"data row0 col3\" >0.8233</td>\n",
       "                        <td id=\"T_d7c3b_row0_col4\" class=\"data row0 col4\" >0.8101</td>\n",
       "                        <td id=\"T_d7c3b_row0_col5\" class=\"data row0 col5\" >0.6261</td>\n",
       "                        <td id=\"T_d7c3b_row0_col6\" class=\"data row0 col6\" >0.6264</td>\n",
       "            </tr>\n",
       "            <tr>\n",
       "                        <th id=\"T_d7c3b_level0_row1\" class=\"row_heading level0 row1\" >1</th>\n",
       "                        <td id=\"T_d7c3b_row1_col0\" class=\"data row1 col0\" >0.8604</td>\n",
       "                        <td id=\"T_d7c3b_row1_col1\" class=\"data row1 col1\" >0.9329</td>\n",
       "                        <td id=\"T_d7c3b_row1_col2\" class=\"data row1 col2\" >0.8649</td>\n",
       "                        <td id=\"T_d7c3b_row1_col3\" class=\"data row1 col3\" >0.8571</td>\n",
       "                        <td id=\"T_d7c3b_row1_col4\" class=\"data row1 col4\" >0.8610</td>\n",
       "                        <td id=\"T_d7c3b_row1_col5\" class=\"data row1 col5\" >0.7207</td>\n",
       "                        <td id=\"T_d7c3b_row1_col6\" class=\"data row1 col6\" >0.7207</td>\n",
       "            </tr>\n",
       "            <tr>\n",
       "                        <th id=\"T_d7c3b_level0_row2\" class=\"row_heading level0 row2\" >2</th>\n",
       "                        <td id=\"T_d7c3b_row2_col0\" class=\"data row2 col0\" >0.8649</td>\n",
       "                        <td id=\"T_d7c3b_row2_col1\" class=\"data row2 col1\" >0.9353</td>\n",
       "                        <td id=\"T_d7c3b_row2_col2\" class=\"data row2 col2\" >0.8739</td>\n",
       "                        <td id=\"T_d7c3b_row2_col3\" class=\"data row2 col3\" >0.8584</td>\n",
       "                        <td id=\"T_d7c3b_row2_col4\" class=\"data row2 col4\" >0.8661</td>\n",
       "                        <td id=\"T_d7c3b_row2_col5\" class=\"data row2 col5\" >0.7297</td>\n",
       "                        <td id=\"T_d7c3b_row2_col6\" class=\"data row2 col6\" >0.7298</td>\n",
       "            </tr>\n",
       "            <tr>\n",
       "                        <th id=\"T_d7c3b_level0_row3\" class=\"row_heading level0 row3\" >3</th>\n",
       "                        <td id=\"T_d7c3b_row3_col0\" class=\"data row3 col0\" >0.8468</td>\n",
       "                        <td id=\"T_d7c3b_row3_col1\" class=\"data row3 col1\" >0.9265</td>\n",
       "                        <td id=\"T_d7c3b_row3_col2\" class=\"data row3 col2\" >0.8919</td>\n",
       "                        <td id=\"T_d7c3b_row3_col3\" class=\"data row3 col3\" >0.8182</td>\n",
       "                        <td id=\"T_d7c3b_row3_col4\" class=\"data row3 col4\" >0.8534</td>\n",
       "                        <td id=\"T_d7c3b_row3_col5\" class=\"data row3 col5\" >0.6937</td>\n",
       "                        <td id=\"T_d7c3b_row3_col6\" class=\"data row3 col6\" >0.6965</td>\n",
       "            </tr>\n",
       "            <tr>\n",
       "                        <th id=\"T_d7c3b_level0_row4\" class=\"row_heading level0 row4\" >4</th>\n",
       "                        <td id=\"T_d7c3b_row4_col0\" class=\"data row4 col0\" >0.8217</td>\n",
       "                        <td id=\"T_d7c3b_row4_col1\" class=\"data row4 col1\" >0.8967</td>\n",
       "                        <td id=\"T_d7c3b_row4_col2\" class=\"data row4 col2\" >0.8416</td>\n",
       "                        <td id=\"T_d7c3b_row4_col3\" class=\"data row4 col3\" >0.8087</td>\n",
       "                        <td id=\"T_d7c3b_row4_col4\" class=\"data row4 col4\" >0.8248</td>\n",
       "                        <td id=\"T_d7c3b_row4_col5\" class=\"data row4 col5\" >0.6434</td>\n",
       "                        <td id=\"T_d7c3b_row4_col6\" class=\"data row4 col6\" >0.6439</td>\n",
       "            </tr>\n",
       "            <tr>\n",
       "                        <th id=\"T_d7c3b_level0_row5\" class=\"row_heading level0 row5\" >5</th>\n",
       "                        <td id=\"T_d7c3b_row5_col0\" class=\"data row5 col0\" >0.8533</td>\n",
       "                        <td id=\"T_d7c3b_row5_col1\" class=\"data row5 col1\" >0.9263</td>\n",
       "                        <td id=\"T_d7c3b_row5_col2\" class=\"data row5 col2\" >0.8462</td>\n",
       "                        <td id=\"T_d7c3b_row5_col3\" class=\"data row5 col3\" >0.8578</td>\n",
       "                        <td id=\"T_d7c3b_row5_col4\" class=\"data row5 col4\" >0.8519</td>\n",
       "                        <td id=\"T_d7c3b_row5_col5\" class=\"data row5 col5\" >0.7065</td>\n",
       "                        <td id=\"T_d7c3b_row5_col6\" class=\"data row5 col6\" >0.7066</td>\n",
       "            </tr>\n",
       "            <tr>\n",
       "                        <th id=\"T_d7c3b_level0_row6\" class=\"row_heading level0 row6\" >6</th>\n",
       "                        <td id=\"T_d7c3b_row6_col0\" class=\"data row6 col0\" >0.8330</td>\n",
       "                        <td id=\"T_d7c3b_row6_col1\" class=\"data row6 col1\" >0.9132</td>\n",
       "                        <td id=\"T_d7c3b_row6_col2\" class=\"data row6 col2\" >0.8190</td>\n",
       "                        <td id=\"T_d7c3b_row6_col3\" class=\"data row6 col3\" >0.8419</td>\n",
       "                        <td id=\"T_d7c3b_row6_col4\" class=\"data row6 col4\" >0.8303</td>\n",
       "                        <td id=\"T_d7c3b_row6_col5\" class=\"data row6 col5\" >0.6659</td>\n",
       "                        <td id=\"T_d7c3b_row6_col6\" class=\"data row6 col6\" >0.6661</td>\n",
       "            </tr>\n",
       "            <tr>\n",
       "                        <th id=\"T_d7c3b_level0_row7\" class=\"row_heading level0 row7\" >7</th>\n",
       "                        <td id=\"T_d7c3b_row7_col0\" class=\"data row7 col0\" >0.8420</td>\n",
       "                        <td id=\"T_d7c3b_row7_col1\" class=\"data row7 col1\" >0.9135</td>\n",
       "                        <td id=\"T_d7c3b_row7_col2\" class=\"data row7 col2\" >0.8378</td>\n",
       "                        <td id=\"T_d7c3b_row7_col3\" class=\"data row7 col3\" >0.8455</td>\n",
       "                        <td id=\"T_d7c3b_row7_col4\" class=\"data row7 col4\" >0.8416</td>\n",
       "                        <td id=\"T_d7c3b_row7_col5\" class=\"data row7 col5\" >0.6840</td>\n",
       "                        <td id=\"T_d7c3b_row7_col6\" class=\"data row7 col6\" >0.6840</td>\n",
       "            </tr>\n",
       "            <tr>\n",
       "                        <th id=\"T_d7c3b_level0_row8\" class=\"row_heading level0 row8\" >8</th>\n",
       "                        <td id=\"T_d7c3b_row8_col0\" class=\"data row8 col0\" >0.8397</td>\n",
       "                        <td id=\"T_d7c3b_row8_col1\" class=\"data row8 col1\" >0.9279</td>\n",
       "                        <td id=\"T_d7c3b_row8_col2\" class=\"data row8 col2\" >0.8514</td>\n",
       "                        <td id=\"T_d7c3b_row8_col3\" class=\"data row8 col3\" >0.8326</td>\n",
       "                        <td id=\"T_d7c3b_row8_col4\" class=\"data row8 col4\" >0.8419</td>\n",
       "                        <td id=\"T_d7c3b_row8_col5\" class=\"data row8 col5\" >0.6794</td>\n",
       "                        <td id=\"T_d7c3b_row8_col6\" class=\"data row8 col6\" >0.6796</td>\n",
       "            </tr>\n",
       "            <tr>\n",
       "                        <th id=\"T_d7c3b_level0_row9\" class=\"row_heading level0 row9\" >9</th>\n",
       "                        <td id=\"T_d7c3b_row9_col0\" class=\"data row9 col0\" >0.8623</td>\n",
       "                        <td id=\"T_d7c3b_row9_col1\" class=\"data row9 col1\" >0.9347</td>\n",
       "                        <td id=\"T_d7c3b_row9_col2\" class=\"data row9 col2\" >0.8649</td>\n",
       "                        <td id=\"T_d7c3b_row9_col3\" class=\"data row9 col3\" >0.8610</td>\n",
       "                        <td id=\"T_d7c3b_row9_col4\" class=\"data row9 col4\" >0.8629</td>\n",
       "                        <td id=\"T_d7c3b_row9_col5\" class=\"data row9 col5\" >0.7246</td>\n",
       "                        <td id=\"T_d7c3b_row9_col6\" class=\"data row9 col6\" >0.7246</td>\n",
       "            </tr>\n",
       "            <tr>\n",
       "                        <th id=\"T_d7c3b_level0_row10\" class=\"row_heading level0 row10\" >Mean</th>\n",
       "                        <td id=\"T_d7c3b_row10_col0\" class=\"data row10 col0\" >0.8437</td>\n",
       "                        <td id=\"T_d7c3b_row10_col1\" class=\"data row10 col1\" >0.9200</td>\n",
       "                        <td id=\"T_d7c3b_row10_col2\" class=\"data row10 col2\" >0.8489</td>\n",
       "                        <td id=\"T_d7c3b_row10_col3\" class=\"data row10 col3\" >0.8404</td>\n",
       "                        <td id=\"T_d7c3b_row10_col4\" class=\"data row10 col4\" >0.8444</td>\n",
       "                        <td id=\"T_d7c3b_row10_col5\" class=\"data row10 col5\" >0.6874</td>\n",
       "                        <td id=\"T_d7c3b_row10_col6\" class=\"data row10 col6\" >0.6878</td>\n",
       "            </tr>\n",
       "            <tr>\n",
       "                        <th id=\"T_d7c3b_level0_row11\" class=\"row_heading level0 row11\" >SD</th>\n",
       "                        <td id=\"T_d7c3b_row11_col0\" class=\"data row11 col0\" >0.0165</td>\n",
       "                        <td id=\"T_d7c3b_row11_col1\" class=\"data row11 col1\" >0.0145</td>\n",
       "                        <td id=\"T_d7c3b_row11_col2\" class=\"data row11 col2\" >0.0259</td>\n",
       "                        <td id=\"T_d7c3b_row11_col3\" class=\"data row11 col3\" >0.0179</td>\n",
       "                        <td id=\"T_d7c3b_row11_col4\" class=\"data row11 col4\" >0.0173</td>\n",
       "                        <td id=\"T_d7c3b_row11_col5\" class=\"data row11 col5\" >0.0330</td>\n",
       "                        <td id=\"T_d7c3b_row11_col6\" class=\"data row11 col6\" >0.0330</td>\n",
       "            </tr>\n",
       "    </tbody></table>"
      ],
      "text/plain": [
       "<pandas.io.formats.style.Styler at 0x218111492b0>"
      ]
     },
     "metadata": {},
     "output_type": "display_data"
    }
   ],
   "source": [
    "gbc = create_model('gbc')"
   ]
  },
  {
   "cell_type": "code",
   "execution_count": 44,
   "metadata": {
    "pycharm": {
     "name": "#%%\n"
    }
   },
   "outputs": [
    {
     "data": {
      "text/html": [
       "<style  type=\"text/css\" >\n",
       "#T_9d439_row10_col0,#T_9d439_row10_col1,#T_9d439_row10_col2,#T_9d439_row10_col3,#T_9d439_row10_col4,#T_9d439_row10_col5,#T_9d439_row10_col6{\n",
       "            background:  yellow;\n",
       "        }</style><table id=\"T_9d439_\" ><thead>    <tr>        <th class=\"blank level0\" ></th>        <th class=\"col_heading level0 col0\" >Accuracy</th>        <th class=\"col_heading level0 col1\" >AUC</th>        <th class=\"col_heading level0 col2\" >Recall</th>        <th class=\"col_heading level0 col3\" >Prec.</th>        <th class=\"col_heading level0 col4\" >F1</th>        <th class=\"col_heading level0 col5\" >Kappa</th>        <th class=\"col_heading level0 col6\" >MCC</th>    </tr></thead><tbody>\n",
       "                <tr>\n",
       "                        <th id=\"T_9d439_level0_row0\" class=\"row_heading level0 row0\" >0</th>\n",
       "                        <td id=\"T_9d439_row0_col0\" class=\"data row0 col0\" >0.8266</td>\n",
       "                        <td id=\"T_9d439_row0_col1\" class=\"data row0 col1\" >0.8976</td>\n",
       "                        <td id=\"T_9d439_row0_col2\" class=\"data row0 col2\" >0.8288</td>\n",
       "                        <td id=\"T_9d439_row0_col3\" class=\"data row0 col3\" >0.8251</td>\n",
       "                        <td id=\"T_9d439_row0_col4\" class=\"data row0 col4\" >0.8270</td>\n",
       "                        <td id=\"T_9d439_row0_col5\" class=\"data row0 col5\" >0.6532</td>\n",
       "                        <td id=\"T_9d439_row0_col6\" class=\"data row0 col6\" >0.6532</td>\n",
       "            </tr>\n",
       "            <tr>\n",
       "                        <th id=\"T_9d439_level0_row1\" class=\"row_heading level0 row1\" >1</th>\n",
       "                        <td id=\"T_9d439_row1_col0\" class=\"data row1 col0\" >0.8761</td>\n",
       "                        <td id=\"T_9d439_row1_col1\" class=\"data row1 col1\" >0.9407</td>\n",
       "                        <td id=\"T_9d439_row1_col2\" class=\"data row1 col2\" >0.8919</td>\n",
       "                        <td id=\"T_9d439_row1_col3\" class=\"data row1 col3\" >0.8646</td>\n",
       "                        <td id=\"T_9d439_row1_col4\" class=\"data row1 col4\" >0.8780</td>\n",
       "                        <td id=\"T_9d439_row1_col5\" class=\"data row1 col5\" >0.7523</td>\n",
       "                        <td id=\"T_9d439_row1_col6\" class=\"data row1 col6\" >0.7526</td>\n",
       "            </tr>\n",
       "            <tr>\n",
       "                        <th id=\"T_9d439_level0_row2\" class=\"row_heading level0 row2\" >2</th>\n",
       "                        <td id=\"T_9d439_row2_col0\" class=\"data row2 col0\" >0.8829</td>\n",
       "                        <td id=\"T_9d439_row2_col1\" class=\"data row2 col1\" >0.9512</td>\n",
       "                        <td id=\"T_9d439_row2_col2\" class=\"data row2 col2\" >0.9054</td>\n",
       "                        <td id=\"T_9d439_row2_col3\" class=\"data row2 col3\" >0.8664</td>\n",
       "                        <td id=\"T_9d439_row2_col4\" class=\"data row2 col4\" >0.8855</td>\n",
       "                        <td id=\"T_9d439_row2_col5\" class=\"data row2 col5\" >0.7658</td>\n",
       "                        <td id=\"T_9d439_row2_col6\" class=\"data row2 col6\" >0.7665</td>\n",
       "            </tr>\n",
       "            <tr>\n",
       "                        <th id=\"T_9d439_level0_row3\" class=\"row_heading level0 row3\" >3</th>\n",
       "                        <td id=\"T_9d439_row3_col0\" class=\"data row3 col0\" >0.8649</td>\n",
       "                        <td id=\"T_9d439_row3_col1\" class=\"data row3 col1\" >0.9343</td>\n",
       "                        <td id=\"T_9d439_row3_col2\" class=\"data row3 col2\" >0.8964</td>\n",
       "                        <td id=\"T_9d439_row3_col3\" class=\"data row3 col3\" >0.8432</td>\n",
       "                        <td id=\"T_9d439_row3_col4\" class=\"data row3 col4\" >0.8690</td>\n",
       "                        <td id=\"T_9d439_row3_col5\" class=\"data row3 col5\" >0.7297</td>\n",
       "                        <td id=\"T_9d439_row3_col6\" class=\"data row3 col6\" >0.7312</td>\n",
       "            </tr>\n",
       "            <tr>\n",
       "                        <th id=\"T_9d439_level0_row4\" class=\"row_heading level0 row4\" >4</th>\n",
       "                        <td id=\"T_9d439_row4_col0\" class=\"data row4 col0\" >0.8307</td>\n",
       "                        <td id=\"T_9d439_row4_col1\" class=\"data row4 col1\" >0.9085</td>\n",
       "                        <td id=\"T_9d439_row4_col2\" class=\"data row4 col2\" >0.8416</td>\n",
       "                        <td id=\"T_9d439_row4_col3\" class=\"data row4 col3\" >0.8230</td>\n",
       "                        <td id=\"T_9d439_row4_col4\" class=\"data row4 col4\" >0.8322</td>\n",
       "                        <td id=\"T_9d439_row4_col5\" class=\"data row4 col5\" >0.6614</td>\n",
       "                        <td id=\"T_9d439_row4_col6\" class=\"data row4 col6\" >0.6616</td>\n",
       "            </tr>\n",
       "            <tr>\n",
       "                        <th id=\"T_9d439_level0_row5\" class=\"row_heading level0 row5\" >5</th>\n",
       "                        <td id=\"T_9d439_row5_col0\" class=\"data row5 col0\" >0.8442</td>\n",
       "                        <td id=\"T_9d439_row5_col1\" class=\"data row5 col1\" >0.9308</td>\n",
       "                        <td id=\"T_9d439_row5_col2\" class=\"data row5 col2\" >0.8462</td>\n",
       "                        <td id=\"T_9d439_row5_col3\" class=\"data row5 col3\" >0.8423</td>\n",
       "                        <td id=\"T_9d439_row5_col4\" class=\"data row5 col4\" >0.8442</td>\n",
       "                        <td id=\"T_9d439_row5_col5\" class=\"data row5 col5\" >0.6885</td>\n",
       "                        <td id=\"T_9d439_row5_col6\" class=\"data row5 col6\" >0.6885</td>\n",
       "            </tr>\n",
       "            <tr>\n",
       "                        <th id=\"T_9d439_level0_row6\" class=\"row_heading level0 row6\" >6</th>\n",
       "                        <td id=\"T_9d439_row6_col0\" class=\"data row6 col0\" >0.8668</td>\n",
       "                        <td id=\"T_9d439_row6_col1\" class=\"data row6 col1\" >0.9226</td>\n",
       "                        <td id=\"T_9d439_row6_col2\" class=\"data row6 col2\" >0.8688</td>\n",
       "                        <td id=\"T_9d439_row6_col3\" class=\"data row6 col3\" >0.8649</td>\n",
       "                        <td id=\"T_9d439_row6_col4\" class=\"data row6 col4\" >0.8668</td>\n",
       "                        <td id=\"T_9d439_row6_col5\" class=\"data row6 col5\" >0.7336</td>\n",
       "                        <td id=\"T_9d439_row6_col6\" class=\"data row6 col6\" >0.7336</td>\n",
       "            </tr>\n",
       "            <tr>\n",
       "                        <th id=\"T_9d439_level0_row7\" class=\"row_heading level0 row7\" >7</th>\n",
       "                        <td id=\"T_9d439_row7_col0\" class=\"data row7 col0\" >0.8397</td>\n",
       "                        <td id=\"T_9d439_row7_col1\" class=\"data row7 col1\" >0.9208</td>\n",
       "                        <td id=\"T_9d439_row7_col2\" class=\"data row7 col2\" >0.8514</td>\n",
       "                        <td id=\"T_9d439_row7_col3\" class=\"data row7 col3\" >0.8326</td>\n",
       "                        <td id=\"T_9d439_row7_col4\" class=\"data row7 col4\" >0.8419</td>\n",
       "                        <td id=\"T_9d439_row7_col5\" class=\"data row7 col5\" >0.6794</td>\n",
       "                        <td id=\"T_9d439_row7_col6\" class=\"data row7 col6\" >0.6796</td>\n",
       "            </tr>\n",
       "            <tr>\n",
       "                        <th id=\"T_9d439_level0_row8\" class=\"row_heading level0 row8\" >8</th>\n",
       "                        <td id=\"T_9d439_row8_col0\" class=\"data row8 col0\" >0.8488</td>\n",
       "                        <td id=\"T_9d439_row8_col1\" class=\"data row8 col1\" >0.9340</td>\n",
       "                        <td id=\"T_9d439_row8_col2\" class=\"data row8 col2\" >0.8649</td>\n",
       "                        <td id=\"T_9d439_row8_col3\" class=\"data row8 col3\" >0.8384</td>\n",
       "                        <td id=\"T_9d439_row8_col4\" class=\"data row8 col4\" >0.8514</td>\n",
       "                        <td id=\"T_9d439_row8_col5\" class=\"data row8 col5\" >0.6975</td>\n",
       "                        <td id=\"T_9d439_row8_col6\" class=\"data row8 col6\" >0.6978</td>\n",
       "            </tr>\n",
       "            <tr>\n",
       "                        <th id=\"T_9d439_level0_row9\" class=\"row_heading level0 row9\" >9</th>\n",
       "                        <td id=\"T_9d439_row9_col0\" class=\"data row9 col0\" >0.8488</td>\n",
       "                        <td id=\"T_9d439_row9_col1\" class=\"data row9 col1\" >0.9326</td>\n",
       "                        <td id=\"T_9d439_row9_col2\" class=\"data row9 col2\" >0.8604</td>\n",
       "                        <td id=\"T_9d439_row9_col3\" class=\"data row9 col3\" >0.8414</td>\n",
       "                        <td id=\"T_9d439_row9_col4\" class=\"data row9 col4\" >0.8508</td>\n",
       "                        <td id=\"T_9d439_row9_col5\" class=\"data row9 col5\" >0.6975</td>\n",
       "                        <td id=\"T_9d439_row9_col6\" class=\"data row9 col6\" >0.6977</td>\n",
       "            </tr>\n",
       "            <tr>\n",
       "                        <th id=\"T_9d439_level0_row10\" class=\"row_heading level0 row10\" >Mean</th>\n",
       "                        <td id=\"T_9d439_row10_col0\" class=\"data row10 col0\" >0.8529</td>\n",
       "                        <td id=\"T_9d439_row10_col1\" class=\"data row10 col1\" >0.9273</td>\n",
       "                        <td id=\"T_9d439_row10_col2\" class=\"data row10 col2\" >0.8656</td>\n",
       "                        <td id=\"T_9d439_row10_col3\" class=\"data row10 col3\" >0.8442</td>\n",
       "                        <td id=\"T_9d439_row10_col4\" class=\"data row10 col4\" >0.8547</td>\n",
       "                        <td id=\"T_9d439_row10_col5\" class=\"data row10 col5\" >0.7059</td>\n",
       "                        <td id=\"T_9d439_row10_col6\" class=\"data row10 col6\" >0.7062</td>\n",
       "            </tr>\n",
       "            <tr>\n",
       "                        <th id=\"T_9d439_level0_row11\" class=\"row_heading level0 row11\" >SD</th>\n",
       "                        <td id=\"T_9d439_row11_col0\" class=\"data row11 col0\" >0.0180</td>\n",
       "                        <td id=\"T_9d439_row11_col1\" class=\"data row11 col1\" >0.0148</td>\n",
       "                        <td id=\"T_9d439_row11_col2\" class=\"data row11 col2\" >0.0240</td>\n",
       "                        <td id=\"T_9d439_row11_col3\" class=\"data row11 col3\" >0.0153</td>\n",
       "                        <td id=\"T_9d439_row11_col4\" class=\"data row11 col4\" >0.0185</td>\n",
       "                        <td id=\"T_9d439_row11_col5\" class=\"data row11 col5\" >0.0360</td>\n",
       "                        <td id=\"T_9d439_row11_col6\" class=\"data row11 col6\" >0.0363</td>\n",
       "            </tr>\n",
       "    </tbody></table>"
      ],
      "text/plain": [
       "<pandas.io.formats.style.Styler at 0x21811319a90>"
      ]
     },
     "metadata": {},
     "output_type": "display_data"
    }
   ],
   "source": [
    "#Blending\n",
    "# blend individual models\n",
    "blend_soft = blend_models(estimator_list =top3, method = 'soft')"
   ]
  },
  {
   "cell_type": "code",
   "execution_count": 45,
   "metadata": {
    "pycharm": {
     "name": "#%%\n"
    }
   },
   "outputs": [
    {
     "data": {
      "text/html": [
       "<style  type=\"text/css\" >\n",
       "#T_ca8ff_row10_col0,#T_ca8ff_row10_col1,#T_ca8ff_row10_col2,#T_ca8ff_row10_col3,#T_ca8ff_row10_col4,#T_ca8ff_row10_col5,#T_ca8ff_row10_col6{\n",
       "            background:  yellow;\n",
       "        }</style><table id=\"T_ca8ff_\" ><thead>    <tr>        <th class=\"blank level0\" ></th>        <th class=\"col_heading level0 col0\" >Accuracy</th>        <th class=\"col_heading level0 col1\" >AUC</th>        <th class=\"col_heading level0 col2\" >Recall</th>        <th class=\"col_heading level0 col3\" >Prec.</th>        <th class=\"col_heading level0 col4\" >F1</th>        <th class=\"col_heading level0 col5\" >Kappa</th>        <th class=\"col_heading level0 col6\" >MCC</th>    </tr></thead><tbody>\n",
       "                <tr>\n",
       "                        <th id=\"T_ca8ff_level0_row0\" class=\"row_heading level0 row0\" >0</th>\n",
       "                        <td id=\"T_ca8ff_row0_col0\" class=\"data row0 col0\" >0.8198</td>\n",
       "                        <td id=\"T_ca8ff_row0_col1\" class=\"data row0 col1\" >0.0000</td>\n",
       "                        <td id=\"T_ca8ff_row0_col2\" class=\"data row0 col2\" >0.8198</td>\n",
       "                        <td id=\"T_ca8ff_row0_col3\" class=\"data row0 col3\" >0.8198</td>\n",
       "                        <td id=\"T_ca8ff_row0_col4\" class=\"data row0 col4\" >0.8198</td>\n",
       "                        <td id=\"T_ca8ff_row0_col5\" class=\"data row0 col5\" >0.6396</td>\n",
       "                        <td id=\"T_ca8ff_row0_col6\" class=\"data row0 col6\" >0.6396</td>\n",
       "            </tr>\n",
       "            <tr>\n",
       "                        <th id=\"T_ca8ff_level0_row1\" class=\"row_heading level0 row1\" >1</th>\n",
       "                        <td id=\"T_ca8ff_row1_col0\" class=\"data row1 col0\" >0.8761</td>\n",
       "                        <td id=\"T_ca8ff_row1_col1\" class=\"data row1 col1\" >0.0000</td>\n",
       "                        <td id=\"T_ca8ff_row1_col2\" class=\"data row1 col2\" >0.8919</td>\n",
       "                        <td id=\"T_ca8ff_row1_col3\" class=\"data row1 col3\" >0.8646</td>\n",
       "                        <td id=\"T_ca8ff_row1_col4\" class=\"data row1 col4\" >0.8780</td>\n",
       "                        <td id=\"T_ca8ff_row1_col5\" class=\"data row1 col5\" >0.7523</td>\n",
       "                        <td id=\"T_ca8ff_row1_col6\" class=\"data row1 col6\" >0.7526</td>\n",
       "            </tr>\n",
       "            <tr>\n",
       "                        <th id=\"T_ca8ff_level0_row2\" class=\"row_heading level0 row2\" >2</th>\n",
       "                        <td id=\"T_ca8ff_row2_col0\" class=\"data row2 col0\" >0.8896</td>\n",
       "                        <td id=\"T_ca8ff_row2_col1\" class=\"data row2 col1\" >0.0000</td>\n",
       "                        <td id=\"T_ca8ff_row2_col2\" class=\"data row2 col2\" >0.9144</td>\n",
       "                        <td id=\"T_ca8ff_row2_col3\" class=\"data row2 col3\" >0.8712</td>\n",
       "                        <td id=\"T_ca8ff_row2_col4\" class=\"data row2 col4\" >0.8923</td>\n",
       "                        <td id=\"T_ca8ff_row2_col5\" class=\"data row2 col5\" >0.7793</td>\n",
       "                        <td id=\"T_ca8ff_row2_col6\" class=\"data row2 col6\" >0.7802</td>\n",
       "            </tr>\n",
       "            <tr>\n",
       "                        <th id=\"T_ca8ff_level0_row3\" class=\"row_heading level0 row3\" >3</th>\n",
       "                        <td id=\"T_ca8ff_row3_col0\" class=\"data row3 col0\" >0.8649</td>\n",
       "                        <td id=\"T_ca8ff_row3_col1\" class=\"data row3 col1\" >0.0000</td>\n",
       "                        <td id=\"T_ca8ff_row3_col2\" class=\"data row3 col2\" >0.9099</td>\n",
       "                        <td id=\"T_ca8ff_row3_col3\" class=\"data row3 col3\" >0.8347</td>\n",
       "                        <td id=\"T_ca8ff_row3_col4\" class=\"data row3 col4\" >0.8707</td>\n",
       "                        <td id=\"T_ca8ff_row3_col5\" class=\"data row3 col5\" >0.7297</td>\n",
       "                        <td id=\"T_ca8ff_row3_col6\" class=\"data row3 col6\" >0.7327</td>\n",
       "            </tr>\n",
       "            <tr>\n",
       "                        <th id=\"T_ca8ff_level0_row4\" class=\"row_heading level0 row4\" >4</th>\n",
       "                        <td id=\"T_ca8ff_row4_col0\" class=\"data row4 col0\" >0.8330</td>\n",
       "                        <td id=\"T_ca8ff_row4_col1\" class=\"data row4 col1\" >0.0000</td>\n",
       "                        <td id=\"T_ca8ff_row4_col2\" class=\"data row4 col2\" >0.8552</td>\n",
       "                        <td id=\"T_ca8ff_row4_col3\" class=\"data row4 col3\" >0.8182</td>\n",
       "                        <td id=\"T_ca8ff_row4_col4\" class=\"data row4 col4\" >0.8363</td>\n",
       "                        <td id=\"T_ca8ff_row4_col5\" class=\"data row4 col5\" >0.6659</td>\n",
       "                        <td id=\"T_ca8ff_row4_col6\" class=\"data row4 col6\" >0.6666</td>\n",
       "            </tr>\n",
       "            <tr>\n",
       "                        <th id=\"T_ca8ff_level0_row5\" class=\"row_heading level0 row5\" >5</th>\n",
       "                        <td id=\"T_ca8ff_row5_col0\" class=\"data row5 col0\" >0.8420</td>\n",
       "                        <td id=\"T_ca8ff_row5_col1\" class=\"data row5 col1\" >0.0000</td>\n",
       "                        <td id=\"T_ca8ff_row5_col2\" class=\"data row5 col2\" >0.8462</td>\n",
       "                        <td id=\"T_ca8ff_row5_col3\" class=\"data row5 col3\" >0.8386</td>\n",
       "                        <td id=\"T_ca8ff_row5_col4\" class=\"data row5 col4\" >0.8423</td>\n",
       "                        <td id=\"T_ca8ff_row5_col5\" class=\"data row5 col5\" >0.6840</td>\n",
       "                        <td id=\"T_ca8ff_row5_col6\" class=\"data row5 col6\" >0.6840</td>\n",
       "            </tr>\n",
       "            <tr>\n",
       "                        <th id=\"T_ca8ff_level0_row6\" class=\"row_heading level0 row6\" >6</th>\n",
       "                        <td id=\"T_ca8ff_row6_col0\" class=\"data row6 col0\" >0.8623</td>\n",
       "                        <td id=\"T_ca8ff_row6_col1\" class=\"data row6 col1\" >0.0000</td>\n",
       "                        <td id=\"T_ca8ff_row6_col2\" class=\"data row6 col2\" >0.8597</td>\n",
       "                        <td id=\"T_ca8ff_row6_col3\" class=\"data row6 col3\" >0.8636</td>\n",
       "                        <td id=\"T_ca8ff_row6_col4\" class=\"data row6 col4\" >0.8617</td>\n",
       "                        <td id=\"T_ca8ff_row6_col5\" class=\"data row6 col5\" >0.7246</td>\n",
       "                        <td id=\"T_ca8ff_row6_col6\" class=\"data row6 col6\" >0.7246</td>\n",
       "            </tr>\n",
       "            <tr>\n",
       "                        <th id=\"T_ca8ff_level0_row7\" class=\"row_heading level0 row7\" >7</th>\n",
       "                        <td id=\"T_ca8ff_row7_col0\" class=\"data row7 col0\" >0.8442</td>\n",
       "                        <td id=\"T_ca8ff_row7_col1\" class=\"data row7 col1\" >0.0000</td>\n",
       "                        <td id=\"T_ca8ff_row7_col2\" class=\"data row7 col2\" >0.8468</td>\n",
       "                        <td id=\"T_ca8ff_row7_col3\" class=\"data row7 col3\" >0.8430</td>\n",
       "                        <td id=\"T_ca8ff_row7_col4\" class=\"data row7 col4\" >0.8449</td>\n",
       "                        <td id=\"T_ca8ff_row7_col5\" class=\"data row7 col5\" >0.6885</td>\n",
       "                        <td id=\"T_ca8ff_row7_col6\" class=\"data row7 col6\" >0.6885</td>\n",
       "            </tr>\n",
       "            <tr>\n",
       "                        <th id=\"T_ca8ff_level0_row8\" class=\"row_heading level0 row8\" >8</th>\n",
       "                        <td id=\"T_ca8ff_row8_col0\" class=\"data row8 col0\" >0.8510</td>\n",
       "                        <td id=\"T_ca8ff_row8_col1\" class=\"data row8 col1\" >0.0000</td>\n",
       "                        <td id=\"T_ca8ff_row8_col2\" class=\"data row8 col2\" >0.8649</td>\n",
       "                        <td id=\"T_ca8ff_row8_col3\" class=\"data row8 col3\" >0.8421</td>\n",
       "                        <td id=\"T_ca8ff_row8_col4\" class=\"data row8 col4\" >0.8533</td>\n",
       "                        <td id=\"T_ca8ff_row8_col5\" class=\"data row8 col5\" >0.7020</td>\n",
       "                        <td id=\"T_ca8ff_row8_col6\" class=\"data row8 col6\" >0.7023</td>\n",
       "            </tr>\n",
       "            <tr>\n",
       "                        <th id=\"T_ca8ff_level0_row9\" class=\"row_heading level0 row9\" >9</th>\n",
       "                        <td id=\"T_ca8ff_row9_col0\" class=\"data row9 col0\" >0.8442</td>\n",
       "                        <td id=\"T_ca8ff_row9_col1\" class=\"data row9 col1\" >0.0000</td>\n",
       "                        <td id=\"T_ca8ff_row9_col2\" class=\"data row9 col2\" >0.8604</td>\n",
       "                        <td id=\"T_ca8ff_row9_col3\" class=\"data row9 col3\" >0.8341</td>\n",
       "                        <td id=\"T_ca8ff_row9_col4\" class=\"data row9 col4\" >0.8470</td>\n",
       "                        <td id=\"T_ca8ff_row9_col5\" class=\"data row9 col5\" >0.6885</td>\n",
       "                        <td id=\"T_ca8ff_row9_col6\" class=\"data row9 col6\" >0.6888</td>\n",
       "            </tr>\n",
       "            <tr>\n",
       "                        <th id=\"T_ca8ff_level0_row10\" class=\"row_heading level0 row10\" >Mean</th>\n",
       "                        <td id=\"T_ca8ff_row10_col0\" class=\"data row10 col0\" >0.8527</td>\n",
       "                        <td id=\"T_ca8ff_row10_col1\" class=\"data row10 col1\" >0.0000</td>\n",
       "                        <td id=\"T_ca8ff_row10_col2\" class=\"data row10 col2\" >0.8669</td>\n",
       "                        <td id=\"T_ca8ff_row10_col3\" class=\"data row10 col3\" >0.8430</td>\n",
       "                        <td id=\"T_ca8ff_row10_col4\" class=\"data row10 col4\" >0.8546</td>\n",
       "                        <td id=\"T_ca8ff_row10_col5\" class=\"data row10 col5\" >0.7054</td>\n",
       "                        <td id=\"T_ca8ff_row10_col6\" class=\"data row10 col6\" >0.7060</td>\n",
       "            </tr>\n",
       "            <tr>\n",
       "                        <th id=\"T_ca8ff_level0_row11\" class=\"row_heading level0 row11\" >SD</th>\n",
       "                        <td id=\"T_ca8ff_row11_col0\" class=\"data row11 col0\" >0.0197</td>\n",
       "                        <td id=\"T_ca8ff_row11_col1\" class=\"data row11 col1\" >0.0000</td>\n",
       "                        <td id=\"T_ca8ff_row11_col2\" class=\"data row11 col2\" >0.0283</td>\n",
       "                        <td id=\"T_ca8ff_row11_col3\" class=\"data row11 col3\" >0.0174</td>\n",
       "                        <td id=\"T_ca8ff_row11_col4\" class=\"data row11 col4\" >0.0203</td>\n",
       "                        <td id=\"T_ca8ff_row11_col5\" class=\"data row11 col5\" >0.0394</td>\n",
       "                        <td id=\"T_ca8ff_row11_col6\" class=\"data row11 col6\" >0.0397</td>\n",
       "            </tr>\n",
       "    </tbody></table>"
      ],
      "text/plain": [
       "<pandas.io.formats.style.Styler at 0x2181131d9a0>"
      ]
     },
     "metadata": {},
     "output_type": "display_data"
    }
   ],
   "source": [
    "blend_hard = blend_models(estimator_list =top3, method = 'hard')\n",
    "#[lightgbm,xgboost,gbc,et,rf]"
   ]
  },
  {
   "cell_type": "code",
   "execution_count": 46,
   "metadata": {
    "pycharm": {
     "name": "#%%\n"
    }
   },
   "outputs": [
    {
     "data": {
      "text/html": [
       "<style  type=\"text/css\" >\n",
       "#T_26aeb_row10_col0,#T_26aeb_row10_col1,#T_26aeb_row10_col2,#T_26aeb_row10_col3,#T_26aeb_row10_col4,#T_26aeb_row10_col5,#T_26aeb_row10_col6{\n",
       "            background:  yellow;\n",
       "        }</style><table id=\"T_26aeb_\" ><thead>    <tr>        <th class=\"blank level0\" ></th>        <th class=\"col_heading level0 col0\" >Accuracy</th>        <th class=\"col_heading level0 col1\" >AUC</th>        <th class=\"col_heading level0 col2\" >Recall</th>        <th class=\"col_heading level0 col3\" >Prec.</th>        <th class=\"col_heading level0 col4\" >F1</th>        <th class=\"col_heading level0 col5\" >Kappa</th>        <th class=\"col_heading level0 col6\" >MCC</th>    </tr></thead><tbody>\n",
       "                <tr>\n",
       "                        <th id=\"T_26aeb_level0_row0\" class=\"row_heading level0 row0\" >0</th>\n",
       "                        <td id=\"T_26aeb_row0_col0\" class=\"data row0 col0\" >0.8333</td>\n",
       "                        <td id=\"T_26aeb_row0_col1\" class=\"data row0 col1\" >0.8986</td>\n",
       "                        <td id=\"T_26aeb_row0_col2\" class=\"data row0 col2\" >0.8243</td>\n",
       "                        <td id=\"T_26aeb_row0_col3\" class=\"data row0 col3\" >0.8394</td>\n",
       "                        <td id=\"T_26aeb_row0_col4\" class=\"data row0 col4\" >0.8318</td>\n",
       "                        <td id=\"T_26aeb_row0_col5\" class=\"data row0 col5\" >0.6667</td>\n",
       "                        <td id=\"T_26aeb_row0_col6\" class=\"data row0 col6\" >0.6668</td>\n",
       "            </tr>\n",
       "            <tr>\n",
       "                        <th id=\"T_26aeb_level0_row1\" class=\"row_heading level0 row1\" >1</th>\n",
       "                        <td id=\"T_26aeb_row1_col0\" class=\"data row1 col0\" >0.8739</td>\n",
       "                        <td id=\"T_26aeb_row1_col1\" class=\"data row1 col1\" >0.9359</td>\n",
       "                        <td id=\"T_26aeb_row1_col2\" class=\"data row1 col2\" >0.8919</td>\n",
       "                        <td id=\"T_26aeb_row1_col3\" class=\"data row1 col3\" >0.8609</td>\n",
       "                        <td id=\"T_26aeb_row1_col4\" class=\"data row1 col4\" >0.8761</td>\n",
       "                        <td id=\"T_26aeb_row1_col5\" class=\"data row1 col5\" >0.7477</td>\n",
       "                        <td id=\"T_26aeb_row1_col6\" class=\"data row1 col6\" >0.7482</td>\n",
       "            </tr>\n",
       "            <tr>\n",
       "                        <th id=\"T_26aeb_level0_row2\" class=\"row_heading level0 row2\" >2</th>\n",
       "                        <td id=\"T_26aeb_row2_col0\" class=\"data row2 col0\" >0.8874</td>\n",
       "                        <td id=\"T_26aeb_row2_col1\" class=\"data row2 col1\" >0.9494</td>\n",
       "                        <td id=\"T_26aeb_row2_col2\" class=\"data row2 col2\" >0.8874</td>\n",
       "                        <td id=\"T_26aeb_row2_col3\" class=\"data row2 col3\" >0.8874</td>\n",
       "                        <td id=\"T_26aeb_row2_col4\" class=\"data row2 col4\" >0.8874</td>\n",
       "                        <td id=\"T_26aeb_row2_col5\" class=\"data row2 col5\" >0.7748</td>\n",
       "                        <td id=\"T_26aeb_row2_col6\" class=\"data row2 col6\" >0.7748</td>\n",
       "            </tr>\n",
       "            <tr>\n",
       "                        <th id=\"T_26aeb_level0_row3\" class=\"row_heading level0 row3\" >3</th>\n",
       "                        <td id=\"T_26aeb_row3_col0\" class=\"data row3 col0\" >0.8761</td>\n",
       "                        <td id=\"T_26aeb_row3_col1\" class=\"data row3 col1\" >0.9342</td>\n",
       "                        <td id=\"T_26aeb_row3_col2\" class=\"data row3 col2\" >0.9144</td>\n",
       "                        <td id=\"T_26aeb_row3_col3\" class=\"data row3 col3\" >0.8494</td>\n",
       "                        <td id=\"T_26aeb_row3_col4\" class=\"data row3 col4\" >0.8807</td>\n",
       "                        <td id=\"T_26aeb_row3_col5\" class=\"data row3 col5\" >0.7523</td>\n",
       "                        <td id=\"T_26aeb_row3_col6\" class=\"data row3 col6\" >0.7545</td>\n",
       "            </tr>\n",
       "            <tr>\n",
       "                        <th id=\"T_26aeb_level0_row4\" class=\"row_heading level0 row4\" >4</th>\n",
       "                        <td id=\"T_26aeb_row4_col0\" class=\"data row4 col0\" >0.8194</td>\n",
       "                        <td id=\"T_26aeb_row4_col1\" class=\"data row4 col1\" >0.8989</td>\n",
       "                        <td id=\"T_26aeb_row4_col2\" class=\"data row4 col2\" >0.8235</td>\n",
       "                        <td id=\"T_26aeb_row4_col3\" class=\"data row4 col3\" >0.8161</td>\n",
       "                        <td id=\"T_26aeb_row4_col4\" class=\"data row4 col4\" >0.8198</td>\n",
       "                        <td id=\"T_26aeb_row4_col5\" class=\"data row4 col5\" >0.6388</td>\n",
       "                        <td id=\"T_26aeb_row4_col6\" class=\"data row4 col6\" >0.6389</td>\n",
       "            </tr>\n",
       "            <tr>\n",
       "                        <th id=\"T_26aeb_level0_row5\" class=\"row_heading level0 row5\" >5</th>\n",
       "                        <td id=\"T_26aeb_row5_col0\" class=\"data row5 col0\" >0.8510</td>\n",
       "                        <td id=\"T_26aeb_row5_col1\" class=\"data row5 col1\" >0.9311</td>\n",
       "                        <td id=\"T_26aeb_row5_col2\" class=\"data row5 col2\" >0.8507</td>\n",
       "                        <td id=\"T_26aeb_row5_col3\" class=\"data row5 col3\" >0.8507</td>\n",
       "                        <td id=\"T_26aeb_row5_col4\" class=\"data row5 col4\" >0.8507</td>\n",
       "                        <td id=\"T_26aeb_row5_col5\" class=\"data row5 col5\" >0.7020</td>\n",
       "                        <td id=\"T_26aeb_row5_col6\" class=\"data row5 col6\" >0.7020</td>\n",
       "            </tr>\n",
       "            <tr>\n",
       "                        <th id=\"T_26aeb_level0_row6\" class=\"row_heading level0 row6\" >6</th>\n",
       "                        <td id=\"T_26aeb_row6_col0\" class=\"data row6 col0\" >0.8691</td>\n",
       "                        <td id=\"T_26aeb_row6_col1\" class=\"data row6 col1\" >0.9168</td>\n",
       "                        <td id=\"T_26aeb_row6_col2\" class=\"data row6 col2\" >0.8688</td>\n",
       "                        <td id=\"T_26aeb_row6_col3\" class=\"data row6 col3\" >0.8688</td>\n",
       "                        <td id=\"T_26aeb_row6_col4\" class=\"data row6 col4\" >0.8688</td>\n",
       "                        <td id=\"T_26aeb_row6_col5\" class=\"data row6 col5\" >0.7381</td>\n",
       "                        <td id=\"T_26aeb_row6_col6\" class=\"data row6 col6\" >0.7381</td>\n",
       "            </tr>\n",
       "            <tr>\n",
       "                        <th id=\"T_26aeb_level0_row7\" class=\"row_heading level0 row7\" >7</th>\n",
       "                        <td id=\"T_26aeb_row7_col0\" class=\"data row7 col0\" >0.8442</td>\n",
       "                        <td id=\"T_26aeb_row7_col1\" class=\"data row7 col1\" >0.9146</td>\n",
       "                        <td id=\"T_26aeb_row7_col2\" class=\"data row7 col2\" >0.8423</td>\n",
       "                        <td id=\"T_26aeb_row7_col3\" class=\"data row7 col3\" >0.8462</td>\n",
       "                        <td id=\"T_26aeb_row7_col4\" class=\"data row7 col4\" >0.8442</td>\n",
       "                        <td id=\"T_26aeb_row7_col5\" class=\"data row7 col5\" >0.6885</td>\n",
       "                        <td id=\"T_26aeb_row7_col6\" class=\"data row7 col6\" >0.6885</td>\n",
       "            </tr>\n",
       "            <tr>\n",
       "                        <th id=\"T_26aeb_level0_row8\" class=\"row_heading level0 row8\" >8</th>\n",
       "                        <td id=\"T_26aeb_row8_col0\" class=\"data row8 col0\" >0.8533</td>\n",
       "                        <td id=\"T_26aeb_row8_col1\" class=\"data row8 col1\" >0.9338</td>\n",
       "                        <td id=\"T_26aeb_row8_col2\" class=\"data row8 col2\" >0.8739</td>\n",
       "                        <td id=\"T_26aeb_row8_col3\" class=\"data row8 col3\" >0.8398</td>\n",
       "                        <td id=\"T_26aeb_row8_col4\" class=\"data row8 col4\" >0.8565</td>\n",
       "                        <td id=\"T_26aeb_row8_col5\" class=\"data row8 col5\" >0.7065</td>\n",
       "                        <td id=\"T_26aeb_row8_col6\" class=\"data row8 col6\" >0.7071</td>\n",
       "            </tr>\n",
       "            <tr>\n",
       "                        <th id=\"T_26aeb_level0_row9\" class=\"row_heading level0 row9\" >9</th>\n",
       "                        <td id=\"T_26aeb_row9_col0\" class=\"data row9 col0\" >0.8533</td>\n",
       "                        <td id=\"T_26aeb_row9_col1\" class=\"data row9 col1\" >0.9322</td>\n",
       "                        <td id=\"T_26aeb_row9_col2\" class=\"data row9 col2\" >0.8514</td>\n",
       "                        <td id=\"T_26aeb_row9_col3\" class=\"data row9 col3\" >0.8552</td>\n",
       "                        <td id=\"T_26aeb_row9_col4\" class=\"data row9 col4\" >0.8533</td>\n",
       "                        <td id=\"T_26aeb_row9_col5\" class=\"data row9 col5\" >0.7065</td>\n",
       "                        <td id=\"T_26aeb_row9_col6\" class=\"data row9 col6\" >0.7066</td>\n",
       "            </tr>\n",
       "            <tr>\n",
       "                        <th id=\"T_26aeb_level0_row10\" class=\"row_heading level0 row10\" >Mean</th>\n",
       "                        <td id=\"T_26aeb_row10_col0\" class=\"data row10 col0\" >0.8561</td>\n",
       "                        <td id=\"T_26aeb_row10_col1\" class=\"data row10 col1\" >0.9245</td>\n",
       "                        <td id=\"T_26aeb_row10_col2\" class=\"data row10 col2\" >0.8629</td>\n",
       "                        <td id=\"T_26aeb_row10_col3\" class=\"data row10 col3\" >0.8514</td>\n",
       "                        <td id=\"T_26aeb_row10_col4\" class=\"data row10 col4\" >0.8569</td>\n",
       "                        <td id=\"T_26aeb_row10_col5\" class=\"data row10 col5\" >0.7122</td>\n",
       "                        <td id=\"T_26aeb_row10_col6\" class=\"data row10 col6\" >0.7125</td>\n",
       "            </tr>\n",
       "            <tr>\n",
       "                        <th id=\"T_26aeb_level0_row11\" class=\"row_heading level0 row11\" >SD</th>\n",
       "                        <td id=\"T_26aeb_row11_col0\" class=\"data row11 col0\" >0.0198</td>\n",
       "                        <td id=\"T_26aeb_row11_col1\" class=\"data row11 col1\" >0.0159</td>\n",
       "                        <td id=\"T_26aeb_row11_col2\" class=\"data row11 col2\" >0.0283</td>\n",
       "                        <td id=\"T_26aeb_row11_col3\" class=\"data row11 col3\" >0.0180</td>\n",
       "                        <td id=\"T_26aeb_row11_col4\" class=\"data row11 col4\" >0.0205</td>\n",
       "                        <td id=\"T_26aeb_row11_col5\" class=\"data row11 col5\" >0.0396</td>\n",
       "                        <td id=\"T_26aeb_row11_col6\" class=\"data row11 col6\" >0.0398</td>\n",
       "            </tr>\n",
       "    </tbody></table>"
      ],
      "text/plain": [
       "<pandas.io.formats.style.Styler at 0x2181116d0a0>"
      ]
     },
     "metadata": {},
     "output_type": "display_data"
    }
   ],
   "source": [
    "#Stacking\n",
    "#Level-0 Models (Base-Models):\n",
    "stack_0 = stack_models(top3)"
   ]
  }
 ],
 "metadata": {
  "kernelspec": {
   "display_name": "Python 3",
   "language": "python",
   "name": "python3"
  },
  "language_info": {
   "codemirror_mode": {
    "name": "ipython",
    "version": 3
   },
   "file_extension": ".py",
   "mimetype": "text/x-python",
   "name": "python",
   "nbconvert_exporter": "python",
   "pygments_lexer": "ipython3",
   "version": "3.8.0"
  },
  "pycharm": {
   "stem_cell": {
    "cell_type": "raw",
    "metadata": {
     "collapsed": false
    },
    "source": []
   }
  }
 },
 "nbformat": 4,
 "nbformat_minor": 4
}
